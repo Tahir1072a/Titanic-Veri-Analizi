


import numpy as np

arr_0 = np.array(42)
print(f"Dizi içeriği: {arr_0}")
print(f"Boyut: {arr_0.ndim}")

arr_1 = np.array([1,2,3,4,5])
print(f"Dizi içeriği: {arr_1}")
print(f"Boyut: {arr_1.ndim}")

arr_2 = np.array([[1,2,3],[4,5,6]]) # Matris
print(f"Dizi içeriği {arr_2}")
print(f"Boyut: {arr_2.ndim}")

arr_3 = np.array([[[1,2], [3,4]],[[5,6], [7,8]]]) # Tensör
print(f"Dizi içeriği:\n {arr_3}")
print(f"Boyut: {arr_3.ndim}")


# İndeksleme
# 2 Boyutlu Diziler
arr_2 = np.array([[1, 2, 3, 4, 5], [6, 7, 8, 9, 10]])
print(f"2B dizi: {arr_2}")

# 1. satır, 4. eleman
print(f"arr_2[0,3]:", arr_2[0,3])

# 2. satır 3. eleman
print(f"arr_2[1,2]:", arr_2[1,2])

# Negatif indeksleme
# 2. satır, sondan 3. eleman
print(f"arr_2[1,-5]:", arr_2[1,-5])

# 3 Boyutlu Diziler
arr_3b = np.array([[[1,2,3],[4,5,6]],[[7,8,11],[9,10,12]]])
print(f"3B dizi: {arr_3b}")
print(f"arr_3b[1,0,2]:", arr_3b[1,0,2])





# Slicing İşlemleri
arr = np.array([1,2,3,4,5])

print("arr[1:5] =", arr[1:5])
print("arr[-3::-1] =", arr[-3::-1])
print("arr[1:] =", arr[1:])
print("arr[1:5:2] =", arr[1:5:2])
print("arr[::2] =", arr[::2])

# 2 Boyutlu Dizilerde dilimleme
arr_2d = np.array([[1, 2, 3, 4, 5], [6, 7, 8, 9, 10]])
print("\n2D Dizi:\n",arr_2d)
print("arr_2d[1, 1:4]:", arr_2d[1, 1:4])
print("arr_2d[0:2,2] =", arr_2d[0:2,2])
print("arr_2d[0:2, 1:3]", arr_2d[0:2, 1:3])
print("arr_2d[0:, 2:4]", arr_2d[0:, 2:4])





import numpy as np

arr_s = np.array([1,2,3,4,5], dtype="S")
print("\nString olarak saklanan dizi:", arr_s)
print("Yeni Tipi:", arr_s.dtype)


# astype() => Eski dizinin içindeki verileri dönüştürerek yeni bir dizi oluşturur.

arr_float = np.array([1.1,2.4,3.2,4.5,5.8], dtype="f")
print("Float olarak saklanan dizi:", arr_float)
print("Tipi:", arr_float.dtype)

new_int_arr = arr_float.astype("i") #Eski diziyi bozmaz
print("Float Dizi:", arr_float)
print("Integer Dizi:", new_int_arr)
print("Tipi:", new_int_arr.dtype)








import numpy as np

arr_3d = np.array([[[1, 2], [3, 4]], [[5, 6], [7, 8]]])
print("3D Dizi üzerinde nditer() ile Yineleme:")
for x in np.nditer(arr_3d):
    print(x)

print("3D dizi üzerinde ndenumerate() ile Yineleme:")
for x in np.ndenumerate(arr_3d):
    print(x)





import numpy as np

# concatenate => Uç Uca ekleme
arr1 = np.array([1,2,3])
arr2 = np.array([4,5,6])
combine = np.concatenate((arr1, arr2))
print("1D Birleştirme:",combine)

print("-------------------------------------")
print("2D birleştirme")
arr_3 = np.array([[1,2], [3,4]])
arr_4 = np.array([[5,6], [7,8]])
combine_row = np.concatenate((arr_3, arr_4), axis=0) # Matrisleri satır satır birleştirir tüm satırları alır ve sütunlara aktarır.
print("\nSatır bazlı birleştirme (axis=0):\n", combine_row)

combine_col = np.concatenate((arr_3, arr_4), axis=1) # Kolonları tek bir satır haline getirdi!
print("\nSutün bazlı birleştirme (axis=1):\n", combine_col)

print("--------------------------------------")
print("Stack")
# stack() => Üst üste Yığma
arr_1 = np.array([1,2,3])
arr_2 = np.array([4,5,6])

stack_0 = np.stack((arr_1, arr_2), axis=0) # Satırları yığıyor
print("\nStack (axis=0):\n", stack_0)

stack_1 = np.stack((arr_1, arr_2), axis=1) # Sütunları yığıyor
print("\nStack (axis=1):\n", stack_1)


import numpy as np

arr = np.array([1, 2, 3, 4, 5, 6])

# 3 parçaya bölelim
bolunmus_3 = np.array_split(arr, 3)
print("\n3 Parçaya Bölme:\n", bolunmus_3) # Çıktı: [array([1, 2]), array([3, 4]), array([5, 6])] [cite: 43]
print("İlk Parça:", bolunmus_3[0]) # Çıktı: [1 2] [cite: 43]

# 4 parçaya bölelim (eşit olmayacak)
bolunmus_4 = np.array_split(arr, 4)
print("\n4 Parçaya Bölme:\n", bolunmus_4) # Çıktı: [array([1, 2]), array([3, 4]), array([5]), array([6])] [cite: 44]

# 2D diziyi sütun bazlı (axis=1) 3 parçaya bölelim
arr_2d = np.array([[1, 2, 3], [4, 5, 6], [7, 8, 9]])
bolunmus_2d_sutun = np.array_split(arr_2d, 3, axis=1)
print("\n2D Sütun Bazlı Bölme:\n", bolunmus_2d_sutun)


# Senaryo

notlar_9a = np.array([[80, 75], [65, 70], [90, 88]])
notlar_9b = np.array([[72, 68], [85, 90]])
turkce_9a = np.array([70, 80, 95])

# Tüm 9. sınıf öğrencilerin matematik ve fizik notlarını tek bir dizide toplayalım
notlar_9 = np.concatenate((notlar_9a, notlar_9b), axis=0)
print("9. sınıf mat ve fizik notları: ", notlar_9)

# Türkçe notlarını da mat ve fizik ile birlikte tutma
turkce_sutun =  turkce_9a.reshape(-1, 1)
print("Türkçe sütun:", turkce_sutun)
notlar_9a = np.concatenate((notlar_9a, turkce_sutun), axis=1)
print(f"\n Notlar 9a: {notlar_9a}")





import numpy as np
# Where

arr = np.array([1, 2, 3, 4, 5, 3, 3])
# 3 e eşit olanların indekslerini getir.
x = np.where(arr == 3)
print("3 e eşit değerli sayıların indeksi,", x)

arr2 = np.array([1, 2, 3, 4, 5, 6, 7, 8])
y = np.where(arr2 % 2 == 0)
print("Çift sayıların index değerleri", y)

new_arr = np.where(arr % 2 == 0, 1, 0) # Eğer girilen koşul doğru ise 1 yanlış ise 0 değerini döndürür.
print(new_arr)






