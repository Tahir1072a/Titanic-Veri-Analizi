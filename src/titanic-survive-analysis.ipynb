{
 "cells": [
  {
   "cell_type": "code",
   "id": "a8023cee",
   "metadata": {
    "_cell_guid": "b1076dfc-b9ad-4769-8c92-a6c4dae69d19",
    "_uuid": "8f2839f25d086af736a60e9eeb907d3b93b6e0e5",
    "execution": {
     "iopub.execute_input": "2025-06-28T08:08:17.200832Z",
     "iopub.status.busy": "2025-06-28T08:08:17.200502Z",
     "iopub.status.idle": "2025-06-28T08:08:19.086726Z",
     "shell.execute_reply": "2025-06-28T08:08:19.085596Z"
    },
    "papermill": {
     "duration": 1.892871,
     "end_time": "2025-06-28T08:08:19.088295",
     "exception": false,
     "start_time": "2025-06-28T08:08:17.195424",
     "status": "completed"
    },
    "tags": [],
    "ExecuteTime": {
     "end_time": "2025-07-03T07:56:42.257686Z",
     "start_time": "2025-07-03T07:56:42.251524Z"
    }
   },
   "source": [
    "import numpy as np\n",
    "import pandas as pd\n",
    "import os"
   ],
   "outputs": [],
   "execution_count": 2
  },
  {
   "cell_type": "code",
   "id": "3b1449bf",
   "metadata": {
    "execution": {
     "iopub.execute_input": "2025-06-28T08:08:19.095380Z",
     "iopub.status.busy": "2025-06-28T08:08:19.094967Z",
     "iopub.status.idle": "2025-06-28T08:08:19.172711Z",
     "shell.execute_reply": "2025-06-28T08:08:19.171568Z"
    },
    "papermill": {
     "duration": 0.082751,
     "end_time": "2025-06-28T08:08:19.174286",
     "exception": false,
     "start_time": "2025-06-28T08:08:19.091535",
     "status": "completed"
    },
    "tags": [],
    "ExecuteTime": {
     "end_time": "2025-07-03T07:56:42.352855Z",
     "start_time": "2025-07-03T07:56:42.292947Z"
    }
   },
   "source": [
    "train_data = pd.read_csv(\"../data/train.csv\")\n",
    "y_train = train_data[\"Survived\"]\n",
    "X_train = train_data.drop(\"Survived\", axis=1)\n",
    "\n",
    "X_test = pd.read_csv(\"../data/test.csv\")\n",
    "y_test = pd.read_csv(\"../data/gender_submission.csv\")\n",
    "y_test = np.array(y_test.drop(\"PassengerId\", axis=1))\n",
    "\n",
    "print(\"Train info:\")\n",
    "print(X_train.info())\n",
    "print(\"Test info:\")\n",
    "print(X_test.info())"
   ],
   "outputs": [
    {
     "name": "stdout",
     "output_type": "stream",
     "text": [
      "Train info:\n",
      "<class 'pandas.core.frame.DataFrame'>\n",
      "RangeIndex: 891 entries, 0 to 890\n",
      "Data columns (total 11 columns):\n",
      " #   Column       Non-Null Count  Dtype  \n",
      "---  ------       --------------  -----  \n",
      " 0   PassengerId  891 non-null    int64  \n",
      " 1   Pclass       891 non-null    int64  \n",
      " 2   Name         891 non-null    object \n",
      " 3   Sex          891 non-null    object \n",
      " 4   Age          714 non-null    float64\n",
      " 5   SibSp        891 non-null    int64  \n",
      " 6   Parch        891 non-null    int64  \n",
      " 7   Ticket       891 non-null    object \n",
      " 8   Fare         891 non-null    float64\n",
      " 9   Cabin        204 non-null    object \n",
      " 10  Embarked     889 non-null    object \n",
      "dtypes: float64(2), int64(4), object(5)\n",
      "memory usage: 76.7+ KB\n",
      "None\n",
      "Test info:\n",
      "<class 'pandas.core.frame.DataFrame'>\n",
      "RangeIndex: 418 entries, 0 to 417\n",
      "Data columns (total 11 columns):\n",
      " #   Column       Non-Null Count  Dtype  \n",
      "---  ------       --------------  -----  \n",
      " 0   PassengerId  418 non-null    int64  \n",
      " 1   Pclass       418 non-null    int64  \n",
      " 2   Name         418 non-null    object \n",
      " 3   Sex          418 non-null    object \n",
      " 4   Age          332 non-null    float64\n",
      " 5   SibSp        418 non-null    int64  \n",
      " 6   Parch        418 non-null    int64  \n",
      " 7   Ticket       418 non-null    object \n",
      " 8   Fare         417 non-null    float64\n",
      " 9   Cabin        91 non-null     object \n",
      " 10  Embarked     418 non-null    object \n",
      "dtypes: float64(2), int64(4), object(5)\n",
      "memory usage: 36.1+ KB\n",
      "None\n"
     ]
    }
   ],
   "execution_count": 3
  },
  {
   "cell_type": "code",
   "id": "27c04962",
   "metadata": {
    "execution": {
     "iopub.execute_input": "2025-06-28T08:08:19.180758Z",
     "iopub.status.busy": "2025-06-28T08:08:19.180467Z",
     "iopub.status.idle": "2025-06-28T08:08:19.209766Z",
     "shell.execute_reply": "2025-06-28T08:08:19.208751Z"
    },
    "papermill": {
     "duration": 0.034386,
     "end_time": "2025-06-28T08:08:19.211468",
     "exception": false,
     "start_time": "2025-06-28T08:08:19.177082",
     "status": "completed"
    },
    "tags": [],
    "ExecuteTime": {
     "end_time": "2025-07-03T07:56:42.386902Z",
     "start_time": "2025-07-03T07:56:42.371634Z"
    }
   },
   "source": [
    "X_train"
   ],
   "outputs": [
    {
     "data": {
      "text/plain": [
       "     PassengerId  Pclass                                               Name  \\\n",
       "0              1       3                            Braund, Mr. Owen Harris   \n",
       "1              2       1  Cumings, Mrs. John Bradley (Florence Briggs Th...   \n",
       "2              3       3                             Heikkinen, Miss. Laina   \n",
       "3              4       1       Futrelle, Mrs. Jacques Heath (Lily May Peel)   \n",
       "4              5       3                           Allen, Mr. William Henry   \n",
       "..           ...     ...                                                ...   \n",
       "886          887       2                              Montvila, Rev. Juozas   \n",
       "887          888       1                       Graham, Miss. Margaret Edith   \n",
       "888          889       3           Johnston, Miss. Catherine Helen \"Carrie\"   \n",
       "889          890       1                              Behr, Mr. Karl Howell   \n",
       "890          891       3                                Dooley, Mr. Patrick   \n",
       "\n",
       "        Sex   Age  SibSp  Parch            Ticket     Fare Cabin Embarked  \n",
       "0      male  22.0      1      0         A/5 21171   7.2500   NaN        S  \n",
       "1    female  38.0      1      0          PC 17599  71.2833   C85        C  \n",
       "2    female  26.0      0      0  STON/O2. 3101282   7.9250   NaN        S  \n",
       "3    female  35.0      1      0            113803  53.1000  C123        S  \n",
       "4      male  35.0      0      0            373450   8.0500   NaN        S  \n",
       "..      ...   ...    ...    ...               ...      ...   ...      ...  \n",
       "886    male  27.0      0      0            211536  13.0000   NaN        S  \n",
       "887  female  19.0      0      0            112053  30.0000   B42        S  \n",
       "888  female   NaN      1      2        W./C. 6607  23.4500   NaN        S  \n",
       "889    male  26.0      0      0            111369  30.0000  C148        C  \n",
       "890    male  32.0      0      0            370376   7.7500   NaN        Q  \n",
       "\n",
       "[891 rows x 11 columns]"
      ],
      "text/html": [
       "<div>\n",
       "<style scoped>\n",
       "    .dataframe tbody tr th:only-of-type {\n",
       "        vertical-align: middle;\n",
       "    }\n",
       "\n",
       "    .dataframe tbody tr th {\n",
       "        vertical-align: top;\n",
       "    }\n",
       "\n",
       "    .dataframe thead th {\n",
       "        text-align: right;\n",
       "    }\n",
       "</style>\n",
       "<table border=\"1\" class=\"dataframe\">\n",
       "  <thead>\n",
       "    <tr style=\"text-align: right;\">\n",
       "      <th></th>\n",
       "      <th>PassengerId</th>\n",
       "      <th>Pclass</th>\n",
       "      <th>Name</th>\n",
       "      <th>Sex</th>\n",
       "      <th>Age</th>\n",
       "      <th>SibSp</th>\n",
       "      <th>Parch</th>\n",
       "      <th>Ticket</th>\n",
       "      <th>Fare</th>\n",
       "      <th>Cabin</th>\n",
       "      <th>Embarked</th>\n",
       "    </tr>\n",
       "  </thead>\n",
       "  <tbody>\n",
       "    <tr>\n",
       "      <th>0</th>\n",
       "      <td>1</td>\n",
       "      <td>3</td>\n",
       "      <td>Braund, Mr. Owen Harris</td>\n",
       "      <td>male</td>\n",
       "      <td>22.0</td>\n",
       "      <td>1</td>\n",
       "      <td>0</td>\n",
       "      <td>A/5 21171</td>\n",
       "      <td>7.2500</td>\n",
       "      <td>NaN</td>\n",
       "      <td>S</td>\n",
       "    </tr>\n",
       "    <tr>\n",
       "      <th>1</th>\n",
       "      <td>2</td>\n",
       "      <td>1</td>\n",
       "      <td>Cumings, Mrs. John Bradley (Florence Briggs Th...</td>\n",
       "      <td>female</td>\n",
       "      <td>38.0</td>\n",
       "      <td>1</td>\n",
       "      <td>0</td>\n",
       "      <td>PC 17599</td>\n",
       "      <td>71.2833</td>\n",
       "      <td>C85</td>\n",
       "      <td>C</td>\n",
       "    </tr>\n",
       "    <tr>\n",
       "      <th>2</th>\n",
       "      <td>3</td>\n",
       "      <td>3</td>\n",
       "      <td>Heikkinen, Miss. Laina</td>\n",
       "      <td>female</td>\n",
       "      <td>26.0</td>\n",
       "      <td>0</td>\n",
       "      <td>0</td>\n",
       "      <td>STON/O2. 3101282</td>\n",
       "      <td>7.9250</td>\n",
       "      <td>NaN</td>\n",
       "      <td>S</td>\n",
       "    </tr>\n",
       "    <tr>\n",
       "      <th>3</th>\n",
       "      <td>4</td>\n",
       "      <td>1</td>\n",
       "      <td>Futrelle, Mrs. Jacques Heath (Lily May Peel)</td>\n",
       "      <td>female</td>\n",
       "      <td>35.0</td>\n",
       "      <td>1</td>\n",
       "      <td>0</td>\n",
       "      <td>113803</td>\n",
       "      <td>53.1000</td>\n",
       "      <td>C123</td>\n",
       "      <td>S</td>\n",
       "    </tr>\n",
       "    <tr>\n",
       "      <th>4</th>\n",
       "      <td>5</td>\n",
       "      <td>3</td>\n",
       "      <td>Allen, Mr. William Henry</td>\n",
       "      <td>male</td>\n",
       "      <td>35.0</td>\n",
       "      <td>0</td>\n",
       "      <td>0</td>\n",
       "      <td>373450</td>\n",
       "      <td>8.0500</td>\n",
       "      <td>NaN</td>\n",
       "      <td>S</td>\n",
       "    </tr>\n",
       "    <tr>\n",
       "      <th>...</th>\n",
       "      <td>...</td>\n",
       "      <td>...</td>\n",
       "      <td>...</td>\n",
       "      <td>...</td>\n",
       "      <td>...</td>\n",
       "      <td>...</td>\n",
       "      <td>...</td>\n",
       "      <td>...</td>\n",
       "      <td>...</td>\n",
       "      <td>...</td>\n",
       "      <td>...</td>\n",
       "    </tr>\n",
       "    <tr>\n",
       "      <th>886</th>\n",
       "      <td>887</td>\n",
       "      <td>2</td>\n",
       "      <td>Montvila, Rev. Juozas</td>\n",
       "      <td>male</td>\n",
       "      <td>27.0</td>\n",
       "      <td>0</td>\n",
       "      <td>0</td>\n",
       "      <td>211536</td>\n",
       "      <td>13.0000</td>\n",
       "      <td>NaN</td>\n",
       "      <td>S</td>\n",
       "    </tr>\n",
       "    <tr>\n",
       "      <th>887</th>\n",
       "      <td>888</td>\n",
       "      <td>1</td>\n",
       "      <td>Graham, Miss. Margaret Edith</td>\n",
       "      <td>female</td>\n",
       "      <td>19.0</td>\n",
       "      <td>0</td>\n",
       "      <td>0</td>\n",
       "      <td>112053</td>\n",
       "      <td>30.0000</td>\n",
       "      <td>B42</td>\n",
       "      <td>S</td>\n",
       "    </tr>\n",
       "    <tr>\n",
       "      <th>888</th>\n",
       "      <td>889</td>\n",
       "      <td>3</td>\n",
       "      <td>Johnston, Miss. Catherine Helen \"Carrie\"</td>\n",
       "      <td>female</td>\n",
       "      <td>NaN</td>\n",
       "      <td>1</td>\n",
       "      <td>2</td>\n",
       "      <td>W./C. 6607</td>\n",
       "      <td>23.4500</td>\n",
       "      <td>NaN</td>\n",
       "      <td>S</td>\n",
       "    </tr>\n",
       "    <tr>\n",
       "      <th>889</th>\n",
       "      <td>890</td>\n",
       "      <td>1</td>\n",
       "      <td>Behr, Mr. Karl Howell</td>\n",
       "      <td>male</td>\n",
       "      <td>26.0</td>\n",
       "      <td>0</td>\n",
       "      <td>0</td>\n",
       "      <td>111369</td>\n",
       "      <td>30.0000</td>\n",
       "      <td>C148</td>\n",
       "      <td>C</td>\n",
       "    </tr>\n",
       "    <tr>\n",
       "      <th>890</th>\n",
       "      <td>891</td>\n",
       "      <td>3</td>\n",
       "      <td>Dooley, Mr. Patrick</td>\n",
       "      <td>male</td>\n",
       "      <td>32.0</td>\n",
       "      <td>0</td>\n",
       "      <td>0</td>\n",
       "      <td>370376</td>\n",
       "      <td>7.7500</td>\n",
       "      <td>NaN</td>\n",
       "      <td>Q</td>\n",
       "    </tr>\n",
       "  </tbody>\n",
       "</table>\n",
       "<p>891 rows × 11 columns</p>\n",
       "</div>"
      ]
     },
     "execution_count": 4,
     "metadata": {},
     "output_type": "execute_result"
    }
   ],
   "execution_count": 4
  },
  {
   "cell_type": "code",
   "id": "622dbe9a",
   "metadata": {
    "execution": {
     "iopub.execute_input": "2025-06-28T08:08:19.218794Z",
     "iopub.status.busy": "2025-06-28T08:08:19.218522Z",
     "iopub.status.idle": "2025-06-28T08:08:19.237145Z",
     "shell.execute_reply": "2025-06-28T08:08:19.235901Z"
    },
    "papermill": {
     "duration": 0.024111,
     "end_time": "2025-06-28T08:08:19.238676",
     "exception": false,
     "start_time": "2025-06-28T08:08:19.214565",
     "status": "completed"
    },
    "tags": [],
    "ExecuteTime": {
     "end_time": "2025-07-03T07:56:42.415889Z",
     "start_time": "2025-07-03T07:56:42.401612Z"
    }
   },
   "source": [
    "age_mean = int(X_train[\"Age\"].mean() + 0.5)\n",
    "print(f\"Ortalama yaş değeri: {age_mean}\")\n",
    "\n",
    "X_train[\"Age\"] = X_train[\"Age\"].fillna(age_mean)\n",
    "X_train.info()\n",
    "\n",
    "age_mean = (X_test[\"Age\"].mean() + 0.5)\n",
    "\n",
    "print(f\"Test veris seti ortalama yaş: {age_mean}\")\n",
    "X_test[\"Age\"] = X_test[\"Age\"].fillna(age_mean)\n",
    "X_test.info()"
   ],
   "outputs": [
    {
     "name": "stdout",
     "output_type": "stream",
     "text": [
      "Ortalama yaş değeri: 30\n",
      "<class 'pandas.core.frame.DataFrame'>\n",
      "RangeIndex: 891 entries, 0 to 890\n",
      "Data columns (total 11 columns):\n",
      " #   Column       Non-Null Count  Dtype  \n",
      "---  ------       --------------  -----  \n",
      " 0   PassengerId  891 non-null    int64  \n",
      " 1   Pclass       891 non-null    int64  \n",
      " 2   Name         891 non-null    object \n",
      " 3   Sex          891 non-null    object \n",
      " 4   Age          891 non-null    float64\n",
      " 5   SibSp        891 non-null    int64  \n",
      " 6   Parch        891 non-null    int64  \n",
      " 7   Ticket       891 non-null    object \n",
      " 8   Fare         891 non-null    float64\n",
      " 9   Cabin        204 non-null    object \n",
      " 10  Embarked     889 non-null    object \n",
      "dtypes: float64(2), int64(4), object(5)\n",
      "memory usage: 76.7+ KB\n",
      "Test veris seti ortalama yaş: 30.772590361445783\n",
      "<class 'pandas.core.frame.DataFrame'>\n",
      "RangeIndex: 418 entries, 0 to 417\n",
      "Data columns (total 11 columns):\n",
      " #   Column       Non-Null Count  Dtype  \n",
      "---  ------       --------------  -----  \n",
      " 0   PassengerId  418 non-null    int64  \n",
      " 1   Pclass       418 non-null    int64  \n",
      " 2   Name         418 non-null    object \n",
      " 3   Sex          418 non-null    object \n",
      " 4   Age          418 non-null    float64\n",
      " 5   SibSp        418 non-null    int64  \n",
      " 6   Parch        418 non-null    int64  \n",
      " 7   Ticket       418 non-null    object \n",
      " 8   Fare         417 non-null    float64\n",
      " 9   Cabin        91 non-null     object \n",
      " 10  Embarked     418 non-null    object \n",
      "dtypes: float64(2), int64(4), object(5)\n",
      "memory usage: 36.1+ KB\n"
     ]
    }
   ],
   "execution_count": 5
  },
  {
   "cell_type": "code",
   "id": "f74ff29a",
   "metadata": {
    "execution": {
     "iopub.execute_input": "2025-06-28T08:08:19.246267Z",
     "iopub.status.busy": "2025-06-28T08:08:19.245991Z",
     "iopub.status.idle": "2025-06-28T08:08:19.264794Z",
     "shell.execute_reply": "2025-06-28T08:08:19.263681Z"
    },
    "papermill": {
     "duration": 0.024338,
     "end_time": "2025-06-28T08:08:19.266435",
     "exception": false,
     "start_time": "2025-06-28T08:08:19.242097",
     "status": "completed"
    },
    "tags": [],
    "ExecuteTime": {
     "end_time": "2025-07-03T07:56:42.453523Z",
     "start_time": "2025-07-03T07:56:42.439855Z"
    }
   },
   "source": [
    "# Cabin numarası olmayanları 0 ile dolduruyorum. Bu feature'ı da bir sınıf olarak kabul edeceğim.\n",
    "\n",
    "X_train['Has_Cabin'] = np.where(X_train['Cabin'].notnull(), 1, 0)\n",
    "X_test['Has_Cabin'] = np.where(X_test['Cabin'].notnull(), 1, 0)\n",
    "\n",
    "X_train.drop('Cabin', axis=1, inplace=True)\n",
    "X_test.drop('Cabin', axis=1, inplace=True)\n",
    "\n",
    "X_train.info()\n",
    "X_test.info()"
   ],
   "outputs": [
    {
     "name": "stdout",
     "output_type": "stream",
     "text": [
      "<class 'pandas.core.frame.DataFrame'>\n",
      "RangeIndex: 891 entries, 0 to 890\n",
      "Data columns (total 11 columns):\n",
      " #   Column       Non-Null Count  Dtype  \n",
      "---  ------       --------------  -----  \n",
      " 0   PassengerId  891 non-null    int64  \n",
      " 1   Pclass       891 non-null    int64  \n",
      " 2   Name         891 non-null    object \n",
      " 3   Sex          891 non-null    object \n",
      " 4   Age          891 non-null    float64\n",
      " 5   SibSp        891 non-null    int64  \n",
      " 6   Parch        891 non-null    int64  \n",
      " 7   Ticket       891 non-null    object \n",
      " 8   Fare         891 non-null    float64\n",
      " 9   Embarked     889 non-null    object \n",
      " 10  Has_Cabin    891 non-null    int32  \n",
      "dtypes: float64(2), int32(1), int64(4), object(4)\n",
      "memory usage: 73.2+ KB\n",
      "<class 'pandas.core.frame.DataFrame'>\n",
      "RangeIndex: 418 entries, 0 to 417\n",
      "Data columns (total 11 columns):\n",
      " #   Column       Non-Null Count  Dtype  \n",
      "---  ------       --------------  -----  \n",
      " 0   PassengerId  418 non-null    int64  \n",
      " 1   Pclass       418 non-null    int64  \n",
      " 2   Name         418 non-null    object \n",
      " 3   Sex          418 non-null    object \n",
      " 4   Age          418 non-null    float64\n",
      " 5   SibSp        418 non-null    int64  \n",
      " 6   Parch        418 non-null    int64  \n",
      " 7   Ticket       418 non-null    object \n",
      " 8   Fare         417 non-null    float64\n",
      " 9   Embarked     418 non-null    object \n",
      " 10  Has_Cabin    418 non-null    int32  \n",
      "dtypes: float64(2), int32(1), int64(4), object(4)\n",
      "memory usage: 34.4+ KB\n"
     ]
    }
   ],
   "execution_count": 6
  },
  {
   "cell_type": "code",
   "id": "cc323a5d",
   "metadata": {
    "execution": {
     "iopub.execute_input": "2025-06-28T08:08:19.274818Z",
     "iopub.status.busy": "2025-06-28T08:08:19.273777Z",
     "iopub.status.idle": "2025-06-28T08:08:19.295435Z",
     "shell.execute_reply": "2025-06-28T08:08:19.293913Z"
    },
    "papermill": {
     "duration": 0.027105,
     "end_time": "2025-06-28T08:08:19.296906",
     "exception": false,
     "start_time": "2025-06-28T08:08:19.269801",
     "status": "completed"
    },
    "tags": [],
    "ExecuteTime": {
     "end_time": "2025-07-03T07:56:42.520350Z",
     "start_time": "2025-07-03T07:56:42.506988Z"
    }
   },
   "source": [
    "# Embarked feature'ı tamamen kaldırıyorum. Binilen yerin hayatta kalma ile orantılı olduğunu düşünmüyorum.\n",
    "# Ayrıca buna benzer olarak hayatta kalma ile iliglis olmayan diğer feature'ları da kaldırıyorum.\n",
    "\n",
    "X_train.drop([\"Embarked\", \"Ticket\", \"PassengerId\", \"Name\"], axis=1, inplace=True)\n",
    "X_test.drop([\"Embarked\", \"Ticket\", \"PassengerId\", \"Name\"], axis=1, inplace=True)\n",
    "\n",
    "# X_test deki boş olan Fare feature'ını ortalama değer ile değiştiriyoruz.\n",
    "\n",
    "mean_fare = round(X_test[\"Fare\"].mean(), 4)\n",
    "print(f\"X_test mean fare: {mean_fare}\")\n",
    "X_test[\"Fare\"] = X_test[\"Fare\"].fillna(mean_fare)\n",
    "\n",
    "X_test.info()\n",
    "X_train.info()\n",
    "\n",
    "## Veri setimiz artık daha temiz. Şimdi ölçeklendirme aşamasına geçebiliriz."
   ],
   "outputs": [
    {
     "name": "stdout",
     "output_type": "stream",
     "text": [
      "X_test mean fare: 35.6272\n",
      "<class 'pandas.core.frame.DataFrame'>\n",
      "RangeIndex: 418 entries, 0 to 417\n",
      "Data columns (total 7 columns):\n",
      " #   Column     Non-Null Count  Dtype  \n",
      "---  ------     --------------  -----  \n",
      " 0   Pclass     418 non-null    int64  \n",
      " 1   Sex        418 non-null    object \n",
      " 2   Age        418 non-null    float64\n",
      " 3   SibSp      418 non-null    int64  \n",
      " 4   Parch      418 non-null    int64  \n",
      " 5   Fare       418 non-null    float64\n",
      " 6   Has_Cabin  418 non-null    int32  \n",
      "dtypes: float64(2), int32(1), int64(3), object(1)\n",
      "memory usage: 21.4+ KB\n",
      "<class 'pandas.core.frame.DataFrame'>\n",
      "RangeIndex: 891 entries, 0 to 890\n",
      "Data columns (total 7 columns):\n",
      " #   Column     Non-Null Count  Dtype  \n",
      "---  ------     --------------  -----  \n",
      " 0   Pclass     891 non-null    int64  \n",
      " 1   Sex        891 non-null    object \n",
      " 2   Age        891 non-null    float64\n",
      " 3   SibSp      891 non-null    int64  \n",
      " 4   Parch      891 non-null    int64  \n",
      " 5   Fare       891 non-null    float64\n",
      " 6   Has_Cabin  891 non-null    int32  \n",
      "dtypes: float64(2), int32(1), int64(3), object(1)\n",
      "memory usage: 45.4+ KB\n"
     ]
    }
   ],
   "execution_count": 7
  },
  {
   "cell_type": "code",
   "id": "cb82daea",
   "metadata": {
    "execution": {
     "iopub.execute_input": "2025-06-28T08:08:19.305591Z",
     "iopub.status.busy": "2025-06-28T08:08:19.304642Z",
     "iopub.status.idle": "2025-06-28T08:08:21.177406Z",
     "shell.execute_reply": "2025-06-28T08:08:21.176377Z"
    },
    "papermill": {
     "duration": 1.87844,
     "end_time": "2025-06-28T08:08:21.178862",
     "exception": false,
     "start_time": "2025-06-28T08:08:19.300422",
     "status": "completed"
    },
    "tags": [],
    "ExecuteTime": {
     "end_time": "2025-07-03T07:56:42.652865Z",
     "start_time": "2025-07-03T07:56:42.611560Z"
    }
   },
   "source": [
    "from sklearn.preprocessing import StandardScaler, OneHotEncoder\n",
    "from sklearn.impute import SimpleImputer\n",
    "from sklearn.compose import ColumnTransformer\n",
    "from sklearn.pipeline import Pipeline\n",
    "\n",
    "# Ölçeklendirme feature'ın sayısal mı yoksa kategorik mi olduğuna göre değişiklik gösterecektir. O yüzden onları ayırıyorum.\n",
    "numerical_features = X_train.select_dtypes(include=['int64', 'float64']).columns\n",
    "categorical_features = X_train.select_dtypes(include=['object', 'category']).columns\n",
    "\n",
    "print(\"Sayısal Sütunlar:\", list(numerical_features))\n",
    "print(\"Kategorik Sütunlar:\", list(categorical_features))\n",
    "\n",
    "\n",
    "# Pipeline => Burada imputer fonksiyonu eğer dataset içerisinde null sayısal değişkenler var ise onları ortalama değer ile doldurulmasını sağlar.\n",
    "# Biz bunu yukarıda manuel olrak yapmış olsak da burada tek parça halinde nasıl yapılır onu gösterdim.\n",
    "# Sayısal dönüşümler/ Reçete...\n",
    "numerical_transformer = Pipeline(steps=[\n",
    "    ('imputer', SimpleImputer(strategy='median')),\n",
    "    ('scaler', StandardScaler())\n",
    "])\n",
    "\n",
    "# Burada kullanılan imputer ise none/null verileri en sık tekrar (mod) eden ile doldurur.\n",
    "# One Hot Encoder, kategorik değişkenler için bir ölçeklendirme yöntemidir. String verileri, numeric sütunlara çevirir. Label Encoding'den farklıdır. Modelleri eğitmek için daha sağlam bir yöntem.\n",
    "# handle_unknown='ignore' -> test setinde eğitimde görülmeyen bir kategori olursa hata vermeden onu görmezden gelmesini sağlar.\n",
    "categorical_transformer = Pipeline(steps=[\n",
    "    ('imputer', SimpleImputer(strategy='most_frequent')),\n",
    "    ('onehot', OneHotEncoder(handle_unknown='ignore'))\n",
    "])\n",
    "\n",
    "\n",
    "# Pipeline'ları birleştirme\n",
    "preprocessor = ColumnTransformer(\n",
    "    transformers=[\n",
    "        ('num', numerical_transformer, numerical_features),\n",
    "        ('cat', categorical_transformer, categorical_features)\n",
    "    ],\n",
    "    remainder='passthrough' # Belirtilmeyen sütunlara ne yapılacağını söyler (burada dokunma/geç diyoruz)\n",
    ")\n",
    "\n",
    "# Ölçeklenmiş veriler... Artık\n",
    "X_train_scaled = preprocessor.fit_transform(X_train)\n",
    "X_test_scaled = preprocessor.transform(X_test)\n",
    "\n",
    "# Result\n",
    "print(\"\\nOrijinal Eğitim Verisi Boyutu:\", X_train.shape)\n",
    "print(\"Ölçeklenmiş Eğitim Verisi Boyutu:\", X_train_scaled.shape)\n",
    "print(\"\\nÖlçeklenmiş Veri (İlk 5 Satır):\")\n",
    "\n",
    "scaled_df = pd.DataFrame(X_train_scaled, columns=preprocessor.get_feature_names_out())\n",
    "scaled_df.info()\n",
    "\n",
    "scaled_df"
   ],
   "outputs": [
    {
     "name": "stdout",
     "output_type": "stream",
     "text": [
      "Sayısal Sütunlar: ['Pclass', 'Age', 'SibSp', 'Parch', 'Fare']\n",
      "Kategorik Sütunlar: ['Sex']\n",
      "\n",
      "Orijinal Eğitim Verisi Boyutu: (891, 7)\n",
      "Ölçeklenmiş Eğitim Verisi Boyutu: (891, 8)\n",
      "\n",
      "Ölçeklenmiş Veri (İlk 5 Satır):\n",
      "<class 'pandas.core.frame.DataFrame'>\n",
      "RangeIndex: 891 entries, 0 to 890\n",
      "Data columns (total 8 columns):\n",
      " #   Column                Non-Null Count  Dtype  \n",
      "---  ------                --------------  -----  \n",
      " 0   num__Pclass           891 non-null    float64\n",
      " 1   num__Age              891 non-null    float64\n",
      " 2   num__SibSp            891 non-null    float64\n",
      " 3   num__Parch            891 non-null    float64\n",
      " 4   num__Fare             891 non-null    float64\n",
      " 5   cat__Sex_female       891 non-null    float64\n",
      " 6   cat__Sex_male         891 non-null    float64\n",
      " 7   remainder__Has_Cabin  891 non-null    float64\n",
      "dtypes: float64(8)\n",
      "memory usage: 55.8 KB\n"
     ]
    },
    {
     "data": {
      "text/plain": [
       "     num__Pclass  num__Age  num__SibSp  num__Parch  num__Fare  \\\n",
       "0       0.827377 -0.597055    0.432793   -0.473674  -0.502445   \n",
       "1      -1.566107  0.634162    0.432793   -0.473674   0.786845   \n",
       "2       0.827377 -0.289251   -0.474545   -0.473674  -0.488854   \n",
       "3      -1.566107  0.403309    0.432793   -0.473674   0.420730   \n",
       "4       0.827377  0.403309   -0.474545   -0.473674  -0.486337   \n",
       "..           ...       ...         ...         ...        ...   \n",
       "886    -0.369365 -0.212299   -0.474545   -0.473674  -0.386671   \n",
       "887    -1.566107 -0.827908   -0.474545   -0.473674  -0.044381   \n",
       "888     0.827377  0.018554    0.432793    2.008933  -0.176263   \n",
       "889    -1.566107 -0.289251   -0.474545   -0.473674  -0.044381   \n",
       "890     0.827377  0.172456   -0.474545   -0.473674  -0.492378   \n",
       "\n",
       "     cat__Sex_female  cat__Sex_male  remainder__Has_Cabin  \n",
       "0                0.0            1.0                   0.0  \n",
       "1                1.0            0.0                   1.0  \n",
       "2                1.0            0.0                   0.0  \n",
       "3                1.0            0.0                   1.0  \n",
       "4                0.0            1.0                   0.0  \n",
       "..               ...            ...                   ...  \n",
       "886              0.0            1.0                   0.0  \n",
       "887              1.0            0.0                   1.0  \n",
       "888              1.0            0.0                   0.0  \n",
       "889              0.0            1.0                   1.0  \n",
       "890              0.0            1.0                   0.0  \n",
       "\n",
       "[891 rows x 8 columns]"
      ],
      "text/html": [
       "<div>\n",
       "<style scoped>\n",
       "    .dataframe tbody tr th:only-of-type {\n",
       "        vertical-align: middle;\n",
       "    }\n",
       "\n",
       "    .dataframe tbody tr th {\n",
       "        vertical-align: top;\n",
       "    }\n",
       "\n",
       "    .dataframe thead th {\n",
       "        text-align: right;\n",
       "    }\n",
       "</style>\n",
       "<table border=\"1\" class=\"dataframe\">\n",
       "  <thead>\n",
       "    <tr style=\"text-align: right;\">\n",
       "      <th></th>\n",
       "      <th>num__Pclass</th>\n",
       "      <th>num__Age</th>\n",
       "      <th>num__SibSp</th>\n",
       "      <th>num__Parch</th>\n",
       "      <th>num__Fare</th>\n",
       "      <th>cat__Sex_female</th>\n",
       "      <th>cat__Sex_male</th>\n",
       "      <th>remainder__Has_Cabin</th>\n",
       "    </tr>\n",
       "  </thead>\n",
       "  <tbody>\n",
       "    <tr>\n",
       "      <th>0</th>\n",
       "      <td>0.827377</td>\n",
       "      <td>-0.597055</td>\n",
       "      <td>0.432793</td>\n",
       "      <td>-0.473674</td>\n",
       "      <td>-0.502445</td>\n",
       "      <td>0.0</td>\n",
       "      <td>1.0</td>\n",
       "      <td>0.0</td>\n",
       "    </tr>\n",
       "    <tr>\n",
       "      <th>1</th>\n",
       "      <td>-1.566107</td>\n",
       "      <td>0.634162</td>\n",
       "      <td>0.432793</td>\n",
       "      <td>-0.473674</td>\n",
       "      <td>0.786845</td>\n",
       "      <td>1.0</td>\n",
       "      <td>0.0</td>\n",
       "      <td>1.0</td>\n",
       "    </tr>\n",
       "    <tr>\n",
       "      <th>2</th>\n",
       "      <td>0.827377</td>\n",
       "      <td>-0.289251</td>\n",
       "      <td>-0.474545</td>\n",
       "      <td>-0.473674</td>\n",
       "      <td>-0.488854</td>\n",
       "      <td>1.0</td>\n",
       "      <td>0.0</td>\n",
       "      <td>0.0</td>\n",
       "    </tr>\n",
       "    <tr>\n",
       "      <th>3</th>\n",
       "      <td>-1.566107</td>\n",
       "      <td>0.403309</td>\n",
       "      <td>0.432793</td>\n",
       "      <td>-0.473674</td>\n",
       "      <td>0.420730</td>\n",
       "      <td>1.0</td>\n",
       "      <td>0.0</td>\n",
       "      <td>1.0</td>\n",
       "    </tr>\n",
       "    <tr>\n",
       "      <th>4</th>\n",
       "      <td>0.827377</td>\n",
       "      <td>0.403309</td>\n",
       "      <td>-0.474545</td>\n",
       "      <td>-0.473674</td>\n",
       "      <td>-0.486337</td>\n",
       "      <td>0.0</td>\n",
       "      <td>1.0</td>\n",
       "      <td>0.0</td>\n",
       "    </tr>\n",
       "    <tr>\n",
       "      <th>...</th>\n",
       "      <td>...</td>\n",
       "      <td>...</td>\n",
       "      <td>...</td>\n",
       "      <td>...</td>\n",
       "      <td>...</td>\n",
       "      <td>...</td>\n",
       "      <td>...</td>\n",
       "      <td>...</td>\n",
       "    </tr>\n",
       "    <tr>\n",
       "      <th>886</th>\n",
       "      <td>-0.369365</td>\n",
       "      <td>-0.212299</td>\n",
       "      <td>-0.474545</td>\n",
       "      <td>-0.473674</td>\n",
       "      <td>-0.386671</td>\n",
       "      <td>0.0</td>\n",
       "      <td>1.0</td>\n",
       "      <td>0.0</td>\n",
       "    </tr>\n",
       "    <tr>\n",
       "      <th>887</th>\n",
       "      <td>-1.566107</td>\n",
       "      <td>-0.827908</td>\n",
       "      <td>-0.474545</td>\n",
       "      <td>-0.473674</td>\n",
       "      <td>-0.044381</td>\n",
       "      <td>1.0</td>\n",
       "      <td>0.0</td>\n",
       "      <td>1.0</td>\n",
       "    </tr>\n",
       "    <tr>\n",
       "      <th>888</th>\n",
       "      <td>0.827377</td>\n",
       "      <td>0.018554</td>\n",
       "      <td>0.432793</td>\n",
       "      <td>2.008933</td>\n",
       "      <td>-0.176263</td>\n",
       "      <td>1.0</td>\n",
       "      <td>0.0</td>\n",
       "      <td>0.0</td>\n",
       "    </tr>\n",
       "    <tr>\n",
       "      <th>889</th>\n",
       "      <td>-1.566107</td>\n",
       "      <td>-0.289251</td>\n",
       "      <td>-0.474545</td>\n",
       "      <td>-0.473674</td>\n",
       "      <td>-0.044381</td>\n",
       "      <td>0.0</td>\n",
       "      <td>1.0</td>\n",
       "      <td>1.0</td>\n",
       "    </tr>\n",
       "    <tr>\n",
       "      <th>890</th>\n",
       "      <td>0.827377</td>\n",
       "      <td>0.172456</td>\n",
       "      <td>-0.474545</td>\n",
       "      <td>-0.473674</td>\n",
       "      <td>-0.492378</td>\n",
       "      <td>0.0</td>\n",
       "      <td>1.0</td>\n",
       "      <td>0.0</td>\n",
       "    </tr>\n",
       "  </tbody>\n",
       "</table>\n",
       "<p>891 rows × 8 columns</p>\n",
       "</div>"
      ]
     },
     "execution_count": 8,
     "metadata": {},
     "output_type": "execute_result"
    }
   ],
   "execution_count": 8
  },
  {
   "metadata": {},
   "cell_type": "markdown",
   "source": "### KNN ile Model Eğitimi",
   "id": "ecf2b24676f151ab"
  },
  {
   "cell_type": "code",
   "id": "7b012896",
   "metadata": {
    "execution": {
     "iopub.execute_input": "2025-06-28T08:08:21.186826Z",
     "iopub.status.busy": "2025-06-28T08:08:21.186368Z",
     "iopub.status.idle": "2025-06-28T08:08:21.202106Z",
     "shell.execute_reply": "2025-06-28T08:08:21.201188Z"
    },
    "papermill": {
     "duration": 0.021253,
     "end_time": "2025-06-28T08:08:21.203549",
     "exception": false,
     "start_time": "2025-06-28T08:08:21.182296",
     "status": "completed"
    },
    "tags": [],
    "ExecuteTime": {
     "end_time": "2025-07-03T07:56:42.846423Z",
     "start_time": "2025-07-03T07:56:42.823109Z"
    }
   },
   "source": [
    "from sklearn.neighbors import KNeighborsClassifier\n",
    "from sklearn.metrics import accuracy_score, confusion_matrix\n",
    "\n",
    "knn = KNeighborsClassifier(n_neighbors=9) # HyperParametre'yi default olarak 9 alıyoruz. Bunu daha sonra optimize edeceğiz.\n",
    "knn.fit(X=X_train_scaled, y=y_train)\n",
    "\n",
    "y_pred = knn.predict(X=X_test_scaled)\n",
    "\n",
    "score = accuracy_score(y_pred=y_pred, y_true=y_test)\n",
    "\n",
    "print(f\"Score: {score}\")"
   ],
   "outputs": [
    {
     "name": "stdout",
     "output_type": "stream",
     "text": [
      "Score: 0.8899521531100478\n"
     ]
    }
   ],
   "execution_count": 9
  },
  {
   "cell_type": "code",
   "id": "8dcd51bc",
   "metadata": {
    "execution": {
     "iopub.execute_input": "2025-06-28T08:08:21.211871Z",
     "iopub.status.busy": "2025-06-28T08:08:21.211292Z",
     "iopub.status.idle": "2025-06-28T08:08:21.239806Z",
     "shell.execute_reply": "2025-06-28T08:08:21.238802Z"
    },
    "papermill": {
     "duration": 0.034021,
     "end_time": "2025-06-28T08:08:21.241227",
     "exception": false,
     "start_time": "2025-06-28T08:08:21.207206",
     "status": "completed"
    },
    "tags": [],
    "ExecuteTime": {
     "end_time": "2025-07-03T07:56:43.877845Z",
     "start_time": "2025-07-03T07:56:42.884719Z"
    }
   },
   "source": [
    "# Hyperparameter Optimization\n",
    "import matplotlib.pyplot as plt\n",
    "\n",
    "score_list = []\n",
    "n_neighbours = range(1, 50, 2)\n",
    "for n_neighbour in n_neighbours:\n",
    "    new_knn = KNeighborsClassifier(n_neighbors=n_neighbour)\n",
    "    new_knn.fit(X=X_train_scaled, y=y_train)\n",
    "\n",
    "    y_pred = new_knn.predict(X=X_test_scaled)\n",
    "    score = accuracy_score(y_pred=y_pred, y_true=y_test)\n",
    "    score_list.append(score)\n",
    "\n",
    "max_score_idx = np.argmax(score_list)\n",
    "best_score = score_list[max_score_idx]\n",
    "best_n_neighbour = n_neighbours[max_score_idx]\n",
    "\n",
    "plt.figure(figsize=(15, 10))\n",
    "plt.scatter(x=n_neighbours, y=score_list, c=\"red\", marker=\"x\", label=\"Accuracy Scores\")\n",
    "plt.annotate(\n",
    "    text=f'En İyi Skor\\nk={best_n_neighbour}\\nSkor={best_score:.4f}', # İşaretin metni\n",
    "    xy=(best_n_neighbour, best_score), # Okun ucu nereyi gösterecek (x,y)\n",
    "    xytext=(best_n_neighbour + 1, best_score - 0.03), # Metin nerede duracak (x,y)\n",
    "    arrowprops=dict(arrowstyle='->', color='black', linewidth=1.0, linestyle='--',connectionstyle=\"angle3\"), # Okun stili\n",
    "    fontsize=10,\n",
    "    bbox=dict(boxstyle=\"round,pad=0.5\", fc=\"blue\", alpha=0.3) # Metin kutusu stili\n",
    ")\n",
    "plt.title(\"Accuracy Score vs Number of Neighbours\")\n",
    "plt.xlabel(\"Number of Neighbour\")\n",
    "plt.ylabel(\"Accuracy Score\")\n",
    "plt.legend(loc=\"lower right\")\n",
    "plt.grid(True, linestyle='--', alpha=0.6)\n",
    "plt.show()\n",
    "\n",
    "# Grafikte görüldüğü üzere k = 41 değeri, algoritma için en optimum değer olarak gözüküyor."
   ],
   "outputs": [
    {
     "data": {
      "text/plain": [
       "<Figure size 1500x1000 with 1 Axes>"
      ],
      "image/png": "[encoded data removed]"
     },
     "metadata": {},
     "output_type": "display_data"
    }
   ],
   "execution_count": 10
  },
  {
   "metadata": {},
   "cell_type": "markdown",
   "source": "### Desicion Tree ile Model Eğitimi",
   "id": "60ebf7d6f7c594e2"
  },
  {
   "cell_type": "code",
   "id": "7664e905",
   "metadata": {
    "papermill": {
     "duration": 0.003301,
     "end_time": "2025-06-28T08:08:21.248314",
     "exception": false,
     "start_time": "2025-06-28T08:08:21.245013",
     "status": "completed"
    },
    "tags": [],
    "ExecuteTime": {
     "end_time": "2025-07-03T07:56:43.894359Z",
     "start_time": "2025-07-03T07:56:43.881863Z"
    }
   },
   "source": [
    "from sklearn.tree import DecisionTreeClassifier, plot_tree\n",
    "from sklearn.metrics import accuracy_score, confusion_matrix, f1_score\n",
    "\n",
    "tree_clf = DecisionTreeClassifier(criterion=\"gini\", max_depth=6, random_state=42)\n",
    "tree_clf.fit(X_train_scaled, y_train)\n",
    "\n",
    "y_pred = tree_clf.predict(X_test_scaled)\n",
    "\n",
    "accuracy = accuracy_score(y_test, y_pred)\n",
    "print(f\"Accuracy Score: {accuracy}\")"
   ],
   "outputs": [
    {
     "name": "stdout",
     "output_type": "stream",
     "text": [
      "Accuracy Score: 0.8373205741626795\n"
     ]
    }
   ],
   "execution_count": 11
  },
  {
   "metadata": {
    "ExecuteTime": {
     "end_time": "2025-07-03T07:56:44.139051Z",
     "start_time": "2025-07-03T07:56:43.943350Z"
    }
   },
   "cell_type": "code",
   "source": [
    "max_depths = range(1, 25, 1)\n",
    "acc_list = []\n",
    "f1_score_list = []\n",
    "\n",
    "for idx, max_depth in enumerate(max_depths):\n",
    "    tree_clf = DecisionTreeClassifier(criterion=\"gini\", max_depth=max_depth, random_state=42)\n",
    "    tree_clf.fit(X_train_scaled, y_train)\n",
    "\n",
    "    y_pred = tree_clf.predict(X_test_scaled)\n",
    "\n",
    "    accuracy = accuracy_score(y_test, y_pred)\n",
    "    f1 = f1_score(y_test, y_pred)\n",
    "    f1_score_list.append(f1)\n",
    "    acc_list.append(accuracy)\n",
    "\n",
    "plt.style.use('seaborn-v0_8-whitegrid')\n",
    "plt.figure(figsize=(14,8))\n",
    "plt.scatter(x=max_depths, y=acc_list, c=\"green\", label=\"Accuracy Scores\")\n",
    "plt.scatter(x=max_depths, y=f1_score_list, c=\"red\", label=\"F1 Scores\")\n",
    "\n",
    "plt.title(\"Accuracy Score and F1 Score vs Max Depth\")\n",
    "plt.xlabel(\"Max Depth\")\n",
    "plt.ylabel(\"Score\")\n",
    "plt.legend(loc=\"best\")\n",
    "plt.grid(True, linestyle='--', alpha=0.6)\n",
    "plt.show()\n",
    "\n",
    "# Burada max depth 1 olduğunda hepsinin doğru çıkma sebebi test veri setinde erkek olup hayatta kalan yok ve kadın olup ölen yok.\n",
    "# Grafiğe bakılarak 3, 4 ve 5 değerlerinden birisi hyperparameter olarak seçilebilir."
   ],
   "id": "594abf71bbdbcaba",
   "outputs": [
    {
     "data": {
      "text/plain": [
       "<Figure size 1400x800 with 1 Axes>"
      ],
      "image/png": "[encoded data removed]"
     },
     "metadata": {},
     "output_type": "display_data"
    }
   ],
   "execution_count": 12
  },
  {
   "metadata": {},
   "cell_type": "markdown",
   "source": "### Random Forests",
   "id": "7db6e970d1cce3c3"
  },
  {
   "metadata": {
    "ExecuteTime": {
     "end_time": "2025-07-03T08:19:22.480534Z",
     "start_time": "2025-07-03T08:19:21.235729Z"
    }
   },
   "cell_type": "code",
   "source": [
    "from sklearn.ensemble import RandomForestClassifier\n",
    "\n",
    "acc_scores = []\n",
    "estimators = range(2, 50, 1)\n",
    "for estimator in estimators:\n",
    "\n",
    "    rf_clf = RandomForestClassifier(n_estimators=estimator, random_state=42, max_depth=3)\n",
    "    rf_clf.fit(X_train_scaled, y_train)\n",
    "\n",
    "    y_pred = rf_clf.predict(X_test_scaled)\n",
    "    accuracy = accuracy_score(y_test, y_pred)\n",
    "    acc_scores.append(accuracy)\n",
    "\n",
    "max_score_idx = np.argmax(acc_scores)\n",
    "best_score = acc_scores[max_score_idx]\n",
    "estimator = estimators[max_score_idx]\n",
    "\n",
    "plt.style.use('seaborn-v0_8-whitegrid')\n",
    "plt.figure(figsize=(14, 8))\n",
    "plt.scatter(x=estimators, y=acc_scores, c=\"green\", label=\"Accuracy Score\")\n",
    "plt.annotate(\n",
    "    text=f'En İyi Skor\\ne={estimator}\\nSkor={best_score:.4f}', # İşaretin metni\n",
    "    xy=(estimator, best_score), # Okun ucu nereyi gösterecek (x,y)\n",
    "    xytext=(estimator + 1, best_score - 0.03), # Metin nerede duracak (x,y)\n",
    "    arrowprops=dict(arrowstyle='->', color='black', linewidth=1.0, linestyle='--',connectionstyle=\"angle3\"), # Okun stili\n",
    "    fontsize=10,\n",
    "    bbox=dict(boxstyle=\"round,pad=0.5\", fc=\"blue\", alpha=0.3) # Metin kutusu stili\n",
    ")\n",
    "plt.title(\"Accuracy Score vs Number Of Estimators\")\n",
    "plt.xlabel(\"Estimators\")\n",
    "plt.ylabel(\"Score\")\n",
    "plt.legend(loc=\"best\")\n",
    "plt.grid(True, linestyle='--', alpha=0.6)\n",
    "plt.show()\n",
    "\n",
    "#Grafikten görüleceği üzere best score e = 47'di. Ancak Max depth değer = 3 olrak ayarlanırsa e = 13 ile %99.52 doğruluk oranına ulaşabiliriz."
   ],
   "id": "1b8193e64229fa7e",
   "outputs": [
    {
     "data": {
      "text/plain": [
       "<Figure size 1400x800 with 1 Axes>"
      ],
      "image/png": "[encoded data removed]"
     },
     "metadata": {},
     "output_type": "display_data"
    }
   ],
   "execution_count": 24
  },
  {
   "metadata": {
    "ExecuteTime": {
     "end_time": "2025-07-03T08:25:11.223465Z",
     "start_time": "2025-07-03T08:25:11.197774Z"
    }
   },
   "cell_type": "code",
   "source": [
    "from sklearn.metrics import classification_report\n",
    "\n",
    "rf_clf = RandomForestClassifier(n_estimators=13, random_state=42, max_depth=3)\n",
    "rf_clf.fit(X_train_scaled, y_train)\n",
    "\n",
    "y_pred = rf_clf.predict(X_test_scaled)\n",
    "\n",
    "print(classification_report(y_test, y_pred))"
   ],
   "id": "3d7dbaba0350f5ab",
   "outputs": [
    {
     "name": "stdout",
     "output_type": "stream",
     "text": [
      "              precision    recall  f1-score   support\n",
      "\n",
      "           0       1.00      1.00      1.00       266\n",
      "           1       0.99      0.99      0.99       152\n",
      "\n",
      "    accuracy                           1.00       418\n",
      "   macro avg       0.99      0.99      0.99       418\n",
      "weighted avg       1.00      1.00      1.00       418\n",
      "\n"
     ]
    }
   ],
   "execution_count": 25
  },
  {
   "metadata": {
    "ExecuteTime": {
     "end_time": "2025-07-03T08:31:29.442560Z",
     "start_time": "2025-07-03T08:31:20.215665Z"
    }
   },
   "cell_type": "code",
   "source": [
    "from sklearn.model_selection import GridSearchCV\n",
    "\n",
    "param_grid = {\n",
    "    'n_estimators': range(1, 52, 1),\n",
    "    'max_depth': [3, 4, 5, 6, 7]\n",
    "}\n",
    "\n",
    "# Henüz fit edilmemiş bir model oluşturun\n",
    "rf_clf = RandomForestClassifier(random_state=42)\n",
    "\n",
    "# GridSearchCV nesnesini oluşturun\n",
    "# cv=5, eğitim verisini 5 parçaya bölerek test eder\n",
    "grid_search = GridSearchCV(estimator=rf_clf, param_grid=param_grid, cv=5, scoring='accuracy', n_jobs=-1)\n",
    "\n",
    "# GridSearchCV'ü EĞİTİM VERİSİ ile eğitin\n",
    "grid_search.fit(X_train_scaled, y_train)\n",
    "\n",
    "print(f\"En iyi parametreler: {grid_search.best_params_}\")\n",
    "print(f\"En iyi çapraz doğrulama skoru (Accuracy): {grid_search.best_score_:.4f}\")\n",
    "\n",
    "# En iyi parametrelerle eğitilmiş olan modeli alın\n",
    "best_rf = grid_search.best_estimator_\n",
    "\n",
    "y_pred_final = best_rf.predict(X_test_scaled)\n",
    "print(\"\\n--- Final Test Seti Sonuçları ---\")\n",
    "print(classification_report(y_test, y_pred_final))"
   ],
   "id": "6c2331440c9acaf0",
   "outputs": [
    {
     "name": "stdout",
     "output_type": "stream",
     "text": [
      "En iyi parametreler: {'max_depth': 6, 'n_estimators': 22}\n",
      "En iyi çapraz doğrulama skoru (Accuracy): 0.8328\n",
      "\n",
      "--- Final Test Seti Sonuçları ---\n",
      "              precision    recall  f1-score   support\n",
      "\n",
      "           0       0.89      0.96      0.93       266\n",
      "           1       0.92      0.80      0.86       152\n",
      "\n",
      "    accuracy                           0.90       418\n",
      "   macro avg       0.91      0.88      0.89       418\n",
      "weighted avg       0.90      0.90      0.90       418\n",
      "\n"
     ]
    }
   ],
   "execution_count": 27
  },
  {
   "metadata": {
    "ExecuteTime": {
     "end_time": "2025-07-03T08:30:10.621417Z",
     "start_time": "2025-07-03T08:30:10.618457Z"
    }
   },
   "cell_type": "code",
   "source": "",
   "id": "bf7b8b9cc6e50ff3",
   "outputs": [],
   "execution_count": null
  },
  {
   "metadata": {},
   "cell_type": "code",
   "outputs": [],
   "execution_count": null,
   "source": "",
   "id": "d027909b6cc61bc7"
  }
 ],
 "metadata": {
  "kaggle": {
   "accelerator": "none",
   "dataSources": [
    {
     "datasetId": 6788066,
     "sourceId": 11034953,
     "sourceType": "datasetVersion"
    }
   ],
   "dockerImageVersionId": 31040,
   "isGpuEnabled": false,
   "isInternetEnabled": false,
   "language": "python",
   "sourceType": "notebook"
  },
  "kernelspec": {
   "display_name": "Python 3",
   "language": "python",
   "name": "python3"
  },
  "language_info": {
   "codemirror_mode": {
    "name": "ipython",
    "version": 3
   },
   "file_extension": ".py",
   "mimetype": "text/x-python",
   "name": "python",
   "nbconvert_exporter": "python",
   "pygments_lexer": "ipython3",
   "version": "3.11.11"
  },
  "papermill": {
   "default_parameters": {},
   "duration": 9.587248,
   "end_time": "2025-06-28T08:08:21.970985",
   "environment_variables": {},
   "exception": null,
   "input_path": "__notebook__.ipynb",
   "output_path": "__notebook__.ipynb",
   "parameters": {},
   "start_time": "2025-06-28T08:08:12.383737",
   "version": "2.6.0"
  }
 },
 "nbformat": 4,
 "nbformat_minor": 5
}
