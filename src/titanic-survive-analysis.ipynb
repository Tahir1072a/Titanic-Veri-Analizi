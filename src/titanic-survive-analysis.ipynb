{
 "metadata": {
  "kernelspec": {
   "language": "python",
   "display_name": "Python 3",
   "name": "python3"
  },
  "language_info": {
   "name": "python",
   "version": "3.11.13",
   "mimetype": "text/x-python",
   "codemirror_mode": {
    "name": "ipython",
    "version": 3
   },
   "pygments_lexer": "ipython3",
   "nbconvert_exporter": "python",
   "file_extension": ".py"
  },
  "kaggle": {
   "accelerator": "none",
   "dataSources": [
    {
     "sourceId": 11034953,
     "sourceType": "datasetVersion",
     "datasetId": 6788066
    },
    {
     "sourceId": 12359537,
     "sourceType": "datasetVersion",
     "datasetId": 7792295
    }
   ],
   "isInternetEnabled": true,
   "language": "python",
   "sourceType": "notebook",
   "isGpuEnabled": false
  }
 },
 "nbformat_minor": 4,
 "nbformat": 4,
 "cells": [
  {
   "cell_type": "markdown",
   "source": "# Introduction\n\n[**Content**](#):\n1. Load and Check Data\n2. Variable Description\n   - Univariate Variable Analysis  => Her bir değişkenin tek başına incelenmesi...\n       - Categorical Variables\n       - Numerical Variables\n3. Basic Data Analysis\n4. Outlier Detection\n5. Missing Value\n   - Find Missing Value\n   - Fill Missing Value\n6. Visualization\n    - Correlation between Sibsp - Parch - Age - Fare - Survived\n    - Sibsp -- Survived\n    - PClass -- Survived\n    - Age -- Survived\n    - Pclass -- Survived -- Age\n    - Embarked -- Sex -- Fare -- Survived\n    - Fill Missing, Age Feature:\n7. Feature Engineering\n8. Modeling\n   - Train Test Split\n   - Simple Logistic Regression\n   - Hyperparameter Tunning - Grid Search - Cross Validation\n   - Prediction and Submission",
   "metadata": {}
  },
  {
   "cell_type": "code",
   "source": [
    "import numpy as np\n",
    "import pandas as pd\n",
    "\n",
    "import matplotlib.pyplot as plt\n",
    "#plt.style.use(\"seaborn-whitegrid\")\n",
    "\n",
    "import seaborn as sns\n",
    "\n",
    "from collections import Counter\n",
    "\n",
    "import warnings\n",
    "warnings.filterwarnings(\"ignore\")\n",
    "\n",
    "import os\n",
    "\n",
    "# Dosyaların tam yollarını almak için kullanılır\n",
    "for dirname, _, filenames in os.walk('/kaggle/input'):\n",
    "    for filename in filenames:\n",
    "        print(os.path.join(dirname, filename))"
   ],
   "metadata": {
    "_uuid": "8f2839f25d086af736a60e9eeb907d3b93b6e0e5",
    "_cell_guid": "b1076dfc-b9ad-4769-8c92-a6c4dae69d19",
    "trusted": true,
    "ExecuteTime": {
     "end_time": "2025-07-13T21:13:28.152217Z",
     "start_time": "2025-07-13T21:13:28.148013Z"
    }
   },
   "outputs": [],
   "execution_count": 161
  },
  {
   "cell_type": "markdown",
   "source": "## Load And Check Data",
   "metadata": {}
  },
  {
   "cell_type": "code",
   "source": [
    "train_df = pd.read_csv(\"../data/train.csv\")\n",
    "\n",
    "X_test = pd.read_csv(\"../data/test.csv\")\n",
    "y_test = pd.read_csv(\"../data/gender_submission.csv\")\n",
    "\n",
    "X_test[\"Survived\"] = y_test[\"Survived\"]\n",
    "train_df = pd.concat([train_df, X_test])"
   ],
   "metadata": {
    "trusted": true,
    "ExecuteTime": {
     "end_time": "2025-07-13T21:13:28.224068Z",
     "start_time": "2025-07-13T21:13:28.185892Z"
    }
   },
   "outputs": [],
   "execution_count": 162
  },
  {
   "cell_type": "code",
   "source": "train_df.columns",
   "metadata": {
    "trusted": true,
    "ExecuteTime": {
     "end_time": "2025-07-13T21:13:28.233628Z",
     "start_time": "2025-07-13T21:13:28.225588Z"
    }
   },
   "outputs": [
    {
     "data": {
      "text/plain": [
       "Index(['PassengerId', 'Survived', 'Pclass', 'Name', 'Sex', 'Age', 'SibSp',\n",
       "       'Parch', 'Ticket', 'Fare', 'Cabin', 'Embarked'],\n",
       "      dtype='object')"
      ]
     },
     "execution_count": 163,
     "metadata": {},
     "output_type": "execute_result"
    }
   ],
   "execution_count": 163
  },
  {
   "cell_type": "code",
   "source": "train_df.head()",
   "metadata": {
    "trusted": true,
    "ExecuteTime": {
     "end_time": "2025-07-13T21:13:28.275869Z",
     "start_time": "2025-07-13T21:13:28.265865Z"
    }
   },
   "outputs": [
    {
     "data": {
      "text/plain": [
       "   PassengerId  Survived  Pclass  \\\n",
       "0            1         0       3   \n",
       "1            2         1       1   \n",
       "2            3         1       3   \n",
       "3            4         1       1   \n",
       "4            5         0       3   \n",
       "\n",
       "                                                Name     Sex   Age  SibSp  \\\n",
       "0                            Braund, Mr. Owen Harris    male  22.0      1   \n",
       "1  Cumings, Mrs. John Bradley (Florence Briggs Th...  female  38.0      1   \n",
       "2                             Heikkinen, Miss. Laina  female  26.0      0   \n",
       "3       Futrelle, Mrs. Jacques Heath (Lily May Peel)  female  35.0      1   \n",
       "4                           Allen, Mr. William Henry    male  35.0      0   \n",
       "\n",
       "   Parch            Ticket     Fare Cabin Embarked  \n",
       "0      0         A/5 21171   7.2500   NaN        S  \n",
       "1      0          PC 17599  71.2833   C85        C  \n",
       "2      0  STON/O2. 3101282   7.9250   NaN        S  \n",
       "3      0            113803  53.1000  C123        S  \n",
       "4      0            373450   8.0500   NaN        S  "
      ],
      "text/html": [
       "<div>\n",
       "<style scoped>\n",
       "    .dataframe tbody tr th:only-of-type {\n",
       "        vertical-align: middle;\n",
       "    }\n",
       "\n",
       "    .dataframe tbody tr th {\n",
       "        vertical-align: top;\n",
       "    }\n",
       "\n",
       "    .dataframe thead th {\n",
       "        text-align: right;\n",
       "    }\n",
       "</style>\n",
       "<table border=\"1\" class=\"dataframe\">\n",
       "  <thead>\n",
       "    <tr style=\"text-align: right;\">\n",
       "      <th></th>\n",
       "      <th>PassengerId</th>\n",
       "      <th>Survived</th>\n",
       "      <th>Pclass</th>\n",
       "      <th>Name</th>\n",
       "      <th>Sex</th>\n",
       "      <th>Age</th>\n",
       "      <th>SibSp</th>\n",
       "      <th>Parch</th>\n",
       "      <th>Ticket</th>\n",
       "      <th>Fare</th>\n",
       "      <th>Cabin</th>\n",
       "      <th>Embarked</th>\n",
       "    </tr>\n",
       "  </thead>\n",
       "  <tbody>\n",
       "    <tr>\n",
       "      <th>0</th>\n",
       "      <td>1</td>\n",
       "      <td>0</td>\n",
       "      <td>3</td>\n",
       "      <td>Braund, Mr. Owen Harris</td>\n",
       "      <td>male</td>\n",
       "      <td>22.0</td>\n",
       "      <td>1</td>\n",
       "      <td>0</td>\n",
       "      <td>A/5 21171</td>\n",
       "      <td>7.2500</td>\n",
       "      <td>NaN</td>\n",
       "      <td>S</td>\n",
       "    </tr>\n",
       "    <tr>\n",
       "      <th>1</th>\n",
       "      <td>2</td>\n",
       "      <td>1</td>\n",
       "      <td>1</td>\n",
       "      <td>Cumings, Mrs. John Bradley (Florence Briggs Th...</td>\n",
       "      <td>female</td>\n",
       "      <td>38.0</td>\n",
       "      <td>1</td>\n",
       "      <td>0</td>\n",
       "      <td>PC 17599</td>\n",
       "      <td>71.2833</td>\n",
       "      <td>C85</td>\n",
       "      <td>C</td>\n",
       "    </tr>\n",
       "    <tr>\n",
       "      <th>2</th>\n",
       "      <td>3</td>\n",
       "      <td>1</td>\n",
       "      <td>3</td>\n",
       "      <td>Heikkinen, Miss. Laina</td>\n",
       "      <td>female</td>\n",
       "      <td>26.0</td>\n",
       "      <td>0</td>\n",
       "      <td>0</td>\n",
       "      <td>STON/O2. 3101282</td>\n",
       "      <td>7.9250</td>\n",
       "      <td>NaN</td>\n",
       "      <td>S</td>\n",
       "    </tr>\n",
       "    <tr>\n",
       "      <th>3</th>\n",
       "      <td>4</td>\n",
       "      <td>1</td>\n",
       "      <td>1</td>\n",
       "      <td>Futrelle, Mrs. Jacques Heath (Lily May Peel)</td>\n",
       "      <td>female</td>\n",
       "      <td>35.0</td>\n",
       "      <td>1</td>\n",
       "      <td>0</td>\n",
       "      <td>113803</td>\n",
       "      <td>53.1000</td>\n",
       "      <td>C123</td>\n",
       "      <td>S</td>\n",
       "    </tr>\n",
       "    <tr>\n",
       "      <th>4</th>\n",
       "      <td>5</td>\n",
       "      <td>0</td>\n",
       "      <td>3</td>\n",
       "      <td>Allen, Mr. William Henry</td>\n",
       "      <td>male</td>\n",
       "      <td>35.0</td>\n",
       "      <td>0</td>\n",
       "      <td>0</td>\n",
       "      <td>373450</td>\n",
       "      <td>8.0500</td>\n",
       "      <td>NaN</td>\n",
       "      <td>S</td>\n",
       "    </tr>\n",
       "  </tbody>\n",
       "</table>\n",
       "</div>"
      ]
     },
     "execution_count": 164,
     "metadata": {},
     "output_type": "execute_result"
    }
   ],
   "execution_count": 164
  },
  {
   "cell_type": "code",
   "source": "train_df.describe()",
   "metadata": {
    "trusted": true,
    "ExecuteTime": {
     "end_time": "2025-07-13T21:13:28.329877Z",
     "start_time": "2025-07-13T21:13:28.313520Z"
    }
   },
   "outputs": [
    {
     "data": {
      "text/plain": [
       "       PassengerId     Survived       Pclass          Age        SibSp  \\\n",
       "count  1309.000000  1309.000000  1309.000000  1046.000000  1309.000000   \n",
       "mean    655.000000     0.377387     2.294882    29.881138     0.498854   \n",
       "std     378.020061     0.484918     0.837836    14.413493     1.041658   \n",
       "min       1.000000     0.000000     1.000000     0.170000     0.000000   \n",
       "25%     328.000000     0.000000     2.000000    21.000000     0.000000   \n",
       "50%     655.000000     0.000000     3.000000    28.000000     0.000000   \n",
       "75%     982.000000     1.000000     3.000000    39.000000     1.000000   \n",
       "max    1309.000000     1.000000     3.000000    80.000000     8.000000   \n",
       "\n",
       "             Parch         Fare  \n",
       "count  1309.000000  1308.000000  \n",
       "mean      0.385027    33.295479  \n",
       "std       0.865560    51.758668  \n",
       "min       0.000000     0.000000  \n",
       "25%       0.000000     7.895800  \n",
       "50%       0.000000    14.454200  \n",
       "75%       0.000000    31.275000  \n",
       "max       9.000000   512.329200  "
      ],
      "text/html": [
       "<div>\n",
       "<style scoped>\n",
       "    .dataframe tbody tr th:only-of-type {\n",
       "        vertical-align: middle;\n",
       "    }\n",
       "\n",
       "    .dataframe tbody tr th {\n",
       "        vertical-align: top;\n",
       "    }\n",
       "\n",
       "    .dataframe thead th {\n",
       "        text-align: right;\n",
       "    }\n",
       "</style>\n",
       "<table border=\"1\" class=\"dataframe\">\n",
       "  <thead>\n",
       "    <tr style=\"text-align: right;\">\n",
       "      <th></th>\n",
       "      <th>PassengerId</th>\n",
       "      <th>Survived</th>\n",
       "      <th>Pclass</th>\n",
       "      <th>Age</th>\n",
       "      <th>SibSp</th>\n",
       "      <th>Parch</th>\n",
       "      <th>Fare</th>\n",
       "    </tr>\n",
       "  </thead>\n",
       "  <tbody>\n",
       "    <tr>\n",
       "      <th>count</th>\n",
       "      <td>1309.000000</td>\n",
       "      <td>1309.000000</td>\n",
       "      <td>1309.000000</td>\n",
       "      <td>1046.000000</td>\n",
       "      <td>1309.000000</td>\n",
       "      <td>1309.000000</td>\n",
       "      <td>1308.000000</td>\n",
       "    </tr>\n",
       "    <tr>\n",
       "      <th>mean</th>\n",
       "      <td>655.000000</td>\n",
       "      <td>0.377387</td>\n",
       "      <td>2.294882</td>\n",
       "      <td>29.881138</td>\n",
       "      <td>0.498854</td>\n",
       "      <td>0.385027</td>\n",
       "      <td>33.295479</td>\n",
       "    </tr>\n",
       "    <tr>\n",
       "      <th>std</th>\n",
       "      <td>378.020061</td>\n",
       "      <td>0.484918</td>\n",
       "      <td>0.837836</td>\n",
       "      <td>14.413493</td>\n",
       "      <td>1.041658</td>\n",
       "      <td>0.865560</td>\n",
       "      <td>51.758668</td>\n",
       "    </tr>\n",
       "    <tr>\n",
       "      <th>min</th>\n",
       "      <td>1.000000</td>\n",
       "      <td>0.000000</td>\n",
       "      <td>1.000000</td>\n",
       "      <td>0.170000</td>\n",
       "      <td>0.000000</td>\n",
       "      <td>0.000000</td>\n",
       "      <td>0.000000</td>\n",
       "    </tr>\n",
       "    <tr>\n",
       "      <th>25%</th>\n",
       "      <td>328.000000</td>\n",
       "      <td>0.000000</td>\n",
       "      <td>2.000000</td>\n",
       "      <td>21.000000</td>\n",
       "      <td>0.000000</td>\n",
       "      <td>0.000000</td>\n",
       "      <td>7.895800</td>\n",
       "    </tr>\n",
       "    <tr>\n",
       "      <th>50%</th>\n",
       "      <td>655.000000</td>\n",
       "      <td>0.000000</td>\n",
       "      <td>3.000000</td>\n",
       "      <td>28.000000</td>\n",
       "      <td>0.000000</td>\n",
       "      <td>0.000000</td>\n",
       "      <td>14.454200</td>\n",
       "    </tr>\n",
       "    <tr>\n",
       "      <th>75%</th>\n",
       "      <td>982.000000</td>\n",
       "      <td>1.000000</td>\n",
       "      <td>3.000000</td>\n",
       "      <td>39.000000</td>\n",
       "      <td>1.000000</td>\n",
       "      <td>0.000000</td>\n",
       "      <td>31.275000</td>\n",
       "    </tr>\n",
       "    <tr>\n",
       "      <th>max</th>\n",
       "      <td>1309.000000</td>\n",
       "      <td>1.000000</td>\n",
       "      <td>3.000000</td>\n",
       "      <td>80.000000</td>\n",
       "      <td>8.000000</td>\n",
       "      <td>9.000000</td>\n",
       "      <td>512.329200</td>\n",
       "    </tr>\n",
       "  </tbody>\n",
       "</table>\n",
       "</div>"
      ]
     },
     "execution_count": 165,
     "metadata": {},
     "output_type": "execute_result"
    }
   ],
   "execution_count": 165
  },
  {
   "cell_type": "markdown",
   "source": "# Variable Description",
   "metadata": {}
  },
  {
   "cell_type": "code",
   "source": "train_df.info()",
   "metadata": {
    "trusted": true,
    "ExecuteTime": {
     "end_time": "2025-07-13T21:13:28.411237Z",
     "start_time": "2025-07-13T21:13:28.402322Z"
    }
   },
   "outputs": [
    {
     "name": "stdout",
     "output_type": "stream",
     "text": [
      "<class 'pandas.core.frame.DataFrame'>\n",
      "Index: 1309 entries, 0 to 417\n",
      "Data columns (total 12 columns):\n",
      " #   Column       Non-Null Count  Dtype  \n",
      "---  ------       --------------  -----  \n",
      " 0   PassengerId  1309 non-null   int64  \n",
      " 1   Survived     1309 non-null   int64  \n",
      " 2   Pclass       1309 non-null   int64  \n",
      " 3   Name         1309 non-null   object \n",
      " 4   Sex          1309 non-null   object \n",
      " 5   Age          1046 non-null   float64\n",
      " 6   SibSp        1309 non-null   int64  \n",
      " 7   Parch        1309 non-null   int64  \n",
      " 8   Ticket       1309 non-null   object \n",
      " 9   Fare         1308 non-null   float64\n",
      " 10  Cabin        295 non-null    object \n",
      " 11  Embarked     1307 non-null   object \n",
      "dtypes: float64(2), int64(5), object(5)\n",
      "memory usage: 132.9+ KB\n"
     ]
    }
   ],
   "execution_count": 166
  },
  {
   "cell_type": "markdown",
   "source": "## Univariate Variable Analysis\n\n- Categorical: Survived, Pclass, Embarked, Cabin, SibSp, Parch, Name, Sex, Ticket\n- Numeric Variables: Fare, age, PassengerId\n",
   "metadata": {}
  },
  {
   "cell_type": "markdown",
   "source": "### Categorical Variables",
   "metadata": {}
  },
  {
   "cell_type": "code",
   "source": "def bar_plot(variable):\n    \n    # get feature\n    var = train_df[variable]\n    varValue = var.value_counts()\n\n    # visualize\n    plt.figure(figsize=(9,3))\n    plt.bar(varValue.index, varValue)\n    plt.xticks(ticks=varValue.index, labels=varValue.index.values)\n    plt.ylabel(\"Frequency\")\n    plt.title(variable)\n    plt.show()\n    print(f\"{variable}: \\n {varValue}\")",
   "metadata": {
    "trusted": true,
    "ExecuteTime": {
     "end_time": "2025-07-13T21:13:28.553687Z",
     "start_time": "2025-07-13T21:13:28.545671Z"
    }
   },
   "outputs": [],
   "execution_count": 167
  },
  {
   "cell_type": "code",
   "source": "category1 = [\"Survived\", \"Sex\", \"Pclass\", \"Embarked\", \"SibSp\", \"Parch\"]\nfor c in category1:\n    bar_plot(c)",
   "metadata": {
    "trusted": true,
    "ExecuteTime": {
     "end_time": "2025-07-13T21:13:29.180642Z",
     "start_time": "2025-07-13T21:13:28.705790Z"
    }
   },
   "outputs": [
    {
     "data": {
      "text/plain": [
       "<Figure size 900x300 with 1 Axes>"
      ],
      "image/png": "[encoded data removed]"
     },
     "metadata": {},
     "output_type": "display_data"
    },
    {
     "name": "stdout",
     "output_type": "stream",
     "text": [
      "Survived: \n",
      " Survived\n",
      "0    815\n",
      "1    494\n",
      "Name: count, dtype: int64\n"
     ]
    },
    {
     "data": {
      "text/plain": [
       "<Figure size 900x300 with 1 Axes>"
      ],
      "image/png": "[encoded data removed]"
     },
     "metadata": {},
     "output_type": "display_data"
    },
    {
     "name": "stdout",
     "output_type": "stream",
     "text": [
      "Sex: \n",
      " Sex\n",
      "male      843\n",
      "female    466\n",
      "Name: count, dtype: int64\n"
     ]
    },
    {
     "data": {
      "text/plain": [
       "<Figure size 900x300 with 1 Axes>"
      ],
      "image/png": "[encoded data removed]"
     },
     "metadata": {},
     "output_type": "display_data"
    },
    {
     "name": "stdout",
     "output_type": "stream",
     "text": [
      "Pclass: \n",
      " Pclass\n",
      "3    709\n",
      "1    323\n",
      "2    277\n",
      "Name: count, dtype: int64\n"
     ]
    },
    {
     "data": {
      "text/plain": [
       "<Figure size 900x300 with 1 Axes>"
      ],
      "image/png": "[encoded data removed]"
     },
     "metadata": {},
     "output_type": "display_data"
    },
    {
     "name": "stdout",
     "output_type": "stream",
     "text": [
      "Embarked: \n",
      " Embarked\n",
      "S    914\n",
      "C    270\n",
      "Q    123\n",
      "Name: count, dtype: int64\n"
     ]
    },
    {
     "data": {
      "text/plain": [
       "<Figure size 900x300 with 1 Axes>"
      ],
      "image/png": "[encoded data removed]"
     },
     "metadata": {},
     "output_type": "display_data"
    },
    {
     "name": "stdout",
     "output_type": "stream",
     "text": [
      "SibSp: \n",
      " SibSp\n",
      "0    891\n",
      "1    319\n",
      "2     42\n",
      "4     22\n",
      "3     20\n",
      "8      9\n",
      "5      6\n",
      "Name: count, dtype: int64\n"
     ]
    },
    {
     "data": {
      "text/plain": [
       "<Figure size 900x300 with 1 Axes>"
      ],
      "image/png": "[encoded data removed]"
     },
     "metadata": {},
     "output_type": "display_data"
    },
    {
     "name": "stdout",
     "output_type": "stream",
     "text": [
      "Parch: \n",
      " Parch\n",
      "0    1002\n",
      "1     170\n",
      "2     113\n",
      "3       8\n",
      "5       6\n",
      "4       6\n",
      "6       2\n",
      "9       2\n",
      "Name: count, dtype: int64\n"
     ]
    }
   ],
   "execution_count": 168
  },
  {
   "cell_type": "code",
   "source": "category2 = [\"Cabin\", \"Name\", \"Ticket\"]\nfor c in category2:\n    print(f\"{train_df[c].value_counts()}\\n \")",
   "metadata": {
    "trusted": true,
    "ExecuteTime": {
     "end_time": "2025-07-13T21:13:29.199761Z",
     "start_time": "2025-07-13T21:13:29.185680Z"
    }
   },
   "outputs": [
    {
     "name": "stdout",
     "output_type": "stream",
     "text": [
      "Cabin\n",
      "C23 C25 C27        6\n",
      "G6                 5\n",
      "B57 B59 B63 B66    5\n",
      "C22 C26            4\n",
      "F33                4\n",
      "                  ..\n",
      "A14                1\n",
      "E63                1\n",
      "E12                1\n",
      "E38                1\n",
      "C105               1\n",
      "Name: count, Length: 186, dtype: int64\n",
      " \n",
      "Name\n",
      "Connolly, Miss. Kate                                   2\n",
      "Kelly, Mr. James                                       2\n",
      "Braund, Mr. Owen Harris                                1\n",
      "Johnson, Master. Harold Theodor                        1\n",
      "Gustafsson, Mr. Alfred Ossian                          1\n",
      "                                                      ..\n",
      "Carter, Miss. Lucile Polk                              1\n",
      "Silvey, Mr. William Baird                              1\n",
      "Kallio, Mr. Nikolai Erland                             1\n",
      "Louch, Mrs. Charles Alexander (Alice Adelaide Slow)    1\n",
      "Peter, Master. Michael J                               1\n",
      "Name: count, Length: 1307, dtype: int64\n",
      " \n",
      "Ticket\n",
      "CA. 2343        11\n",
      "CA 2144          8\n",
      "1601             8\n",
      "PC 17608         7\n",
      "S.O.C. 14879     7\n",
      "                ..\n",
      "113792           1\n",
      "36209            1\n",
      "323592           1\n",
      "315089           1\n",
      "359309           1\n",
      "Name: count, Length: 929, dtype: int64\n",
      " \n"
     ]
    }
   ],
   "execution_count": 169
  },
  {
   "cell_type": "markdown",
   "source": "### Numerical Variable",
   "metadata": {}
  },
  {
   "cell_type": "code",
   "source": "def plot_hist(variable):\n\n    plt.figure(figsize=(9,3))\n    plt.hist(train_df[variable], bins=50)\n    plt.xlabel(variable)\n    plt.ylabel(\"Frequency\")\n    plt.title(f\"{variable} distribution with hist\")\n    plt.show()",
   "metadata": {
    "trusted": true,
    "ExecuteTime": {
     "end_time": "2025-07-13T21:13:29.253317Z",
     "start_time": "2025-07-13T21:13:29.247732Z"
    }
   },
   "outputs": [],
   "execution_count": 170
  },
  {
   "cell_type": "code",
   "source": "numericVar = [\"Fare\", \"Age\", \"PassengerId\"]\nfor n in numericVar:\n    plot_hist(n)",
   "metadata": {
    "trusted": true,
    "ExecuteTime": {
     "end_time": "2025-07-13T21:13:29.640383Z",
     "start_time": "2025-07-13T21:13:29.262774Z"
    }
   },
   "outputs": [
    {
     "data": {
      "text/plain": [
       "<Figure size 900x300 with 1 Axes>"
      ],
      "image/png": "[encoded data removed]"
     },
     "metadata": {},
     "output_type": "display_data"
    },
    {
     "data": {
      "text/plain": [
       "<Figure size 900x300 with 1 Axes>"
      ],
      "image/png": "[encoded data removed]"
     },
     "metadata": {},
     "output_type": "display_data"
    },
    {
     "data": {
      "text/plain": [
       "<Figure size 900x300 with 1 Axes>"
      ],
      "image/png": "[encoded data removed]"
     },
     "metadata": {},
     "output_type": "display_data"
    }
   ],
   "execution_count": 171
  },
  {
   "cell_type": "markdown",
   "source": "# Basic Data Analysis",
   "metadata": {}
  },
  {
   "cell_type": "code",
   "source": "# Pclass vs Survived\ntrain_df[[\"Pclass\", \"Survived\"]].groupby([\"Pclass\"], as_index=False).mean().sort_values(by=\"Survived\", ascending=False)",
   "metadata": {
    "trusted": true,
    "ExecuteTime": {
     "end_time": "2025-07-13T21:13:29.668753Z",
     "start_time": "2025-07-13T21:13:29.655713Z"
    }
   },
   "outputs": [
    {
     "data": {
      "text/plain": [
       "   Pclass  Survived\n",
       "0       1  0.575851\n",
       "1       2  0.422383\n",
       "2       3  0.269394"
      ],
      "text/html": [
       "<div>\n",
       "<style scoped>\n",
       "    .dataframe tbody tr th:only-of-type {\n",
       "        vertical-align: middle;\n",
       "    }\n",
       "\n",
       "    .dataframe tbody tr th {\n",
       "        vertical-align: top;\n",
       "    }\n",
       "\n",
       "    .dataframe thead th {\n",
       "        text-align: right;\n",
       "    }\n",
       "</style>\n",
       "<table border=\"1\" class=\"dataframe\">\n",
       "  <thead>\n",
       "    <tr style=\"text-align: right;\">\n",
       "      <th></th>\n",
       "      <th>Pclass</th>\n",
       "      <th>Survived</th>\n",
       "    </tr>\n",
       "  </thead>\n",
       "  <tbody>\n",
       "    <tr>\n",
       "      <th>0</th>\n",
       "      <td>1</td>\n",
       "      <td>0.575851</td>\n",
       "    </tr>\n",
       "    <tr>\n",
       "      <th>1</th>\n",
       "      <td>2</td>\n",
       "      <td>0.422383</td>\n",
       "    </tr>\n",
       "    <tr>\n",
       "      <th>2</th>\n",
       "      <td>3</td>\n",
       "      <td>0.269394</td>\n",
       "    </tr>\n",
       "  </tbody>\n",
       "</table>\n",
       "</div>"
      ]
     },
     "execution_count": 172,
     "metadata": {},
     "output_type": "execute_result"
    }
   ],
   "execution_count": 172
  },
  {
   "cell_type": "code",
   "source": "# Sex - Survived\ntrain_df[[\"Sex\", \"Survived\"]].groupby([\"Sex\"], as_index=False).mean().sort_values(by=\"Survived\", ascending=False)",
   "metadata": {
    "trusted": true,
    "ExecuteTime": {
     "end_time": "2025-07-13T21:13:29.719930Z",
     "start_time": "2025-07-13T21:13:29.710969Z"
    }
   },
   "outputs": [
    {
     "data": {
      "text/plain": [
       "      Sex  Survived\n",
       "0  female   0.82618\n",
       "1    male   0.12930"
      ],
      "text/html": [
       "<div>\n",
       "<style scoped>\n",
       "    .dataframe tbody tr th:only-of-type {\n",
       "        vertical-align: middle;\n",
       "    }\n",
       "\n",
       "    .dataframe tbody tr th {\n",
       "        vertical-align: top;\n",
       "    }\n",
       "\n",
       "    .dataframe thead th {\n",
       "        text-align: right;\n",
       "    }\n",
       "</style>\n",
       "<table border=\"1\" class=\"dataframe\">\n",
       "  <thead>\n",
       "    <tr style=\"text-align: right;\">\n",
       "      <th></th>\n",
       "      <th>Sex</th>\n",
       "      <th>Survived</th>\n",
       "    </tr>\n",
       "  </thead>\n",
       "  <tbody>\n",
       "    <tr>\n",
       "      <th>0</th>\n",
       "      <td>female</td>\n",
       "      <td>0.82618</td>\n",
       "    </tr>\n",
       "    <tr>\n",
       "      <th>1</th>\n",
       "      <td>male</td>\n",
       "      <td>0.12930</td>\n",
       "    </tr>\n",
       "  </tbody>\n",
       "</table>\n",
       "</div>"
      ]
     },
     "execution_count": 173,
     "metadata": {},
     "output_type": "execute_result"
    }
   ],
   "execution_count": 173
  },
  {
   "cell_type": "code",
   "source": "# SibSp vs Survived\ntrain_df[[\"SibSp\", \"Survived\"]].groupby([\"SibSp\"], as_index=False).mean().sort_values(by=\"Survived\", ascending=False)",
   "metadata": {
    "trusted": true,
    "ExecuteTime": {
     "end_time": "2025-07-13T21:13:29.794755Z",
     "start_time": "2025-07-13T21:13:29.785954Z"
    }
   },
   "outputs": [
    {
     "data": {
      "text/plain": [
       "   SibSp  Survived\n",
       "1      1  0.520376\n",
       "2      2  0.452381\n",
       "0      0  0.334456\n",
       "3      3  0.250000\n",
       "4      4  0.181818\n",
       "5      5  0.166667\n",
       "6      8  0.111111"
      ],
      "text/html": [
       "<div>\n",
       "<style scoped>\n",
       "    .dataframe tbody tr th:only-of-type {\n",
       "        vertical-align: middle;\n",
       "    }\n",
       "\n",
       "    .dataframe tbody tr th {\n",
       "        vertical-align: top;\n",
       "    }\n",
       "\n",
       "    .dataframe thead th {\n",
       "        text-align: right;\n",
       "    }\n",
       "</style>\n",
       "<table border=\"1\" class=\"dataframe\">\n",
       "  <thead>\n",
       "    <tr style=\"text-align: right;\">\n",
       "      <th></th>\n",
       "      <th>SibSp</th>\n",
       "      <th>Survived</th>\n",
       "    </tr>\n",
       "  </thead>\n",
       "  <tbody>\n",
       "    <tr>\n",
       "      <th>1</th>\n",
       "      <td>1</td>\n",
       "      <td>0.520376</td>\n",
       "    </tr>\n",
       "    <tr>\n",
       "      <th>2</th>\n",
       "      <td>2</td>\n",
       "      <td>0.452381</td>\n",
       "    </tr>\n",
       "    <tr>\n",
       "      <th>0</th>\n",
       "      <td>0</td>\n",
       "      <td>0.334456</td>\n",
       "    </tr>\n",
       "    <tr>\n",
       "      <th>3</th>\n",
       "      <td>3</td>\n",
       "      <td>0.250000</td>\n",
       "    </tr>\n",
       "    <tr>\n",
       "      <th>4</th>\n",
       "      <td>4</td>\n",
       "      <td>0.181818</td>\n",
       "    </tr>\n",
       "    <tr>\n",
       "      <th>5</th>\n",
       "      <td>5</td>\n",
       "      <td>0.166667</td>\n",
       "    </tr>\n",
       "    <tr>\n",
       "      <th>6</th>\n",
       "      <td>8</td>\n",
       "      <td>0.111111</td>\n",
       "    </tr>\n",
       "  </tbody>\n",
       "</table>\n",
       "</div>"
      ]
     },
     "execution_count": 174,
     "metadata": {},
     "output_type": "execute_result"
    }
   ],
   "execution_count": 174
  },
  {
   "cell_type": "code",
   "source": "# Parch vs Survived\ntrain_df[[\"Parch\", \"Survived\"]].groupby([\"Parch\"], as_index=False).mean().sort_values(by=\"Survived\", ascending=False)",
   "metadata": {
    "trusted": true,
    "ExecuteTime": {
     "end_time": "2025-07-13T21:13:29.910853Z",
     "start_time": "2025-07-13T21:13:29.900997Z"
    }
   },
   "outputs": [
    {
     "data": {
      "text/plain": [
       "   Parch  Survived\n",
       "3      3  0.625000\n",
       "1      1  0.547059\n",
       "2      2  0.530973\n",
       "7      9  0.500000\n",
       "4      4  0.333333\n",
       "0      0  0.331337\n",
       "5      5  0.166667\n",
       "6      6  0.000000"
      ],
      "text/html": [
       "<div>\n",
       "<style scoped>\n",
       "    .dataframe tbody tr th:only-of-type {\n",
       "        vertical-align: middle;\n",
       "    }\n",
       "\n",
       "    .dataframe tbody tr th {\n",
       "        vertical-align: top;\n",
       "    }\n",
       "\n",
       "    .dataframe thead th {\n",
       "        text-align: right;\n",
       "    }\n",
       "</style>\n",
       "<table border=\"1\" class=\"dataframe\">\n",
       "  <thead>\n",
       "    <tr style=\"text-align: right;\">\n",
       "      <th></th>\n",
       "      <th>Parch</th>\n",
       "      <th>Survived</th>\n",
       "    </tr>\n",
       "  </thead>\n",
       "  <tbody>\n",
       "    <tr>\n",
       "      <th>3</th>\n",
       "      <td>3</td>\n",
       "      <td>0.625000</td>\n",
       "    </tr>\n",
       "    <tr>\n",
       "      <th>1</th>\n",
       "      <td>1</td>\n",
       "      <td>0.547059</td>\n",
       "    </tr>\n",
       "    <tr>\n",
       "      <th>2</th>\n",
       "      <td>2</td>\n",
       "      <td>0.530973</td>\n",
       "    </tr>\n",
       "    <tr>\n",
       "      <th>7</th>\n",
       "      <td>9</td>\n",
       "      <td>0.500000</td>\n",
       "    </tr>\n",
       "    <tr>\n",
       "      <th>4</th>\n",
       "      <td>4</td>\n",
       "      <td>0.333333</td>\n",
       "    </tr>\n",
       "    <tr>\n",
       "      <th>0</th>\n",
       "      <td>0</td>\n",
       "      <td>0.331337</td>\n",
       "    </tr>\n",
       "    <tr>\n",
       "      <th>5</th>\n",
       "      <td>5</td>\n",
       "      <td>0.166667</td>\n",
       "    </tr>\n",
       "    <tr>\n",
       "      <th>6</th>\n",
       "      <td>6</td>\n",
       "      <td>0.000000</td>\n",
       "    </tr>\n",
       "  </tbody>\n",
       "</table>\n",
       "</div>"
      ]
     },
     "execution_count": 175,
     "metadata": {},
     "output_type": "execute_result"
    }
   ],
   "execution_count": 175
  },
  {
   "cell_type": "markdown",
   "source": "# Outlier Detection",
   "metadata": {}
  },
  {
   "cell_type": "code",
   "source": "def detect_outliers(df, features):\n    outlier_indices = []\n\n    for c in features:\n        Q1 = np.percentile(df[c], 25)\n        Q3 = np.percentile(df[c], 75)\n\n        IQR = Q3 - Q1\n        outlier_step = IQR * 1.5\n        outlier_list_col = df[(df[c] < Q1 - outlier_step) | (df[c] > Q3 + outlier_step)].index\n        outlier_indices.extend(outlier_list_col)\n\n    outlier_indices = Counter(outlier_indices)\n    multiple_outliers = list(i for i, v in outlier_indices.items() if v > 2)\n\n    return multiple_outliers",
   "metadata": {
    "trusted": true,
    "ExecuteTime": {
     "end_time": "2025-07-13T21:13:30.067329Z",
     "start_time": "2025-07-13T21:13:30.061845Z"
    }
   },
   "outputs": [],
   "execution_count": 176
  },
  {
   "cell_type": "code",
   "source": "train_df.loc[detect_outliers(train_df, [\"Age\", \"SibSp\", \"Parch\", \"Fare\"])]",
   "metadata": {
    "trusted": true,
    "ExecuteTime": {
     "end_time": "2025-07-13T21:13:30.209532Z",
     "start_time": "2025-07-13T21:13:30.194611Z"
    }
   },
   "outputs": [
    {
     "data": {
      "text/plain": [
       "     PassengerId  Survived  Pclass  \\\n",
       "7              8         0       3   \n",
       "7            899         0       2   \n",
       "24            25         0       3   \n",
       "24           916         1       1   \n",
       "159          160         0       3   \n",
       "159         1051         1       3   \n",
       "201          202         0       3   \n",
       "201         1093         0       3   \n",
       "374          375         0       3   \n",
       "374         1266         1       1   \n",
       "409          410         0       3   \n",
       "409         1301         1       3   \n",
       "140          141         0       3   \n",
       "140         1032         1       3   \n",
       "188          189         0       3   \n",
       "188         1080         1       3   \n",
       "360          361         0       3   \n",
       "360         1252         0       3   \n",
       "394          395         1       3   \n",
       "394         1286         0       3   \n",
       "\n",
       "                                                  Name     Sex    Age  SibSp  \\\n",
       "7                       Palsson, Master. Gosta Leonard    male   2.00      3   \n",
       "7                         Caldwell, Mr. Albert Francis    male  26.00      1   \n",
       "24                       Palsson, Miss. Torborg Danira  female   8.00      3   \n",
       "24     Ryerson, Mrs. Arthur Larned (Emily Maria Borie)  female  48.00      1   \n",
       "159                         Sage, Master. Thomas Henry    male    NaN      8   \n",
       "159                Peacock, Mrs. Benjamin (Edith Nile)  female  26.00      0   \n",
       "201                                Sage, Mr. Frederick    male    NaN      8   \n",
       "201            Danbom, Master. Gilbert Sigvard Emanuel    male   0.33      0   \n",
       "374                         Palsson, Miss. Stina Viola  female   3.00      3   \n",
       "374              Dodge, Mrs. Washington (Ruth Vidaver)  female  54.00      1   \n",
       "409                                 Lefebre, Miss. Ida  female    NaN      3   \n",
       "409                          Peacock, Miss. Treasteall  female   3.00      1   \n",
       "140                      Boulos, Mrs. Joseph (Sultana)  female    NaN      0   \n",
       "140                        Goodwin, Miss. Jessie Allis  female  10.00      5   \n",
       "188                                   Bourke, Mr. John    male  40.00      1   \n",
       "188                                    Sage, Miss. Ada  female    NaN      8   \n",
       "360                                 Skoog, Mr. Wilhelm    male  40.00      1   \n",
       "360                        Sage, Master. William Henry    male  14.50      8   \n",
       "394  Sandstrom, Mrs. Hjalmar (Agnes Charlotta Bengt...  female  24.00      0   \n",
       "394                           Kink-Heilmann, Mr. Anton    male  29.00      3   \n",
       "\n",
       "     Parch              Ticket      Fare            Cabin Embarked  \n",
       "7        1              349909   21.0750              NaN        S  \n",
       "7        1              248738   29.0000              NaN        S  \n",
       "24       1              349909   21.0750              NaN        S  \n",
       "24       3            PC 17608  262.3750  B57 B59 B63 B66        C  \n",
       "159      2            CA. 2343   69.5500              NaN        S  \n",
       "159      2  SOTON/O.Q. 3101315   13.7750              NaN        S  \n",
       "201      2            CA. 2343   69.5500              NaN        S  \n",
       "201      2              347080   14.4000              NaN        S  \n",
       "374      1              349909   21.0750              NaN        S  \n",
       "374      1               33638   81.8583              A34        S  \n",
       "409      1                4133   25.4667              NaN        S  \n",
       "409      1  SOTON/O.Q. 3101315   13.7750              NaN        S  \n",
       "140      2                2678   15.2458              NaN        C  \n",
       "140      2             CA 2144   46.9000              NaN        S  \n",
       "188      1              364849   15.5000              NaN        Q  \n",
       "188      2            CA. 2343   69.5500              NaN        S  \n",
       "360      4              347088   27.9000              NaN        S  \n",
       "360      2            CA. 2343   69.5500              NaN        S  \n",
       "394      2             PP 9549   16.7000               G6        S  \n",
       "394      1              315153   22.0250              NaN        S  "
      ],
      "text/html": [
       "<div>\n",
       "<style scoped>\n",
       "    .dataframe tbody tr th:only-of-type {\n",
       "        vertical-align: middle;\n",
       "    }\n",
       "\n",
       "    .dataframe tbody tr th {\n",
       "        vertical-align: top;\n",
       "    }\n",
       "\n",
       "    .dataframe thead th {\n",
       "        text-align: right;\n",
       "    }\n",
       "</style>\n",
       "<table border=\"1\" class=\"dataframe\">\n",
       "  <thead>\n",
       "    <tr style=\"text-align: right;\">\n",
       "      <th></th>\n",
       "      <th>PassengerId</th>\n",
       "      <th>Survived</th>\n",
       "      <th>Pclass</th>\n",
       "      <th>Name</th>\n",
       "      <th>Sex</th>\n",
       "      <th>Age</th>\n",
       "      <th>SibSp</th>\n",
       "      <th>Parch</th>\n",
       "      <th>Ticket</th>\n",
       "      <th>Fare</th>\n",
       "      <th>Cabin</th>\n",
       "      <th>Embarked</th>\n",
       "    </tr>\n",
       "  </thead>\n",
       "  <tbody>\n",
       "    <tr>\n",
       "      <th>7</th>\n",
       "      <td>8</td>\n",
       "      <td>0</td>\n",
       "      <td>3</td>\n",
       "      <td>Palsson, Master. Gosta Leonard</td>\n",
       "      <td>male</td>\n",
       "      <td>2.00</td>\n",
       "      <td>3</td>\n",
       "      <td>1</td>\n",
       "      <td>349909</td>\n",
       "      <td>21.0750</td>\n",
       "      <td>NaN</td>\n",
       "      <td>S</td>\n",
       "    </tr>\n",
       "    <tr>\n",
       "      <th>7</th>\n",
       "      <td>899</td>\n",
       "      <td>0</td>\n",
       "      <td>2</td>\n",
       "      <td>Caldwell, Mr. Albert Francis</td>\n",
       "      <td>male</td>\n",
       "      <td>26.00</td>\n",
       "      <td>1</td>\n",
       "      <td>1</td>\n",
       "      <td>248738</td>\n",
       "      <td>29.0000</td>\n",
       "      <td>NaN</td>\n",
       "      <td>S</td>\n",
       "    </tr>\n",
       "    <tr>\n",
       "      <th>24</th>\n",
       "      <td>25</td>\n",
       "      <td>0</td>\n",
       "      <td>3</td>\n",
       "      <td>Palsson, Miss. Torborg Danira</td>\n",
       "      <td>female</td>\n",
       "      <td>8.00</td>\n",
       "      <td>3</td>\n",
       "      <td>1</td>\n",
       "      <td>349909</td>\n",
       "      <td>21.0750</td>\n",
       "      <td>NaN</td>\n",
       "      <td>S</td>\n",
       "    </tr>\n",
       "    <tr>\n",
       "      <th>24</th>\n",
       "      <td>916</td>\n",
       "      <td>1</td>\n",
       "      <td>1</td>\n",
       "      <td>Ryerson, Mrs. Arthur Larned (Emily Maria Borie)</td>\n",
       "      <td>female</td>\n",
       "      <td>48.00</td>\n",
       "      <td>1</td>\n",
       "      <td>3</td>\n",
       "      <td>PC 17608</td>\n",
       "      <td>262.3750</td>\n",
       "      <td>B57 B59 B63 B66</td>\n",
       "      <td>C</td>\n",
       "    </tr>\n",
       "    <tr>\n",
       "      <th>159</th>\n",
       "      <td>160</td>\n",
       "      <td>0</td>\n",
       "      <td>3</td>\n",
       "      <td>Sage, Master. Thomas Henry</td>\n",
       "      <td>male</td>\n",
       "      <td>NaN</td>\n",
       "      <td>8</td>\n",
       "      <td>2</td>\n",
       "      <td>CA. 2343</td>\n",
       "      <td>69.5500</td>\n",
       "      <td>NaN</td>\n",
       "      <td>S</td>\n",
       "    </tr>\n",
       "    <tr>\n",
       "      <th>159</th>\n",
       "      <td>1051</td>\n",
       "      <td>1</td>\n",
       "      <td>3</td>\n",
       "      <td>Peacock, Mrs. Benjamin (Edith Nile)</td>\n",
       "      <td>female</td>\n",
       "      <td>26.00</td>\n",
       "      <td>0</td>\n",
       "      <td>2</td>\n",
       "      <td>SOTON/O.Q. 3101315</td>\n",
       "      <td>13.7750</td>\n",
       "      <td>NaN</td>\n",
       "      <td>S</td>\n",
       "    </tr>\n",
       "    <tr>\n",
       "      <th>201</th>\n",
       "      <td>202</td>\n",
       "      <td>0</td>\n",
       "      <td>3</td>\n",
       "      <td>Sage, Mr. Frederick</td>\n",
       "      <td>male</td>\n",
       "      <td>NaN</td>\n",
       "      <td>8</td>\n",
       "      <td>2</td>\n",
       "      <td>CA. 2343</td>\n",
       "      <td>69.5500</td>\n",
       "      <td>NaN</td>\n",
       "      <td>S</td>\n",
       "    </tr>\n",
       "    <tr>\n",
       "      <th>201</th>\n",
       "      <td>1093</td>\n",
       "      <td>0</td>\n",
       "      <td>3</td>\n",
       "      <td>Danbom, Master. Gilbert Sigvard Emanuel</td>\n",
       "      <td>male</td>\n",
       "      <td>0.33</td>\n",
       "      <td>0</td>\n",
       "      <td>2</td>\n",
       "      <td>347080</td>\n",
       "      <td>14.4000</td>\n",
       "      <td>NaN</td>\n",
       "      <td>S</td>\n",
       "    </tr>\n",
       "    <tr>\n",
       "      <th>374</th>\n",
       "      <td>375</td>\n",
       "      <td>0</td>\n",
       "      <td>3</td>\n",
       "      <td>Palsson, Miss. Stina Viola</td>\n",
       "      <td>female</td>\n",
       "      <td>3.00</td>\n",
       "      <td>3</td>\n",
       "      <td>1</td>\n",
       "      <td>349909</td>\n",
       "      <td>21.0750</td>\n",
       "      <td>NaN</td>\n",
       "      <td>S</td>\n",
       "    </tr>\n",
       "    <tr>\n",
       "      <th>374</th>\n",
       "      <td>1266</td>\n",
       "      <td>1</td>\n",
       "      <td>1</td>\n",
       "      <td>Dodge, Mrs. Washington (Ruth Vidaver)</td>\n",
       "      <td>female</td>\n",
       "      <td>54.00</td>\n",
       "      <td>1</td>\n",
       "      <td>1</td>\n",
       "      <td>33638</td>\n",
       "      <td>81.8583</td>\n",
       "      <td>A34</td>\n",
       "      <td>S</td>\n",
       "    </tr>\n",
       "    <tr>\n",
       "      <th>409</th>\n",
       "      <td>410</td>\n",
       "      <td>0</td>\n",
       "      <td>3</td>\n",
       "      <td>Lefebre, Miss. Ida</td>\n",
       "      <td>female</td>\n",
       "      <td>NaN</td>\n",
       "      <td>3</td>\n",
       "      <td>1</td>\n",
       "      <td>4133</td>\n",
       "      <td>25.4667</td>\n",
       "      <td>NaN</td>\n",
       "      <td>S</td>\n",
       "    </tr>\n",
       "    <tr>\n",
       "      <th>409</th>\n",
       "      <td>1301</td>\n",
       "      <td>1</td>\n",
       "      <td>3</td>\n",
       "      <td>Peacock, Miss. Treasteall</td>\n",
       "      <td>female</td>\n",
       "      <td>3.00</td>\n",
       "      <td>1</td>\n",
       "      <td>1</td>\n",
       "      <td>SOTON/O.Q. 3101315</td>\n",
       "      <td>13.7750</td>\n",
       "      <td>NaN</td>\n",
       "      <td>S</td>\n",
       "    </tr>\n",
       "    <tr>\n",
       "      <th>140</th>\n",
       "      <td>141</td>\n",
       "      <td>0</td>\n",
       "      <td>3</td>\n",
       "      <td>Boulos, Mrs. Joseph (Sultana)</td>\n",
       "      <td>female</td>\n",
       "      <td>NaN</td>\n",
       "      <td>0</td>\n",
       "      <td>2</td>\n",
       "      <td>2678</td>\n",
       "      <td>15.2458</td>\n",
       "      <td>NaN</td>\n",
       "      <td>C</td>\n",
       "    </tr>\n",
       "    <tr>\n",
       "      <th>140</th>\n",
       "      <td>1032</td>\n",
       "      <td>1</td>\n",
       "      <td>3</td>\n",
       "      <td>Goodwin, Miss. Jessie Allis</td>\n",
       "      <td>female</td>\n",
       "      <td>10.00</td>\n",
       "      <td>5</td>\n",
       "      <td>2</td>\n",
       "      <td>CA 2144</td>\n",
       "      <td>46.9000</td>\n",
       "      <td>NaN</td>\n",
       "      <td>S</td>\n",
       "    </tr>\n",
       "    <tr>\n",
       "      <th>188</th>\n",
       "      <td>189</td>\n",
       "      <td>0</td>\n",
       "      <td>3</td>\n",
       "      <td>Bourke, Mr. John</td>\n",
       "      <td>male</td>\n",
       "      <td>40.00</td>\n",
       "      <td>1</td>\n",
       "      <td>1</td>\n",
       "      <td>364849</td>\n",
       "      <td>15.5000</td>\n",
       "      <td>NaN</td>\n",
       "      <td>Q</td>\n",
       "    </tr>\n",
       "    <tr>\n",
       "      <th>188</th>\n",
       "      <td>1080</td>\n",
       "      <td>1</td>\n",
       "      <td>3</td>\n",
       "      <td>Sage, Miss. Ada</td>\n",
       "      <td>female</td>\n",
       "      <td>NaN</td>\n",
       "      <td>8</td>\n",
       "      <td>2</td>\n",
       "      <td>CA. 2343</td>\n",
       "      <td>69.5500</td>\n",
       "      <td>NaN</td>\n",
       "      <td>S</td>\n",
       "    </tr>\n",
       "    <tr>\n",
       "      <th>360</th>\n",
       "      <td>361</td>\n",
       "      <td>0</td>\n",
       "      <td>3</td>\n",
       "      <td>Skoog, Mr. Wilhelm</td>\n",
       "      <td>male</td>\n",
       "      <td>40.00</td>\n",
       "      <td>1</td>\n",
       "      <td>4</td>\n",
       "      <td>347088</td>\n",
       "      <td>27.9000</td>\n",
       "      <td>NaN</td>\n",
       "      <td>S</td>\n",
       "    </tr>\n",
       "    <tr>\n",
       "      <th>360</th>\n",
       "      <td>1252</td>\n",
       "      <td>0</td>\n",
       "      <td>3</td>\n",
       "      <td>Sage, Master. William Henry</td>\n",
       "      <td>male</td>\n",
       "      <td>14.50</td>\n",
       "      <td>8</td>\n",
       "      <td>2</td>\n",
       "      <td>CA. 2343</td>\n",
       "      <td>69.5500</td>\n",
       "      <td>NaN</td>\n",
       "      <td>S</td>\n",
       "    </tr>\n",
       "    <tr>\n",
       "      <th>394</th>\n",
       "      <td>395</td>\n",
       "      <td>1</td>\n",
       "      <td>3</td>\n",
       "      <td>Sandstrom, Mrs. Hjalmar (Agnes Charlotta Bengt...</td>\n",
       "      <td>female</td>\n",
       "      <td>24.00</td>\n",
       "      <td>0</td>\n",
       "      <td>2</td>\n",
       "      <td>PP 9549</td>\n",
       "      <td>16.7000</td>\n",
       "      <td>G6</td>\n",
       "      <td>S</td>\n",
       "    </tr>\n",
       "    <tr>\n",
       "      <th>394</th>\n",
       "      <td>1286</td>\n",
       "      <td>0</td>\n",
       "      <td>3</td>\n",
       "      <td>Kink-Heilmann, Mr. Anton</td>\n",
       "      <td>male</td>\n",
       "      <td>29.00</td>\n",
       "      <td>3</td>\n",
       "      <td>1</td>\n",
       "      <td>315153</td>\n",
       "      <td>22.0250</td>\n",
       "      <td>NaN</td>\n",
       "      <td>S</td>\n",
       "    </tr>\n",
       "  </tbody>\n",
       "</table>\n",
       "</div>"
      ]
     },
     "execution_count": 177,
     "metadata": {},
     "output_type": "execute_result"
    }
   ],
   "execution_count": 177
  },
  {
   "cell_type": "code",
   "source": "# Drop Outliers\ntrain_df = train_df.drop(detect_outliers(train_df, [\"Age\", \"SibSp\", \"Parch\", \"Fare\"]), axis=0).reset_index(drop=True)",
   "metadata": {
    "trusted": true,
    "ExecuteTime": {
     "end_time": "2025-07-13T21:13:30.345848Z",
     "start_time": "2025-07-13T21:13:30.338049Z"
    }
   },
   "outputs": [],
   "execution_count": 178
  },
  {
   "cell_type": "markdown",
   "source": "# Missing Value",
   "metadata": {}
  },
  {
   "cell_type": "code",
   "source": "train_df_len = len(train_df)",
   "metadata": {
    "trusted": true,
    "ExecuteTime": {
     "end_time": "2025-07-13T21:13:30.446764Z",
     "start_time": "2025-07-13T21:13:30.443712Z"
    }
   },
   "outputs": [],
   "execution_count": 179
  },
  {
   "cell_type": "markdown",
   "source": "## Find Missing Values",
   "metadata": {}
  },
  {
   "cell_type": "code",
   "source": "train_df.columns[train_df.isnull().any()]",
   "metadata": {
    "trusted": true,
    "ExecuteTime": {
     "end_time": "2025-07-13T21:13:30.548060Z",
     "start_time": "2025-07-13T21:13:30.542696Z"
    }
   },
   "outputs": [
    {
     "data": {
      "text/plain": [
       "Index(['Age', 'Fare', 'Cabin', 'Embarked'], dtype='object')"
      ]
     },
     "execution_count": 180,
     "metadata": {},
     "output_type": "execute_result"
    }
   ],
   "execution_count": 180
  },
  {
   "cell_type": "code",
   "source": "train_df.isnull().sum()",
   "metadata": {
    "trusted": true,
    "ExecuteTime": {
     "end_time": "2025-07-13T21:13:30.662078Z",
     "start_time": "2025-07-13T21:13:30.655662Z"
    }
   },
   "outputs": [
    {
     "data": {
      "text/plain": [
       "PassengerId      0\n",
       "Survived         0\n",
       "Pclass           0\n",
       "Name             0\n",
       "Sex              0\n",
       "Age            258\n",
       "SibSp            0\n",
       "Parch            0\n",
       "Ticket           0\n",
       "Fare             1\n",
       "Cabin          997\n",
       "Embarked         2\n",
       "dtype: int64"
      ]
     },
     "execution_count": 181,
     "metadata": {},
     "output_type": "execute_result"
    }
   ],
   "execution_count": 181
  },
  {
   "cell_type": "markdown",
   "source": "## Fill Missing Values\n- Embarked has 2 missing value",
   "metadata": {}
  },
  {
   "cell_type": "code",
   "source": "train_df[train_df[\"Embarked\"].isnull()]",
   "metadata": {
    "trusted": true,
    "ExecuteTime": {
     "end_time": "2025-07-13T21:13:30.717295Z",
     "start_time": "2025-07-13T21:13:30.706247Z"
    }
   },
   "outputs": [
    {
     "data": {
      "text/plain": [
       "     PassengerId  Survived  Pclass                                       Name  \\\n",
       "59            62         1       1                        Icard, Miss. Amelie   \n",
       "819          830         1       1  Stone, Mrs. George Nelson (Martha Evelyn)   \n",
       "\n",
       "        Sex   Age  SibSp  Parch  Ticket  Fare Cabin Embarked  \n",
       "59   female  38.0      0      0  113572  80.0   B28      NaN  \n",
       "819  female  62.0      0      0  113572  80.0   B28      NaN  "
      ],
      "text/html": [
       "<div>\n",
       "<style scoped>\n",
       "    .dataframe tbody tr th:only-of-type {\n",
       "        vertical-align: middle;\n",
       "    }\n",
       "\n",
       "    .dataframe tbody tr th {\n",
       "        vertical-align: top;\n",
       "    }\n",
       "\n",
       "    .dataframe thead th {\n",
       "        text-align: right;\n",
       "    }\n",
       "</style>\n",
       "<table border=\"1\" class=\"dataframe\">\n",
       "  <thead>\n",
       "    <tr style=\"text-align: right;\">\n",
       "      <th></th>\n",
       "      <th>PassengerId</th>\n",
       "      <th>Survived</th>\n",
       "      <th>Pclass</th>\n",
       "      <th>Name</th>\n",
       "      <th>Sex</th>\n",
       "      <th>Age</th>\n",
       "      <th>SibSp</th>\n",
       "      <th>Parch</th>\n",
       "      <th>Ticket</th>\n",
       "      <th>Fare</th>\n",
       "      <th>Cabin</th>\n",
       "      <th>Embarked</th>\n",
       "    </tr>\n",
       "  </thead>\n",
       "  <tbody>\n",
       "    <tr>\n",
       "      <th>59</th>\n",
       "      <td>62</td>\n",
       "      <td>1</td>\n",
       "      <td>1</td>\n",
       "      <td>Icard, Miss. Amelie</td>\n",
       "      <td>female</td>\n",
       "      <td>38.0</td>\n",
       "      <td>0</td>\n",
       "      <td>0</td>\n",
       "      <td>113572</td>\n",
       "      <td>80.0</td>\n",
       "      <td>B28</td>\n",
       "      <td>NaN</td>\n",
       "    </tr>\n",
       "    <tr>\n",
       "      <th>819</th>\n",
       "      <td>830</td>\n",
       "      <td>1</td>\n",
       "      <td>1</td>\n",
       "      <td>Stone, Mrs. George Nelson (Martha Evelyn)</td>\n",
       "      <td>female</td>\n",
       "      <td>62.0</td>\n",
       "      <td>0</td>\n",
       "      <td>0</td>\n",
       "      <td>113572</td>\n",
       "      <td>80.0</td>\n",
       "      <td>B28</td>\n",
       "      <td>NaN</td>\n",
       "    </tr>\n",
       "  </tbody>\n",
       "</table>\n",
       "</div>"
      ]
     },
     "execution_count": 182,
     "metadata": {},
     "output_type": "execute_result"
    }
   ],
   "execution_count": 182
  },
  {
   "cell_type": "code",
   "source": "train_df.boxplot(column=\"Fare\", by=\"Embarked\")\nplt.show()",
   "metadata": {
    "trusted": true,
    "ExecuteTime": {
     "end_time": "2025-07-13T21:13:30.887055Z",
     "start_time": "2025-07-13T21:13:30.796044Z"
    }
   },
   "outputs": [
    {
     "data": {
      "text/plain": [
       "<Figure size 640x480 with 1 Axes>"
      ],
      "image/png": "[encoded data removed]"
     },
     "metadata": {},
     "output_type": "display_data"
    }
   ],
   "execution_count": 183
  },
  {
   "cell_type": "code",
   "source": "train_df[\"Embarked\"] = train_df[\"Embarked\"].fillna(\"C\")\ntrain_df[train_df[\"Embarked\"].isnull()]",
   "metadata": {
    "trusted": true,
    "ExecuteTime": {
     "end_time": "2025-07-13T21:13:30.999234Z",
     "start_time": "2025-07-13T21:13:30.992422Z"
    }
   },
   "outputs": [
    {
     "data": {
      "text/plain": [
       "Empty DataFrame\n",
       "Columns: [PassengerId, Survived, Pclass, Name, Sex, Age, SibSp, Parch, Ticket, Fare, Cabin, Embarked]\n",
       "Index: []"
      ],
      "text/html": [
       "<div>\n",
       "<style scoped>\n",
       "    .dataframe tbody tr th:only-of-type {\n",
       "        vertical-align: middle;\n",
       "    }\n",
       "\n",
       "    .dataframe tbody tr th {\n",
       "        vertical-align: top;\n",
       "    }\n",
       "\n",
       "    .dataframe thead th {\n",
       "        text-align: right;\n",
       "    }\n",
       "</style>\n",
       "<table border=\"1\" class=\"dataframe\">\n",
       "  <thead>\n",
       "    <tr style=\"text-align: right;\">\n",
       "      <th></th>\n",
       "      <th>PassengerId</th>\n",
       "      <th>Survived</th>\n",
       "      <th>Pclass</th>\n",
       "      <th>Name</th>\n",
       "      <th>Sex</th>\n",
       "      <th>Age</th>\n",
       "      <th>SibSp</th>\n",
       "      <th>Parch</th>\n",
       "      <th>Ticket</th>\n",
       "      <th>Fare</th>\n",
       "      <th>Cabin</th>\n",
       "      <th>Embarked</th>\n",
       "    </tr>\n",
       "  </thead>\n",
       "  <tbody>\n",
       "  </tbody>\n",
       "</table>\n",
       "</div>"
      ]
     },
     "execution_count": 184,
     "metadata": {},
     "output_type": "execute_result"
    }
   ],
   "execution_count": 184
  },
  {
   "cell_type": "markdown",
   "source": "# Visualization\n\nFeaturelar arasındaki korelasyonu inceleme...",
   "metadata": {}
  },
  {
   "cell_type": "markdown",
   "source": "### Correlation Between SibSp - Parch - Age - Fare - Survived",
   "metadata": {}
  },
  {
   "cell_type": "code",
   "source": "list1 = [\"SibSp\", \"Parch\", \"Age\", \"Fare\", \"Survived\"]\nsns.heatmap(train_df[list1].corr(), annot=True, fmt=\".2f\")\nplt.show()",
   "metadata": {
    "trusted": true,
    "ExecuteTime": {
     "end_time": "2025-07-13T21:13:31.226531Z",
     "start_time": "2025-07-13T21:13:31.071158Z"
    }
   },
   "outputs": [
    {
     "data": {
      "text/plain": [
       "<Figure size 640x480 with 2 Axes>"
      ],
      "image/png": "[encoded data removed]"
     },
     "metadata": {},
     "output_type": "display_data"
    }
   ],
   "execution_count": 185
  },
  {
   "cell_type": "markdown",
   "source": "## Sibsp -- Survived",
   "metadata": {}
  },
  {
   "cell_type": "code",
   "source": "g = sns.catplot(x= \"SibSp\", y = \"Survived\", data= train_df, kind=\"bar\")\ng.set_ylabels(\"Survived Probability\")\nplt.show()",
   "metadata": {
    "trusted": true,
    "ExecuteTime": {
     "end_time": "2025-07-13T21:13:31.591386Z",
     "start_time": "2025-07-13T21:13:31.291618Z"
    }
   },
   "outputs": [
    {
     "data": {
      "text/plain": [
       "<Figure size 511.111x500 with 1 Axes>"
      ],
      "image/png": "[encoded data removed]"
     },
     "metadata": {},
     "output_type": "display_data"
    }
   ],
   "execution_count": 186
  },
  {
   "cell_type": "markdown",
   "source": "## PClass -- Survived",
   "metadata": {}
  },
  {
   "cell_type": "code",
   "source": "g = sns.catplot(x=\"Pclass\", y=\"Survived\", data=train_df, kind=\"bar\")\ng.set_ylabels(\"Survived Probability\")\nplt.show()",
   "metadata": {
    "trusted": true,
    "ExecuteTime": {
     "end_time": "2025-07-13T21:13:31.829670Z",
     "start_time": "2025-07-13T21:13:31.615859Z"
    }
   },
   "outputs": [
    {
     "data": {
      "text/plain": [
       "<Figure size 511.111x500 with 1 Axes>"
      ],
      "image/png": "[encoded data removed]"
     },
     "metadata": {},
     "output_type": "display_data"
    }
   ],
   "execution_count": 187
  },
  {
   "cell_type": "markdown",
   "source": "## Age -- Survived",
   "metadata": {}
  },
  {
   "cell_type": "code",
   "source": "g = sns.FacetGrid(train_df, col=\"Survived\")\ng.map(sns.distplot, \"Age\", bins=25)\nplt.show()",
   "metadata": {
    "trusted": true,
    "ExecuteTime": {
     "end_time": "2025-07-13T21:13:32.188439Z",
     "start_time": "2025-07-13T21:13:31.831419Z"
    }
   },
   "outputs": [
    {
     "data": {
      "text/plain": [
       "<Figure size 600x300 with 2 Axes>"
      ],
      "image/png": "[encoded data removed]"
     },
     "metadata": {},
     "output_type": "display_data"
    }
   ],
   "execution_count": 188
  },
  {
   "cell_type": "markdown",
   "source": "## Pclass -- Survived -- Age",
   "metadata": {}
  },
  {
   "cell_type": "code",
   "source": "g = sns.FacetGrid(train_df, col=\"Survived\", row=\"Pclass\", hue=\"Sex\")\ng.map(plt.hist, \"Age\", bins=25)\ng.add_legend()\nplt.show()",
   "metadata": {
    "trusted": true,
    "ExecuteTime": {
     "end_time": "2025-07-13T21:13:33.443810Z",
     "start_time": "2025-07-13T21:13:32.192448Z"
    }
   },
   "outputs": [
    {
     "data": {
      "text/plain": [
       "<Figure size 691.875x900 with 6 Axes>"
      ],
      "image/png": "[encoded data removed]"
     },
     "metadata": {},
     "output_type": "display_data"
    }
   ],
   "execution_count": 189
  },
  {
   "cell_type": "markdown",
   "source": "## Embarked -- Sex -- Fare -- Survived",
   "metadata": {}
  },
  {
   "cell_type": "code",
   "source": "g = sns.FacetGrid(train_df, row=\"Embarked\", col=\"Survived\")\ng.map(sns.barplot, \"Sex\", \"Fare\")\nplt.show()",
   "metadata": {
    "trusted": true,
    "ExecuteTime": {
     "end_time": "2025-07-13T21:13:34.290199Z",
     "start_time": "2025-07-13T21:13:33.448694Z"
    }
   },
   "outputs": [
    {
     "data": {
      "text/plain": [
       "<Figure size 600x900 with 6 Axes>"
      ],
      "image/png": "[encoded data removed]"
     },
     "metadata": {},
     "output_type": "display_data"
    }
   ],
   "execution_count": 190
  },
  {
   "cell_type": "markdown",
   "source": "## Fill Missing, Age Feature: ",
   "metadata": {}
  },
  {
   "cell_type": "code",
   "source": "train_df[train_df[\"Age\"].isnull()]",
   "metadata": {
    "trusted": true,
    "ExecuteTime": {
     "end_time": "2025-07-13T21:13:34.318364Z",
     "start_time": "2025-07-13T21:13:34.307755Z"
    }
   },
   "outputs": [
    {
     "data": {
      "text/plain": [
       "      PassengerId  Survived  Pclass                             Name     Sex  \\\n",
       "5               6         0       3                 Moran, Mr. James    male   \n",
       "16             18         1       2     Williams, Mr. Charles Eugene    male   \n",
       "18             20         1       3          Masselmani, Mrs. Fatima  female   \n",
       "24             27         0       3          Emir, Mr. Farred Chehab    male   \n",
       "26             29         1       3    O'Dwyer, Miss. Ellen \"Nellie\"  female   \n",
       "...           ...       ...     ...                              ...     ...   \n",
       "1280         1300         1       3  Riordan, Miss. Johanna Hannah\"\"  female   \n",
       "1281         1302         1       3           Naughton, Miss. Hannah  female   \n",
       "1284         1305         0       3               Spector, Mr. Woolf    male   \n",
       "1287         1308         0       3              Ware, Mr. Frederick    male   \n",
       "1288         1309         0       3         Peter, Master. Michael J    male   \n",
       "\n",
       "      Age  SibSp  Parch     Ticket     Fare Cabin Embarked  \n",
       "5     NaN      0      0     330877   8.4583   NaN        Q  \n",
       "16    NaN      0      0     244373  13.0000   NaN        S  \n",
       "18    NaN      0      0       2649   7.2250   NaN        C  \n",
       "24    NaN      0      0       2631   7.2250   NaN        C  \n",
       "26    NaN      0      0     330959   7.8792   NaN        Q  \n",
       "...   ...    ...    ...        ...      ...   ...      ...  \n",
       "1280  NaN      0      0     334915   7.7208   NaN        Q  \n",
       "1281  NaN      0      0     365237   7.7500   NaN        Q  \n",
       "1284  NaN      0      0  A.5. 3236   8.0500   NaN        S  \n",
       "1287  NaN      0      0     359309   8.0500   NaN        S  \n",
       "1288  NaN      1      1       2668  22.3583   NaN        C  \n",
       "\n",
       "[258 rows x 12 columns]"
      ],
      "text/html": [
       "<div>\n",
       "<style scoped>\n",
       "    .dataframe tbody tr th:only-of-type {\n",
       "        vertical-align: middle;\n",
       "    }\n",
       "\n",
       "    .dataframe tbody tr th {\n",
       "        vertical-align: top;\n",
       "    }\n",
       "\n",
       "    .dataframe thead th {\n",
       "        text-align: right;\n",
       "    }\n",
       "</style>\n",
       "<table border=\"1\" class=\"dataframe\">\n",
       "  <thead>\n",
       "    <tr style=\"text-align: right;\">\n",
       "      <th></th>\n",
       "      <th>PassengerId</th>\n",
       "      <th>Survived</th>\n",
       "      <th>Pclass</th>\n",
       "      <th>Name</th>\n",
       "      <th>Sex</th>\n",
       "      <th>Age</th>\n",
       "      <th>SibSp</th>\n",
       "      <th>Parch</th>\n",
       "      <th>Ticket</th>\n",
       "      <th>Fare</th>\n",
       "      <th>Cabin</th>\n",
       "      <th>Embarked</th>\n",
       "    </tr>\n",
       "  </thead>\n",
       "  <tbody>\n",
       "    <tr>\n",
       "      <th>5</th>\n",
       "      <td>6</td>\n",
       "      <td>0</td>\n",
       "      <td>3</td>\n",
       "      <td>Moran, Mr. James</td>\n",
       "      <td>male</td>\n",
       "      <td>NaN</td>\n",
       "      <td>0</td>\n",
       "      <td>0</td>\n",
       "      <td>330877</td>\n",
       "      <td>8.4583</td>\n",
       "      <td>NaN</td>\n",
       "      <td>Q</td>\n",
       "    </tr>\n",
       "    <tr>\n",
       "      <th>16</th>\n",
       "      <td>18</td>\n",
       "      <td>1</td>\n",
       "      <td>2</td>\n",
       "      <td>Williams, Mr. Charles Eugene</td>\n",
       "      <td>male</td>\n",
       "      <td>NaN</td>\n",
       "      <td>0</td>\n",
       "      <td>0</td>\n",
       "      <td>244373</td>\n",
       "      <td>13.0000</td>\n",
       "      <td>NaN</td>\n",
       "      <td>S</td>\n",
       "    </tr>\n",
       "    <tr>\n",
       "      <th>18</th>\n",
       "      <td>20</td>\n",
       "      <td>1</td>\n",
       "      <td>3</td>\n",
       "      <td>Masselmani, Mrs. Fatima</td>\n",
       "      <td>female</td>\n",
       "      <td>NaN</td>\n",
       "      <td>0</td>\n",
       "      <td>0</td>\n",
       "      <td>2649</td>\n",
       "      <td>7.2250</td>\n",
       "      <td>NaN</td>\n",
       "      <td>C</td>\n",
       "    </tr>\n",
       "    <tr>\n",
       "      <th>24</th>\n",
       "      <td>27</td>\n",
       "      <td>0</td>\n",
       "      <td>3</td>\n",
       "      <td>Emir, Mr. Farred Chehab</td>\n",
       "      <td>male</td>\n",
       "      <td>NaN</td>\n",
       "      <td>0</td>\n",
       "      <td>0</td>\n",
       "      <td>2631</td>\n",
       "      <td>7.2250</td>\n",
       "      <td>NaN</td>\n",
       "      <td>C</td>\n",
       "    </tr>\n",
       "    <tr>\n",
       "      <th>26</th>\n",
       "      <td>29</td>\n",
       "      <td>1</td>\n",
       "      <td>3</td>\n",
       "      <td>O'Dwyer, Miss. Ellen \"Nellie\"</td>\n",
       "      <td>female</td>\n",
       "      <td>NaN</td>\n",
       "      <td>0</td>\n",
       "      <td>0</td>\n",
       "      <td>330959</td>\n",
       "      <td>7.8792</td>\n",
       "      <td>NaN</td>\n",
       "      <td>Q</td>\n",
       "    </tr>\n",
       "    <tr>\n",
       "      <th>...</th>\n",
       "      <td>...</td>\n",
       "      <td>...</td>\n",
       "      <td>...</td>\n",
       "      <td>...</td>\n",
       "      <td>...</td>\n",
       "      <td>...</td>\n",
       "      <td>...</td>\n",
       "      <td>...</td>\n",
       "      <td>...</td>\n",
       "      <td>...</td>\n",
       "      <td>...</td>\n",
       "      <td>...</td>\n",
       "    </tr>\n",
       "    <tr>\n",
       "      <th>1280</th>\n",
       "      <td>1300</td>\n",
       "      <td>1</td>\n",
       "      <td>3</td>\n",
       "      <td>Riordan, Miss. Johanna Hannah\"\"</td>\n",
       "      <td>female</td>\n",
       "      <td>NaN</td>\n",
       "      <td>0</td>\n",
       "      <td>0</td>\n",
       "      <td>334915</td>\n",
       "      <td>7.7208</td>\n",
       "      <td>NaN</td>\n",
       "      <td>Q</td>\n",
       "    </tr>\n",
       "    <tr>\n",
       "      <th>1281</th>\n",
       "      <td>1302</td>\n",
       "      <td>1</td>\n",
       "      <td>3</td>\n",
       "      <td>Naughton, Miss. Hannah</td>\n",
       "      <td>female</td>\n",
       "      <td>NaN</td>\n",
       "      <td>0</td>\n",
       "      <td>0</td>\n",
       "      <td>365237</td>\n",
       "      <td>7.7500</td>\n",
       "      <td>NaN</td>\n",
       "      <td>Q</td>\n",
       "    </tr>\n",
       "    <tr>\n",
       "      <th>1284</th>\n",
       "      <td>1305</td>\n",
       "      <td>0</td>\n",
       "      <td>3</td>\n",
       "      <td>Spector, Mr. Woolf</td>\n",
       "      <td>male</td>\n",
       "      <td>NaN</td>\n",
       "      <td>0</td>\n",
       "      <td>0</td>\n",
       "      <td>A.5. 3236</td>\n",
       "      <td>8.0500</td>\n",
       "      <td>NaN</td>\n",
       "      <td>S</td>\n",
       "    </tr>\n",
       "    <tr>\n",
       "      <th>1287</th>\n",
       "      <td>1308</td>\n",
       "      <td>0</td>\n",
       "      <td>3</td>\n",
       "      <td>Ware, Mr. Frederick</td>\n",
       "      <td>male</td>\n",
       "      <td>NaN</td>\n",
       "      <td>0</td>\n",
       "      <td>0</td>\n",
       "      <td>359309</td>\n",
       "      <td>8.0500</td>\n",
       "      <td>NaN</td>\n",
       "      <td>S</td>\n",
       "    </tr>\n",
       "    <tr>\n",
       "      <th>1288</th>\n",
       "      <td>1309</td>\n",
       "      <td>0</td>\n",
       "      <td>3</td>\n",
       "      <td>Peter, Master. Michael J</td>\n",
       "      <td>male</td>\n",
       "      <td>NaN</td>\n",
       "      <td>1</td>\n",
       "      <td>1</td>\n",
       "      <td>2668</td>\n",
       "      <td>22.3583</td>\n",
       "      <td>NaN</td>\n",
       "      <td>C</td>\n",
       "    </tr>\n",
       "  </tbody>\n",
       "</table>\n",
       "<p>258 rows × 12 columns</p>\n",
       "</div>"
      ]
     },
     "execution_count": 191,
     "metadata": {},
     "output_type": "execute_result"
    }
   ],
   "execution_count": 191
  },
  {
   "cell_type": "code",
   "source": "sns.catplot(x=\"Sex\", y=\"Age\",data=train_df, kind=\"box\")\nplt.show()",
   "metadata": {
    "trusted": true,
    "ExecuteTime": {
     "end_time": "2025-07-13T21:13:34.787137Z",
     "start_time": "2025-07-13T21:13:34.604932Z"
    }
   },
   "outputs": [
    {
     "data": {
      "text/plain": [
       "<Figure size 511.111x500 with 1 Axes>"
      ],
      "image/png": "[encoded data removed]"
     },
     "metadata": {},
     "output_type": "display_data"
    }
   ],
   "execution_count": 192
  },
  {
   "cell_type": "code",
   "source": "sns.catplot(x=\"Sex\", y= \"Age\", hue=\"Pclass\", data=train_df, kind=\"box\")\nplt.show()",
   "metadata": {
    "trusted": true,
    "ExecuteTime": {
     "end_time": "2025-07-13T21:13:35.034656Z",
     "start_time": "2025-07-13T21:13:34.814511Z"
    }
   },
   "outputs": [
    {
     "data": {
      "text/plain": [
       "<Figure size 557.75x500 with 1 Axes>"
      ],
      "image/png": "[encoded data removed]"
     },
     "metadata": {},
     "output_type": "display_data"
    }
   ],
   "execution_count": 193
  },
  {
   "cell_type": "code",
   "source": [
    "index_nan_age = list(train_df[\"Age\"][train_df[\"Age\"].isnull()].index)\n",
    "for i in index_nan_age:\n",
    "    # Yaşı kayıp olan kişi ile SibSp Parch ve Pclass değerleri aynı olan kişileri getir ve medyan değerini al.\n",
    "    age_pred = train_df[\"Age\"][((train_df[\"SibSp\"] == train_df.iloc[i][\"SibSp\"]) & \n",
    "                                (train_df[\"Parch\"] == train_df.iloc[i][\"Parch\"]) & \n",
    "                                (train_df[\"Pclass\"] == train_df.iloc[i][\"Pclass\"]))].median()\n",
    "    age_median = train_df[\"Age\"].median()\n",
    "    if not np.isnan(age_pred):\n",
    "        train_df[\"Age\"].iloc[i] = age_pred\n",
    "    else:\n",
    "        train_df[\"Age\"].iloc[i] = age_median"
   ],
   "metadata": {
    "trusted": true,
    "ExecuteTime": {
     "end_time": "2025-07-13T21:13:35.207154Z",
     "start_time": "2025-07-13T21:13:35.039669Z"
    }
   },
   "outputs": [],
   "execution_count": 194
  },
  {
   "cell_type": "code",
   "source": "train_df[train_df[\"Age\"].isnull()]",
   "metadata": {
    "trusted": true,
    "ExecuteTime": {
     "end_time": "2025-07-13T21:13:35.307261Z",
     "start_time": "2025-07-13T21:13:35.295801Z"
    }
   },
   "outputs": [
    {
     "data": {
      "text/plain": [
       "Empty DataFrame\n",
       "Columns: [PassengerId, Survived, Pclass, Name, Sex, Age, SibSp, Parch, Ticket, Fare, Cabin, Embarked]\n",
       "Index: []"
      ],
      "text/html": [
       "<div>\n",
       "<style scoped>\n",
       "    .dataframe tbody tr th:only-of-type {\n",
       "        vertical-align: middle;\n",
       "    }\n",
       "\n",
       "    .dataframe tbody tr th {\n",
       "        vertical-align: top;\n",
       "    }\n",
       "\n",
       "    .dataframe thead th {\n",
       "        text-align: right;\n",
       "    }\n",
       "</style>\n",
       "<table border=\"1\" class=\"dataframe\">\n",
       "  <thead>\n",
       "    <tr style=\"text-align: right;\">\n",
       "      <th></th>\n",
       "      <th>PassengerId</th>\n",
       "      <th>Survived</th>\n",
       "      <th>Pclass</th>\n",
       "      <th>Name</th>\n",
       "      <th>Sex</th>\n",
       "      <th>Age</th>\n",
       "      <th>SibSp</th>\n",
       "      <th>Parch</th>\n",
       "      <th>Ticket</th>\n",
       "      <th>Fare</th>\n",
       "      <th>Cabin</th>\n",
       "      <th>Embarked</th>\n",
       "    </tr>\n",
       "  </thead>\n",
       "  <tbody>\n",
       "  </tbody>\n",
       "</table>\n",
       "</div>"
      ]
     },
     "execution_count": 195,
     "metadata": {},
     "output_type": "execute_result"
    }
   ],
   "execution_count": 195
  },
  {
   "cell_type": "markdown",
   "source": "# Feature Engineering",
   "metadata": {}
  },
  {
   "cell_type": "markdown",
   "source": "### Name -- Title",
   "metadata": {}
  },
  {
   "cell_type": "code",
   "source": "# Name'lere bakarak yeni bir feature çıkarımı yapabilir miyiz onu gözlemliyoruz. Mesela burada ünvanlara göre bir feature extraction yapabiliriz.\ntrain_df[\"Name\"].head(10)",
   "metadata": {
    "trusted": true,
    "ExecuteTime": {
     "end_time": "2025-07-13T21:13:35.346071Z",
     "start_time": "2025-07-13T21:13:35.340069Z"
    }
   },
   "outputs": [
    {
     "data": {
      "text/plain": [
       "0                              Braund, Mr. Owen Harris\n",
       "1    Cumings, Mrs. John Bradley (Florence Briggs Th...\n",
       "2                               Heikkinen, Miss. Laina\n",
       "3         Futrelle, Mrs. Jacques Heath (Lily May Peel)\n",
       "4                             Allen, Mr. William Henry\n",
       "5                                     Moran, Mr. James\n",
       "6                              McCarthy, Mr. Timothy J\n",
       "7    Johnson, Mrs. Oscar W (Elisabeth Vilhelmina Berg)\n",
       "8                  Nasser, Mrs. Nicholas (Adele Achem)\n",
       "9                      Sandstrom, Miss. Marguerite Rut\n",
       "Name: Name, dtype: object"
      ]
     },
     "execution_count": 196,
     "metadata": {},
     "output_type": "execute_result"
    }
   ],
   "execution_count": 196
  },
  {
   "cell_type": "code",
   "source": "name = train_df[\"Name\"]\ntrain_df[\"Title\"] = [i.split(\".\")[0].split(\",\")[-1].strip() for i in name]\ntrain_df[\"Title\"].head(10)",
   "metadata": {
    "trusted": true,
    "ExecuteTime": {
     "end_time": "2025-07-13T21:13:35.393968Z",
     "start_time": "2025-07-13T21:13:35.386967Z"
    }
   },
   "outputs": [
    {
     "data": {
      "text/plain": [
       "0      Mr\n",
       "1     Mrs\n",
       "2    Miss\n",
       "3     Mrs\n",
       "4      Mr\n",
       "5      Mr\n",
       "6      Mr\n",
       "7     Mrs\n",
       "8     Mrs\n",
       "9    Miss\n",
       "Name: Title, dtype: object"
      ]
     },
     "execution_count": 197,
     "metadata": {},
     "output_type": "execute_result"
    }
   ],
   "execution_count": 197
  },
  {
   "cell_type": "code",
   "source": "sns.countplot(x=\"Title\", data=train_df)\nplt.xticks(rotation=60)\nplt.show()",
   "metadata": {
    "trusted": true,
    "ExecuteTime": {
     "end_time": "2025-07-13T21:13:35.662863Z",
     "start_time": "2025-07-13T21:13:35.464261Z"
    }
   },
   "outputs": [
    {
     "data": {
      "text/plain": [
       "<Figure size 640x480 with 1 Axes>"
      ],
      "image/png": "[encoded data removed]"
     },
     "metadata": {},
     "output_type": "display_data"
    }
   ],
   "execution_count": 198
  },
  {
   "cell_type": "code",
   "source": "# Convert Categorical\ntrain_df[\"Title\"] = train_df[\"Title\"].replace([\"Lady\", \"the Countess\", \"Jonkheer\", \"Capt\", \"Col\", \"Sir\", \"Lady\", \"Major\", \"Mme\", \"Dr\", \"Rev\", \"Don\"], \"other\") # Kaldırılabilir...\ntrain_df[\"Title\"] = [0 if i == \"Master\" else 1 if i == \"Miss\" or i == \"Ms\" or i == \"Mlle\" or i == \"Mrs\" else 2 if i == \"Mr\" else 3 for i in train_df[\"Title\"]]\ntrain_df[\"Title\"].head(20)",
   "metadata": {
    "trusted": true,
    "ExecuteTime": {
     "end_time": "2025-07-13T21:13:35.695996Z",
     "start_time": "2025-07-13T21:13:35.688376Z"
    }
   },
   "outputs": [
    {
     "data": {
      "text/plain": [
       "0     2\n",
       "1     1\n",
       "2     1\n",
       "3     1\n",
       "4     2\n",
       "5     2\n",
       "6     2\n",
       "7     1\n",
       "8     1\n",
       "9     1\n",
       "10    1\n",
       "11    2\n",
       "12    2\n",
       "13    1\n",
       "14    1\n",
       "15    0\n",
       "16    2\n",
       "17    1\n",
       "18    1\n",
       "19    2\n",
       "Name: Title, dtype: int64"
      ]
     },
     "execution_count": 199,
     "metadata": {},
     "output_type": "execute_result"
    }
   ],
   "execution_count": 199
  },
  {
   "cell_type": "code",
   "source": "g = sns.countplot(x=\"Title\", data=train_df)\nplt.xticks(rotation=60)\nplt.show()",
   "metadata": {
    "trusted": true,
    "ExecuteTime": {
     "end_time": "2025-07-13T21:13:35.815651Z",
     "start_time": "2025-07-13T21:13:35.727029Z"
    }
   },
   "outputs": [
    {
     "data": {
      "text/plain": [
       "<Figure size 640x480 with 1 Axes>"
      ],
      "image/png": "[encoded data removed]"
     },
     "metadata": {},
     "output_type": "display_data"
    }
   ],
   "execution_count": 200
  },
  {
   "cell_type": "code",
   "source": "g = sns.catplot(x = \"Title\", y = \"Survived\", data=train_df, kind=\"bar\")\ng.set_xticklabels([\"Master\", \"Mrs\", \"Mr\", \"Other\"])\ng.set_ylabels(\"Survival Probability\")\nplt.show()",
   "metadata": {
    "trusted": true,
    "ExecuteTime": {
     "end_time": "2025-07-13T21:13:36.072037Z",
     "start_time": "2025-07-13T21:13:35.842467Z"
    }
   },
   "outputs": [
    {
     "data": {
      "text/plain": [
       "<Figure size 511.111x500 with 1 Axes>"
      ],
      "image/png": "[encoded data removed]"
     },
     "metadata": {},
     "output_type": "display_data"
    }
   ],
   "execution_count": 201
  },
  {
   "cell_type": "code",
   "source": "train_df.drop(labels=[\"Name\"], axis=1,inplace=True)",
   "metadata": {
    "trusted": true,
    "ExecuteTime": {
     "end_time": "2025-07-13T21:13:36.080572Z",
     "start_time": "2025-07-13T21:13:36.076061Z"
    }
   },
   "outputs": [],
   "execution_count": 202
  },
  {
   "cell_type": "code",
   "source": "train_df.info()",
   "metadata": {
    "trusted": true,
    "ExecuteTime": {
     "end_time": "2025-07-13T21:13:36.091038Z",
     "start_time": "2025-07-13T21:13:36.084614Z"
    }
   },
   "outputs": [
    {
     "name": "stdout",
     "output_type": "stream",
     "text": [
      "<class 'pandas.core.frame.DataFrame'>\n",
      "RangeIndex: 1289 entries, 0 to 1288\n",
      "Data columns (total 12 columns):\n",
      " #   Column       Non-Null Count  Dtype  \n",
      "---  ------       --------------  -----  \n",
      " 0   PassengerId  1289 non-null   int64  \n",
      " 1   Survived     1289 non-null   int64  \n",
      " 2   Pclass       1289 non-null   int64  \n",
      " 3   Sex          1289 non-null   object \n",
      " 4   Age          1289 non-null   float64\n",
      " 5   SibSp        1289 non-null   int64  \n",
      " 6   Parch        1289 non-null   int64  \n",
      " 7   Ticket       1289 non-null   object \n",
      " 8   Fare         1288 non-null   float64\n",
      " 9   Cabin        292 non-null    object \n",
      " 10  Embarked     1289 non-null   object \n",
      " 11  Title        1289 non-null   int64  \n",
      "dtypes: float64(2), int64(6), object(4)\n",
      "memory usage: 121.0+ KB\n"
     ]
    }
   ],
   "execution_count": 203
  },
  {
   "cell_type": "code",
   "source": "train_df = pd.get_dummies(train_df, columns=[\"Title\"], dtype=int)\ntrain_df.head()",
   "metadata": {
    "trusted": true,
    "ExecuteTime": {
     "end_time": "2025-07-13T21:13:36.107563Z",
     "start_time": "2025-07-13T21:13:36.096548Z"
    }
   },
   "outputs": [
    {
     "data": {
      "text/plain": [
       "   PassengerId  Survived  Pclass     Sex   Age  SibSp  Parch  \\\n",
       "0            1         0       3    male  22.0      1      0   \n",
       "1            2         1       1  female  38.0      1      0   \n",
       "2            3         1       3  female  26.0      0      0   \n",
       "3            4         1       1  female  35.0      1      0   \n",
       "4            5         0       3    male  35.0      0      0   \n",
       "\n",
       "             Ticket     Fare Cabin Embarked  Title_0  Title_1  Title_2  \\\n",
       "0         A/5 21171   7.2500   NaN        S        0        0        1   \n",
       "1          PC 17599  71.2833   C85        C        0        1        0   \n",
       "2  STON/O2. 3101282   7.9250   NaN        S        0        1        0   \n",
       "3            113803  53.1000  C123        S        0        1        0   \n",
       "4            373450   8.0500   NaN        S        0        0        1   \n",
       "\n",
       "   Title_3  \n",
       "0        0  \n",
       "1        0  \n",
       "2        0  \n",
       "3        0  \n",
       "4        0  "
      ],
      "text/html": [
       "<div>\n",
       "<style scoped>\n",
       "    .dataframe tbody tr th:only-of-type {\n",
       "        vertical-align: middle;\n",
       "    }\n",
       "\n",
       "    .dataframe tbody tr th {\n",
       "        vertical-align: top;\n",
       "    }\n",
       "\n",
       "    .dataframe thead th {\n",
       "        text-align: right;\n",
       "    }\n",
       "</style>\n",
       "<table border=\"1\" class=\"dataframe\">\n",
       "  <thead>\n",
       "    <tr style=\"text-align: right;\">\n",
       "      <th></th>\n",
       "      <th>PassengerId</th>\n",
       "      <th>Survived</th>\n",
       "      <th>Pclass</th>\n",
       "      <th>Sex</th>\n",
       "      <th>Age</th>\n",
       "      <th>SibSp</th>\n",
       "      <th>Parch</th>\n",
       "      <th>Ticket</th>\n",
       "      <th>Fare</th>\n",
       "      <th>Cabin</th>\n",
       "      <th>Embarked</th>\n",
       "      <th>Title_0</th>\n",
       "      <th>Title_1</th>\n",
       "      <th>Title_2</th>\n",
       "      <th>Title_3</th>\n",
       "    </tr>\n",
       "  </thead>\n",
       "  <tbody>\n",
       "    <tr>\n",
       "      <th>0</th>\n",
       "      <td>1</td>\n",
       "      <td>0</td>\n",
       "      <td>3</td>\n",
       "      <td>male</td>\n",
       "      <td>22.0</td>\n",
       "      <td>1</td>\n",
       "      <td>0</td>\n",
       "      <td>A/5 21171</td>\n",
       "      <td>7.2500</td>\n",
       "      <td>NaN</td>\n",
       "      <td>S</td>\n",
       "      <td>0</td>\n",
       "      <td>0</td>\n",
       "      <td>1</td>\n",
       "      <td>0</td>\n",
       "    </tr>\n",
       "    <tr>\n",
       "      <th>1</th>\n",
       "      <td>2</td>\n",
       "      <td>1</td>\n",
       "      <td>1</td>\n",
       "      <td>female</td>\n",
       "      <td>38.0</td>\n",
       "      <td>1</td>\n",
       "      <td>0</td>\n",
       "      <td>PC 17599</td>\n",
       "      <td>71.2833</td>\n",
       "      <td>C85</td>\n",
       "      <td>C</td>\n",
       "      <td>0</td>\n",
       "      <td>1</td>\n",
       "      <td>0</td>\n",
       "      <td>0</td>\n",
       "    </tr>\n",
       "    <tr>\n",
       "      <th>2</th>\n",
       "      <td>3</td>\n",
       "      <td>1</td>\n",
       "      <td>3</td>\n",
       "      <td>female</td>\n",
       "      <td>26.0</td>\n",
       "      <td>0</td>\n",
       "      <td>0</td>\n",
       "      <td>STON/O2. 3101282</td>\n",
       "      <td>7.9250</td>\n",
       "      <td>NaN</td>\n",
       "      <td>S</td>\n",
       "      <td>0</td>\n",
       "      <td>1</td>\n",
       "      <td>0</td>\n",
       "      <td>0</td>\n",
       "    </tr>\n",
       "    <tr>\n",
       "      <th>3</th>\n",
       "      <td>4</td>\n",
       "      <td>1</td>\n",
       "      <td>1</td>\n",
       "      <td>female</td>\n",
       "      <td>35.0</td>\n",
       "      <td>1</td>\n",
       "      <td>0</td>\n",
       "      <td>113803</td>\n",
       "      <td>53.1000</td>\n",
       "      <td>C123</td>\n",
       "      <td>S</td>\n",
       "      <td>0</td>\n",
       "      <td>1</td>\n",
       "      <td>0</td>\n",
       "      <td>0</td>\n",
       "    </tr>\n",
       "    <tr>\n",
       "      <th>4</th>\n",
       "      <td>5</td>\n",
       "      <td>0</td>\n",
       "      <td>3</td>\n",
       "      <td>male</td>\n",
       "      <td>35.0</td>\n",
       "      <td>0</td>\n",
       "      <td>0</td>\n",
       "      <td>373450</td>\n",
       "      <td>8.0500</td>\n",
       "      <td>NaN</td>\n",
       "      <td>S</td>\n",
       "      <td>0</td>\n",
       "      <td>0</td>\n",
       "      <td>1</td>\n",
       "      <td>0</td>\n",
       "    </tr>\n",
       "  </tbody>\n",
       "</table>\n",
       "</div>"
      ]
     },
     "execution_count": 204,
     "metadata": {},
     "output_type": "execute_result"
    }
   ],
   "execution_count": 204
  },
  {
   "cell_type": "markdown",
   "source": "### Family Size",
   "metadata": {}
  },
  {
   "cell_type": "code",
   "source": "train_df.info()",
   "metadata": {
    "trusted": true,
    "ExecuteTime": {
     "end_time": "2025-07-13T21:13:36.143311Z",
     "start_time": "2025-07-13T21:13:36.136102Z"
    }
   },
   "outputs": [
    {
     "name": "stdout",
     "output_type": "stream",
     "text": [
      "<class 'pandas.core.frame.DataFrame'>\n",
      "RangeIndex: 1289 entries, 0 to 1288\n",
      "Data columns (total 15 columns):\n",
      " #   Column       Non-Null Count  Dtype  \n",
      "---  ------       --------------  -----  \n",
      " 0   PassengerId  1289 non-null   int64  \n",
      " 1   Survived     1289 non-null   int64  \n",
      " 2   Pclass       1289 non-null   int64  \n",
      " 3   Sex          1289 non-null   object \n",
      " 4   Age          1289 non-null   float64\n",
      " 5   SibSp        1289 non-null   int64  \n",
      " 6   Parch        1289 non-null   int64  \n",
      " 7   Ticket       1289 non-null   object \n",
      " 8   Fare         1288 non-null   float64\n",
      " 9   Cabin        292 non-null    object \n",
      " 10  Embarked     1289 non-null   object \n",
      " 11  Title_0      1289 non-null   int32  \n",
      " 12  Title_1      1289 non-null   int32  \n",
      " 13  Title_2      1289 non-null   int32  \n",
      " 14  Title_3      1289 non-null   int32  \n",
      "dtypes: float64(2), int32(4), int64(5), object(4)\n",
      "memory usage: 131.0+ KB\n"
     ]
    }
   ],
   "execution_count": 205
  },
  {
   "cell_type": "code",
   "source": "train_df[\"Fsize\"] = train_df[\"SibSp\"] + train_df[\"Parch\"] + 1",
   "metadata": {
    "trusted": true,
    "ExecuteTime": {
     "end_time": "2025-07-13T21:13:36.214473Z",
     "start_time": "2025-07-13T21:13:36.210991Z"
    }
   },
   "outputs": [],
   "execution_count": 206
  },
  {
   "cell_type": "code",
   "source": "train_df.info()",
   "metadata": {
    "trusted": true,
    "ExecuteTime": {
     "end_time": "2025-07-13T21:13:36.278501Z",
     "start_time": "2025-07-13T21:13:36.271861Z"
    }
   },
   "outputs": [
    {
     "name": "stdout",
     "output_type": "stream",
     "text": [
      "<class 'pandas.core.frame.DataFrame'>\n",
      "RangeIndex: 1289 entries, 0 to 1288\n",
      "Data columns (total 16 columns):\n",
      " #   Column       Non-Null Count  Dtype  \n",
      "---  ------       --------------  -----  \n",
      " 0   PassengerId  1289 non-null   int64  \n",
      " 1   Survived     1289 non-null   int64  \n",
      " 2   Pclass       1289 non-null   int64  \n",
      " 3   Sex          1289 non-null   object \n",
      " 4   Age          1289 non-null   float64\n",
      " 5   SibSp        1289 non-null   int64  \n",
      " 6   Parch        1289 non-null   int64  \n",
      " 7   Ticket       1289 non-null   object \n",
      " 8   Fare         1288 non-null   float64\n",
      " 9   Cabin        292 non-null    object \n",
      " 10  Embarked     1289 non-null   object \n",
      " 11  Title_0      1289 non-null   int32  \n",
      " 12  Title_1      1289 non-null   int32  \n",
      " 13  Title_2      1289 non-null   int32  \n",
      " 14  Title_3      1289 non-null   int32  \n",
      " 15  Fsize        1289 non-null   int64  \n",
      "dtypes: float64(2), int32(4), int64(6), object(4)\n",
      "memory usage: 141.1+ KB\n"
     ]
    }
   ],
   "execution_count": 207
  },
  {
   "cell_type": "code",
   "source": "g = sns.catplot(x = \"Fsize\", y = \"Survived\", data=train_df, kind=\"bar\")\ng.set_ylabels(\"Survival\")\nplt.show()",
   "metadata": {
    "trusted": true,
    "ExecuteTime": {
     "end_time": "2025-07-13T21:13:37.037851Z",
     "start_time": "2025-07-13T21:13:36.684766Z"
    }
   },
   "outputs": [
    {
     "data": {
      "text/plain": [
       "<Figure size 511.111x500 with 1 Axes>"
      ],
      "image/png": "[encoded data removed]"
     },
     "metadata": {},
     "output_type": "display_data"
    }
   ],
   "execution_count": 208
  },
  {
   "cell_type": "code",
   "source": "train_df[\"family_size\"] = [1 if i < 5 else 0 for i in train_df[\"Fsize\"]]\ntrain_df.head()",
   "metadata": {
    "trusted": true,
    "ExecuteTime": {
     "end_time": "2025-07-13T21:13:37.058913Z",
     "start_time": "2025-07-13T21:13:37.047368Z"
    }
   },
   "outputs": [
    {
     "data": {
      "text/plain": [
       "   PassengerId  Survived  Pclass     Sex   Age  SibSp  Parch  \\\n",
       "0            1         0       3    male  22.0      1      0   \n",
       "1            2         1       1  female  38.0      1      0   \n",
       "2            3         1       3  female  26.0      0      0   \n",
       "3            4         1       1  female  35.0      1      0   \n",
       "4            5         0       3    male  35.0      0      0   \n",
       "\n",
       "             Ticket     Fare Cabin Embarked  Title_0  Title_1  Title_2  \\\n",
       "0         A/5 21171   7.2500   NaN        S        0        0        1   \n",
       "1          PC 17599  71.2833   C85        C        0        1        0   \n",
       "2  STON/O2. 3101282   7.9250   NaN        S        0        1        0   \n",
       "3            113803  53.1000  C123        S        0        1        0   \n",
       "4            373450   8.0500   NaN        S        0        0        1   \n",
       "\n",
       "   Title_3  Fsize  family_size  \n",
       "0        0      2            1  \n",
       "1        0      2            1  \n",
       "2        0      1            1  \n",
       "3        0      2            1  \n",
       "4        0      1            1  "
      ],
      "text/html": [
       "<div>\n",
       "<style scoped>\n",
       "    .dataframe tbody tr th:only-of-type {\n",
       "        vertical-align: middle;\n",
       "    }\n",
       "\n",
       "    .dataframe tbody tr th {\n",
       "        vertical-align: top;\n",
       "    }\n",
       "\n",
       "    .dataframe thead th {\n",
       "        text-align: right;\n",
       "    }\n",
       "</style>\n",
       "<table border=\"1\" class=\"dataframe\">\n",
       "  <thead>\n",
       "    <tr style=\"text-align: right;\">\n",
       "      <th></th>\n",
       "      <th>PassengerId</th>\n",
       "      <th>Survived</th>\n",
       "      <th>Pclass</th>\n",
       "      <th>Sex</th>\n",
       "      <th>Age</th>\n",
       "      <th>SibSp</th>\n",
       "      <th>Parch</th>\n",
       "      <th>Ticket</th>\n",
       "      <th>Fare</th>\n",
       "      <th>Cabin</th>\n",
       "      <th>Embarked</th>\n",
       "      <th>Title_0</th>\n",
       "      <th>Title_1</th>\n",
       "      <th>Title_2</th>\n",
       "      <th>Title_3</th>\n",
       "      <th>Fsize</th>\n",
       "      <th>family_size</th>\n",
       "    </tr>\n",
       "  </thead>\n",
       "  <tbody>\n",
       "    <tr>\n",
       "      <th>0</th>\n",
       "      <td>1</td>\n",
       "      <td>0</td>\n",
       "      <td>3</td>\n",
       "      <td>male</td>\n",
       "      <td>22.0</td>\n",
       "      <td>1</td>\n",
       "      <td>0</td>\n",
       "      <td>A/5 21171</td>\n",
       "      <td>7.2500</td>\n",
       "      <td>NaN</td>\n",
       "      <td>S</td>\n",
       "      <td>0</td>\n",
       "      <td>0</td>\n",
       "      <td>1</td>\n",
       "      <td>0</td>\n",
       "      <td>2</td>\n",
       "      <td>1</td>\n",
       "    </tr>\n",
       "    <tr>\n",
       "      <th>1</th>\n",
       "      <td>2</td>\n",
       "      <td>1</td>\n",
       "      <td>1</td>\n",
       "      <td>female</td>\n",
       "      <td>38.0</td>\n",
       "      <td>1</td>\n",
       "      <td>0</td>\n",
       "      <td>PC 17599</td>\n",
       "      <td>71.2833</td>\n",
       "      <td>C85</td>\n",
       "      <td>C</td>\n",
       "      <td>0</td>\n",
       "      <td>1</td>\n",
       "      <td>0</td>\n",
       "      <td>0</td>\n",
       "      <td>2</td>\n",
       "      <td>1</td>\n",
       "    </tr>\n",
       "    <tr>\n",
       "      <th>2</th>\n",
       "      <td>3</td>\n",
       "      <td>1</td>\n",
       "      <td>3</td>\n",
       "      <td>female</td>\n",
       "      <td>26.0</td>\n",
       "      <td>0</td>\n",
       "      <td>0</td>\n",
       "      <td>STON/O2. 3101282</td>\n",
       "      <td>7.9250</td>\n",
       "      <td>NaN</td>\n",
       "      <td>S</td>\n",
       "      <td>0</td>\n",
       "      <td>1</td>\n",
       "      <td>0</td>\n",
       "      <td>0</td>\n",
       "      <td>1</td>\n",
       "      <td>1</td>\n",
       "    </tr>\n",
       "    <tr>\n",
       "      <th>3</th>\n",
       "      <td>4</td>\n",
       "      <td>1</td>\n",
       "      <td>1</td>\n",
       "      <td>female</td>\n",
       "      <td>35.0</td>\n",
       "      <td>1</td>\n",
       "      <td>0</td>\n",
       "      <td>113803</td>\n",
       "      <td>53.1000</td>\n",
       "      <td>C123</td>\n",
       "      <td>S</td>\n",
       "      <td>0</td>\n",
       "      <td>1</td>\n",
       "      <td>0</td>\n",
       "      <td>0</td>\n",
       "      <td>2</td>\n",
       "      <td>1</td>\n",
       "    </tr>\n",
       "    <tr>\n",
       "      <th>4</th>\n",
       "      <td>5</td>\n",
       "      <td>0</td>\n",
       "      <td>3</td>\n",
       "      <td>male</td>\n",
       "      <td>35.0</td>\n",
       "      <td>0</td>\n",
       "      <td>0</td>\n",
       "      <td>373450</td>\n",
       "      <td>8.0500</td>\n",
       "      <td>NaN</td>\n",
       "      <td>S</td>\n",
       "      <td>0</td>\n",
       "      <td>0</td>\n",
       "      <td>1</td>\n",
       "      <td>0</td>\n",
       "      <td>1</td>\n",
       "      <td>1</td>\n",
       "    </tr>\n",
       "  </tbody>\n",
       "</table>\n",
       "</div>"
      ]
     },
     "execution_count": 209,
     "metadata": {},
     "output_type": "execute_result"
    }
   ],
   "execution_count": 209
  },
  {
   "cell_type": "code",
   "source": "train_df.info()",
   "metadata": {
    "trusted": true,
    "ExecuteTime": {
     "end_time": "2025-07-13T21:13:37.102803Z",
     "start_time": "2025-07-13T21:13:37.095982Z"
    }
   },
   "outputs": [
    {
     "name": "stdout",
     "output_type": "stream",
     "text": [
      "<class 'pandas.core.frame.DataFrame'>\n",
      "RangeIndex: 1289 entries, 0 to 1288\n",
      "Data columns (total 17 columns):\n",
      " #   Column       Non-Null Count  Dtype  \n",
      "---  ------       --------------  -----  \n",
      " 0   PassengerId  1289 non-null   int64  \n",
      " 1   Survived     1289 non-null   int64  \n",
      " 2   Pclass       1289 non-null   int64  \n",
      " 3   Sex          1289 non-null   object \n",
      " 4   Age          1289 non-null   float64\n",
      " 5   SibSp        1289 non-null   int64  \n",
      " 6   Parch        1289 non-null   int64  \n",
      " 7   Ticket       1289 non-null   object \n",
      " 8   Fare         1288 non-null   float64\n",
      " 9   Cabin        292 non-null    object \n",
      " 10  Embarked     1289 non-null   object \n",
      " 11  Title_0      1289 non-null   int32  \n",
      " 12  Title_1      1289 non-null   int32  \n",
      " 13  Title_2      1289 non-null   int32  \n",
      " 14  Title_3      1289 non-null   int32  \n",
      " 15  Fsize        1289 non-null   int64  \n",
      " 16  family_size  1289 non-null   int64  \n",
      "dtypes: float64(2), int32(4), int64(7), object(4)\n",
      "memory usage: 151.2+ KB\n"
     ]
    }
   ],
   "execution_count": 210
  },
  {
   "cell_type": "code",
   "source": "sns.countplot(x = \"family_size\", data=train_df)\nplt.show()",
   "metadata": {
    "trusted": true,
    "ExecuteTime": {
     "end_time": "2025-07-13T21:13:37.281123Z",
     "start_time": "2025-07-13T21:13:37.198376Z"
    }
   },
   "outputs": [
    {
     "data": {
      "text/plain": [
       "<Figure size 640x480 with 1 Axes>"
      ],
      "image/png": "[encoded data removed]"
     },
     "metadata": {},
     "output_type": "display_data"
    }
   ],
   "execution_count": 211
  },
  {
   "cell_type": "code",
   "source": "train_df = pd.get_dummies(train_df, columns=[\"family_size\"], dtype=int)\ntrain_df.info()",
   "metadata": {
    "trusted": true,
    "ExecuteTime": {
     "end_time": "2025-07-13T21:13:37.339307Z",
     "start_time": "2025-07-13T21:13:37.329855Z"
    }
   },
   "outputs": [
    {
     "name": "stdout",
     "output_type": "stream",
     "text": [
      "<class 'pandas.core.frame.DataFrame'>\n",
      "RangeIndex: 1289 entries, 0 to 1288\n",
      "Data columns (total 18 columns):\n",
      " #   Column         Non-Null Count  Dtype  \n",
      "---  ------         --------------  -----  \n",
      " 0   PassengerId    1289 non-null   int64  \n",
      " 1   Survived       1289 non-null   int64  \n",
      " 2   Pclass         1289 non-null   int64  \n",
      " 3   Sex            1289 non-null   object \n",
      " 4   Age            1289 non-null   float64\n",
      " 5   SibSp          1289 non-null   int64  \n",
      " 6   Parch          1289 non-null   int64  \n",
      " 7   Ticket         1289 non-null   object \n",
      " 8   Fare           1288 non-null   float64\n",
      " 9   Cabin          292 non-null    object \n",
      " 10  Embarked       1289 non-null   object \n",
      " 11  Title_0        1289 non-null   int32  \n",
      " 12  Title_1        1289 non-null   int32  \n",
      " 13  Title_2        1289 non-null   int32  \n",
      " 14  Title_3        1289 non-null   int32  \n",
      " 15  Fsize          1289 non-null   int64  \n",
      " 16  family_size_0  1289 non-null   int32  \n",
      " 17  family_size_1  1289 non-null   int32  \n",
      "dtypes: float64(2), int32(6), int64(6), object(4)\n",
      "memory usage: 151.2+ KB\n"
     ]
    }
   ],
   "execution_count": 212
  },
  {
   "cell_type": "markdown",
   "source": "### Embarked",
   "metadata": {}
  },
  {
   "cell_type": "code",
   "source": "train_df[\"Embarked\"].head()",
   "metadata": {
    "trusted": true,
    "ExecuteTime": {
     "end_time": "2025-07-13T21:13:37.368845Z",
     "start_time": "2025-07-13T21:13:37.364447Z"
    }
   },
   "outputs": [
    {
     "data": {
      "text/plain": [
       "0    S\n",
       "1    C\n",
       "2    S\n",
       "3    S\n",
       "4    S\n",
       "Name: Embarked, dtype: object"
      ]
     },
     "execution_count": 213,
     "metadata": {},
     "output_type": "execute_result"
    }
   ],
   "execution_count": 213
  },
  {
   "cell_type": "code",
   "source": "sns.countplot(x=\"Embarked\", data=train_df)\nplt.show()",
   "metadata": {
    "trusted": true,
    "ExecuteTime": {
     "end_time": "2025-07-13T21:13:37.496956Z",
     "start_time": "2025-07-13T21:13:37.413780Z"
    }
   },
   "outputs": [
    {
     "data": {
      "text/plain": [
       "<Figure size 640x480 with 1 Axes>"
      ],
      "image/png": "[encoded data removed]"
     },
     "metadata": {},
     "output_type": "display_data"
    }
   ],
   "execution_count": 214
  },
  {
   "cell_type": "code",
   "source": "train_df = pd.get_dummies(train_df, columns=[\"Embarked\"], dtype=int)\ntrain_df.head()",
   "metadata": {
    "trusted": true,
    "ExecuteTime": {
     "end_time": "2025-07-13T21:13:37.533277Z",
     "start_time": "2025-07-13T21:13:37.521496Z"
    }
   },
   "outputs": [
    {
     "data": {
      "text/plain": [
       "   PassengerId  Survived  Pclass     Sex   Age  SibSp  Parch  \\\n",
       "0            1         0       3    male  22.0      1      0   \n",
       "1            2         1       1  female  38.0      1      0   \n",
       "2            3         1       3  female  26.0      0      0   \n",
       "3            4         1       1  female  35.0      1      0   \n",
       "4            5         0       3    male  35.0      0      0   \n",
       "\n",
       "             Ticket     Fare Cabin  Title_0  Title_1  Title_2  Title_3  Fsize  \\\n",
       "0         A/5 21171   7.2500   NaN        0        0        1        0      2   \n",
       "1          PC 17599  71.2833   C85        0        1        0        0      2   \n",
       "2  STON/O2. 3101282   7.9250   NaN        0        1        0        0      1   \n",
       "3            113803  53.1000  C123        0        1        0        0      2   \n",
       "4            373450   8.0500   NaN        0        0        1        0      1   \n",
       "\n",
       "   family_size_0  family_size_1  Embarked_C  Embarked_Q  Embarked_S  \n",
       "0              0              1           0           0           1  \n",
       "1              0              1           1           0           0  \n",
       "2              0              1           0           0           1  \n",
       "3              0              1           0           0           1  \n",
       "4              0              1           0           0           1  "
      ],
      "text/html": [
       "<div>\n",
       "<style scoped>\n",
       "    .dataframe tbody tr th:only-of-type {\n",
       "        vertical-align: middle;\n",
       "    }\n",
       "\n",
       "    .dataframe tbody tr th {\n",
       "        vertical-align: top;\n",
       "    }\n",
       "\n",
       "    .dataframe thead th {\n",
       "        text-align: right;\n",
       "    }\n",
       "</style>\n",
       "<table border=\"1\" class=\"dataframe\">\n",
       "  <thead>\n",
       "    <tr style=\"text-align: right;\">\n",
       "      <th></th>\n",
       "      <th>PassengerId</th>\n",
       "      <th>Survived</th>\n",
       "      <th>Pclass</th>\n",
       "      <th>Sex</th>\n",
       "      <th>Age</th>\n",
       "      <th>SibSp</th>\n",
       "      <th>Parch</th>\n",
       "      <th>Ticket</th>\n",
       "      <th>Fare</th>\n",
       "      <th>Cabin</th>\n",
       "      <th>Title_0</th>\n",
       "      <th>Title_1</th>\n",
       "      <th>Title_2</th>\n",
       "      <th>Title_3</th>\n",
       "      <th>Fsize</th>\n",
       "      <th>family_size_0</th>\n",
       "      <th>family_size_1</th>\n",
       "      <th>Embarked_C</th>\n",
       "      <th>Embarked_Q</th>\n",
       "      <th>Embarked_S</th>\n",
       "    </tr>\n",
       "  </thead>\n",
       "  <tbody>\n",
       "    <tr>\n",
       "      <th>0</th>\n",
       "      <td>1</td>\n",
       "      <td>0</td>\n",
       "      <td>3</td>\n",
       "      <td>male</td>\n",
       "      <td>22.0</td>\n",
       "      <td>1</td>\n",
       "      <td>0</td>\n",
       "      <td>A/5 21171</td>\n",
       "      <td>7.2500</td>\n",
       "      <td>NaN</td>\n",
       "      <td>0</td>\n",
       "      <td>0</td>\n",
       "      <td>1</td>\n",
       "      <td>0</td>\n",
       "      <td>2</td>\n",
       "      <td>0</td>\n",
       "      <td>1</td>\n",
       "      <td>0</td>\n",
       "      <td>0</td>\n",
       "      <td>1</td>\n",
       "    </tr>\n",
       "    <tr>\n",
       "      <th>1</th>\n",
       "      <td>2</td>\n",
       "      <td>1</td>\n",
       "      <td>1</td>\n",
       "      <td>female</td>\n",
       "      <td>38.0</td>\n",
       "      <td>1</td>\n",
       "      <td>0</td>\n",
       "      <td>PC 17599</td>\n",
       "      <td>71.2833</td>\n",
       "      <td>C85</td>\n",
       "      <td>0</td>\n",
       "      <td>1</td>\n",
       "      <td>0</td>\n",
       "      <td>0</td>\n",
       "      <td>2</td>\n",
       "      <td>0</td>\n",
       "      <td>1</td>\n",
       "      <td>1</td>\n",
       "      <td>0</td>\n",
       "      <td>0</td>\n",
       "    </tr>\n",
       "    <tr>\n",
       "      <th>2</th>\n",
       "      <td>3</td>\n",
       "      <td>1</td>\n",
       "      <td>3</td>\n",
       "      <td>female</td>\n",
       "      <td>26.0</td>\n",
       "      <td>0</td>\n",
       "      <td>0</td>\n",
       "      <td>STON/O2. 3101282</td>\n",
       "      <td>7.9250</td>\n",
       "      <td>NaN</td>\n",
       "      <td>0</td>\n",
       "      <td>1</td>\n",
       "      <td>0</td>\n",
       "      <td>0</td>\n",
       "      <td>1</td>\n",
       "      <td>0</td>\n",
       "      <td>1</td>\n",
       "      <td>0</td>\n",
       "      <td>0</td>\n",
       "      <td>1</td>\n",
       "    </tr>\n",
       "    <tr>\n",
       "      <th>3</th>\n",
       "      <td>4</td>\n",
       "      <td>1</td>\n",
       "      <td>1</td>\n",
       "      <td>female</td>\n",
       "      <td>35.0</td>\n",
       "      <td>1</td>\n",
       "      <td>0</td>\n",
       "      <td>113803</td>\n",
       "      <td>53.1000</td>\n",
       "      <td>C123</td>\n",
       "      <td>0</td>\n",
       "      <td>1</td>\n",
       "      <td>0</td>\n",
       "      <td>0</td>\n",
       "      <td>2</td>\n",
       "      <td>0</td>\n",
       "      <td>1</td>\n",
       "      <td>0</td>\n",
       "      <td>0</td>\n",
       "      <td>1</td>\n",
       "    </tr>\n",
       "    <tr>\n",
       "      <th>4</th>\n",
       "      <td>5</td>\n",
       "      <td>0</td>\n",
       "      <td>3</td>\n",
       "      <td>male</td>\n",
       "      <td>35.0</td>\n",
       "      <td>0</td>\n",
       "      <td>0</td>\n",
       "      <td>373450</td>\n",
       "      <td>8.0500</td>\n",
       "      <td>NaN</td>\n",
       "      <td>0</td>\n",
       "      <td>0</td>\n",
       "      <td>1</td>\n",
       "      <td>0</td>\n",
       "      <td>1</td>\n",
       "      <td>0</td>\n",
       "      <td>1</td>\n",
       "      <td>0</td>\n",
       "      <td>0</td>\n",
       "      <td>1</td>\n",
       "    </tr>\n",
       "  </tbody>\n",
       "</table>\n",
       "</div>"
      ]
     },
     "execution_count": 215,
     "metadata": {},
     "output_type": "execute_result"
    }
   ],
   "execution_count": 215
  },
  {
   "cell_type": "code",
   "source": "train_df.info()",
   "metadata": {
    "trusted": true,
    "ExecuteTime": {
     "end_time": "2025-07-13T21:13:37.613422Z",
     "start_time": "2025-07-13T21:13:37.605925Z"
    }
   },
   "outputs": [
    {
     "name": "stdout",
     "output_type": "stream",
     "text": [
      "<class 'pandas.core.frame.DataFrame'>\n",
      "RangeIndex: 1289 entries, 0 to 1288\n",
      "Data columns (total 20 columns):\n",
      " #   Column         Non-Null Count  Dtype  \n",
      "---  ------         --------------  -----  \n",
      " 0   PassengerId    1289 non-null   int64  \n",
      " 1   Survived       1289 non-null   int64  \n",
      " 2   Pclass         1289 non-null   int64  \n",
      " 3   Sex            1289 non-null   object \n",
      " 4   Age            1289 non-null   float64\n",
      " 5   SibSp          1289 non-null   int64  \n",
      " 6   Parch          1289 non-null   int64  \n",
      " 7   Ticket         1289 non-null   object \n",
      " 8   Fare           1288 non-null   float64\n",
      " 9   Cabin          292 non-null    object \n",
      " 10  Title_0        1289 non-null   int32  \n",
      " 11  Title_1        1289 non-null   int32  \n",
      " 12  Title_2        1289 non-null   int32  \n",
      " 13  Title_3        1289 non-null   int32  \n",
      " 14  Fsize          1289 non-null   int64  \n",
      " 15  family_size_0  1289 non-null   int32  \n",
      " 16  family_size_1  1289 non-null   int32  \n",
      " 17  Embarked_C     1289 non-null   int32  \n",
      " 18  Embarked_Q     1289 non-null   int32  \n",
      " 19  Embarked_S     1289 non-null   int32  \n",
      "dtypes: float64(2), int32(9), int64(6), object(3)\n",
      "memory usage: 156.2+ KB\n"
     ]
    }
   ],
   "execution_count": 216
  },
  {
   "cell_type": "markdown",
   "source": "### PClass",
   "metadata": {}
  },
  {
   "cell_type": "code",
   "source": "sns.countplot(x=\"Pclass\", data=train_df)\nplt.show()",
   "metadata": {
    "trusted": true,
    "ExecuteTime": {
     "end_time": "2025-07-13T21:13:37.766884Z",
     "start_time": "2025-07-13T21:13:37.682358Z"
    }
   },
   "outputs": [
    {
     "data": {
      "text/plain": [
       "<Figure size 640x480 with 1 Axes>"
      ],
      "image/png": "[encoded data removed]"
     },
     "metadata": {},
     "output_type": "display_data"
    }
   ],
   "execution_count": 217
  },
  {
   "cell_type": "code",
   "source": "train_df[\"Pclass\"] = train_df[\"Pclass\"].astype(\"category\")\ntrain_df = pd.get_dummies(train_df, columns=[\"Pclass\"], dtype=int)\ntrain_df.head()",
   "metadata": {
    "trusted": true,
    "ExecuteTime": {
     "end_time": "2025-07-13T21:13:37.826507Z",
     "start_time": "2025-07-13T21:13:37.811309Z"
    }
   },
   "outputs": [
    {
     "data": {
      "text/plain": [
       "   PassengerId  Survived     Sex   Age  SibSp  Parch            Ticket  \\\n",
       "0            1         0    male  22.0      1      0         A/5 21171   \n",
       "1            2         1  female  38.0      1      0          PC 17599   \n",
       "2            3         1  female  26.0      0      0  STON/O2. 3101282   \n",
       "3            4         1  female  35.0      1      0            113803   \n",
       "4            5         0    male  35.0      0      0            373450   \n",
       "\n",
       "      Fare Cabin  Title_0  ...  Title_3  Fsize  family_size_0  family_size_1  \\\n",
       "0   7.2500   NaN        0  ...        0      2              0              1   \n",
       "1  71.2833   C85        0  ...        0      2              0              1   \n",
       "2   7.9250   NaN        0  ...        0      1              0              1   \n",
       "3  53.1000  C123        0  ...        0      2              0              1   \n",
       "4   8.0500   NaN        0  ...        0      1              0              1   \n",
       "\n",
       "   Embarked_C  Embarked_Q  Embarked_S  Pclass_1  Pclass_2  Pclass_3  \n",
       "0           0           0           1         0         0         1  \n",
       "1           1           0           0         1         0         0  \n",
       "2           0           0           1         0         0         1  \n",
       "3           0           0           1         1         0         0  \n",
       "4           0           0           1         0         0         1  \n",
       "\n",
       "[5 rows x 22 columns]"
      ],
      "text/html": [
       "<div>\n",
       "<style scoped>\n",
       "    .dataframe tbody tr th:only-of-type {\n",
       "        vertical-align: middle;\n",
       "    }\n",
       "\n",
       "    .dataframe tbody tr th {\n",
       "        vertical-align: top;\n",
       "    }\n",
       "\n",
       "    .dataframe thead th {\n",
       "        text-align: right;\n",
       "    }\n",
       "</style>\n",
       "<table border=\"1\" class=\"dataframe\">\n",
       "  <thead>\n",
       "    <tr style=\"text-align: right;\">\n",
       "      <th></th>\n",
       "      <th>PassengerId</th>\n",
       "      <th>Survived</th>\n",
       "      <th>Sex</th>\n",
       "      <th>Age</th>\n",
       "      <th>SibSp</th>\n",
       "      <th>Parch</th>\n",
       "      <th>Ticket</th>\n",
       "      <th>Fare</th>\n",
       "      <th>Cabin</th>\n",
       "      <th>Title_0</th>\n",
       "      <th>...</th>\n",
       "      <th>Title_3</th>\n",
       "      <th>Fsize</th>\n",
       "      <th>family_size_0</th>\n",
       "      <th>family_size_1</th>\n",
       "      <th>Embarked_C</th>\n",
       "      <th>Embarked_Q</th>\n",
       "      <th>Embarked_S</th>\n",
       "      <th>Pclass_1</th>\n",
       "      <th>Pclass_2</th>\n",
       "      <th>Pclass_3</th>\n",
       "    </tr>\n",
       "  </thead>\n",
       "  <tbody>\n",
       "    <tr>\n",
       "      <th>0</th>\n",
       "      <td>1</td>\n",
       "      <td>0</td>\n",
       "      <td>male</td>\n",
       "      <td>22.0</td>\n",
       "      <td>1</td>\n",
       "      <td>0</td>\n",
       "      <td>A/5 21171</td>\n",
       "      <td>7.2500</td>\n",
       "      <td>NaN</td>\n",
       "      <td>0</td>\n",
       "      <td>...</td>\n",
       "      <td>0</td>\n",
       "      <td>2</td>\n",
       "      <td>0</td>\n",
       "      <td>1</td>\n",
       "      <td>0</td>\n",
       "      <td>0</td>\n",
       "      <td>1</td>\n",
       "      <td>0</td>\n",
       "      <td>0</td>\n",
       "      <td>1</td>\n",
       "    </tr>\n",
       "    <tr>\n",
       "      <th>1</th>\n",
       "      <td>2</td>\n",
       "      <td>1</td>\n",
       "      <td>female</td>\n",
       "      <td>38.0</td>\n",
       "      <td>1</td>\n",
       "      <td>0</td>\n",
       "      <td>PC 17599</td>\n",
       "      <td>71.2833</td>\n",
       "      <td>C85</td>\n",
       "      <td>0</td>\n",
       "      <td>...</td>\n",
       "      <td>0</td>\n",
       "      <td>2</td>\n",
       "      <td>0</td>\n",
       "      <td>1</td>\n",
       "      <td>1</td>\n",
       "      <td>0</td>\n",
       "      <td>0</td>\n",
       "      <td>1</td>\n",
       "      <td>0</td>\n",
       "      <td>0</td>\n",
       "    </tr>\n",
       "    <tr>\n",
       "      <th>2</th>\n",
       "      <td>3</td>\n",
       "      <td>1</td>\n",
       "      <td>female</td>\n",
       "      <td>26.0</td>\n",
       "      <td>0</td>\n",
       "      <td>0</td>\n",
       "      <td>STON/O2. 3101282</td>\n",
       "      <td>7.9250</td>\n",
       "      <td>NaN</td>\n",
       "      <td>0</td>\n",
       "      <td>...</td>\n",
       "      <td>0</td>\n",
       "      <td>1</td>\n",
       "      <td>0</td>\n",
       "      <td>1</td>\n",
       "      <td>0</td>\n",
       "      <td>0</td>\n",
       "      <td>1</td>\n",
       "      <td>0</td>\n",
       "      <td>0</td>\n",
       "      <td>1</td>\n",
       "    </tr>\n",
       "    <tr>\n",
       "      <th>3</th>\n",
       "      <td>4</td>\n",
       "      <td>1</td>\n",
       "      <td>female</td>\n",
       "      <td>35.0</td>\n",
       "      <td>1</td>\n",
       "      <td>0</td>\n",
       "      <td>113803</td>\n",
       "      <td>53.1000</td>\n",
       "      <td>C123</td>\n",
       "      <td>0</td>\n",
       "      <td>...</td>\n",
       "      <td>0</td>\n",
       "      <td>2</td>\n",
       "      <td>0</td>\n",
       "      <td>1</td>\n",
       "      <td>0</td>\n",
       "      <td>0</td>\n",
       "      <td>1</td>\n",
       "      <td>1</td>\n",
       "      <td>0</td>\n",
       "      <td>0</td>\n",
       "    </tr>\n",
       "    <tr>\n",
       "      <th>4</th>\n",
       "      <td>5</td>\n",
       "      <td>0</td>\n",
       "      <td>male</td>\n",
       "      <td>35.0</td>\n",
       "      <td>0</td>\n",
       "      <td>0</td>\n",
       "      <td>373450</td>\n",
       "      <td>8.0500</td>\n",
       "      <td>NaN</td>\n",
       "      <td>0</td>\n",
       "      <td>...</td>\n",
       "      <td>0</td>\n",
       "      <td>1</td>\n",
       "      <td>0</td>\n",
       "      <td>1</td>\n",
       "      <td>0</td>\n",
       "      <td>0</td>\n",
       "      <td>1</td>\n",
       "      <td>0</td>\n",
       "      <td>0</td>\n",
       "      <td>1</td>\n",
       "    </tr>\n",
       "  </tbody>\n",
       "</table>\n",
       "<p>5 rows × 22 columns</p>\n",
       "</div>"
      ]
     },
     "execution_count": 218,
     "metadata": {},
     "output_type": "execute_result"
    }
   ],
   "execution_count": 218
  },
  {
   "cell_type": "markdown",
   "source": "### Sex",
   "metadata": {}
  },
  {
   "cell_type": "code",
   "source": "train_df[\"Sex\"] = train_df[\"Sex\"].astype(\"category\")\ntrain_df = pd.get_dummies(train_df, columns=[\"Sex\"], dtype=int)\ntrain_df.head()",
   "metadata": {
    "trusted": true,
    "ExecuteTime": {
     "end_time": "2025-07-13T21:13:37.879474Z",
     "start_time": "2025-07-13T21:13:37.863440Z"
    }
   },
   "outputs": [
    {
     "data": {
      "text/plain": [
       "   PassengerId  Survived   Age  SibSp  Parch            Ticket     Fare Cabin  \\\n",
       "0            1         0  22.0      1      0         A/5 21171   7.2500   NaN   \n",
       "1            2         1  38.0      1      0          PC 17599  71.2833   C85   \n",
       "2            3         1  26.0      0      0  STON/O2. 3101282   7.9250   NaN   \n",
       "3            4         1  35.0      1      0            113803  53.1000  C123   \n",
       "4            5         0  35.0      0      0            373450   8.0500   NaN   \n",
       "\n",
       "   Title_0  Title_1  ...  family_size_0  family_size_1  Embarked_C  \\\n",
       "0        0        0  ...              0              1           0   \n",
       "1        0        1  ...              0              1           1   \n",
       "2        0        1  ...              0              1           0   \n",
       "3        0        1  ...              0              1           0   \n",
       "4        0        0  ...              0              1           0   \n",
       "\n",
       "   Embarked_Q  Embarked_S  Pclass_1  Pclass_2  Pclass_3  Sex_female  Sex_male  \n",
       "0           0           1         0         0         1           0         1  \n",
       "1           0           0         1         0         0           1         0  \n",
       "2           0           1         0         0         1           1         0  \n",
       "3           0           1         1         0         0           1         0  \n",
       "4           0           1         0         0         1           0         1  \n",
       "\n",
       "[5 rows x 23 columns]"
      ],
      "text/html": [
       "<div>\n",
       "<style scoped>\n",
       "    .dataframe tbody tr th:only-of-type {\n",
       "        vertical-align: middle;\n",
       "    }\n",
       "\n",
       "    .dataframe tbody tr th {\n",
       "        vertical-align: top;\n",
       "    }\n",
       "\n",
       "    .dataframe thead th {\n",
       "        text-align: right;\n",
       "    }\n",
       "</style>\n",
       "<table border=\"1\" class=\"dataframe\">\n",
       "  <thead>\n",
       "    <tr style=\"text-align: right;\">\n",
       "      <th></th>\n",
       "      <th>PassengerId</th>\n",
       "      <th>Survived</th>\n",
       "      <th>Age</th>\n",
       "      <th>SibSp</th>\n",
       "      <th>Parch</th>\n",
       "      <th>Ticket</th>\n",
       "      <th>Fare</th>\n",
       "      <th>Cabin</th>\n",
       "      <th>Title_0</th>\n",
       "      <th>Title_1</th>\n",
       "      <th>...</th>\n",
       "      <th>family_size_0</th>\n",
       "      <th>family_size_1</th>\n",
       "      <th>Embarked_C</th>\n",
       "      <th>Embarked_Q</th>\n",
       "      <th>Embarked_S</th>\n",
       "      <th>Pclass_1</th>\n",
       "      <th>Pclass_2</th>\n",
       "      <th>Pclass_3</th>\n",
       "      <th>Sex_female</th>\n",
       "      <th>Sex_male</th>\n",
       "    </tr>\n",
       "  </thead>\n",
       "  <tbody>\n",
       "    <tr>\n",
       "      <th>0</th>\n",
       "      <td>1</td>\n",
       "      <td>0</td>\n",
       "      <td>22.0</td>\n",
       "      <td>1</td>\n",
       "      <td>0</td>\n",
       "      <td>A/5 21171</td>\n",
       "      <td>7.2500</td>\n",
       "      <td>NaN</td>\n",
       "      <td>0</td>\n",
       "      <td>0</td>\n",
       "      <td>...</td>\n",
       "      <td>0</td>\n",
       "      <td>1</td>\n",
       "      <td>0</td>\n",
       "      <td>0</td>\n",
       "      <td>1</td>\n",
       "      <td>0</td>\n",
       "      <td>0</td>\n",
       "      <td>1</td>\n",
       "      <td>0</td>\n",
       "      <td>1</td>\n",
       "    </tr>\n",
       "    <tr>\n",
       "      <th>1</th>\n",
       "      <td>2</td>\n",
       "      <td>1</td>\n",
       "      <td>38.0</td>\n",
       "      <td>1</td>\n",
       "      <td>0</td>\n",
       "      <td>PC 17599</td>\n",
       "      <td>71.2833</td>\n",
       "      <td>C85</td>\n",
       "      <td>0</td>\n",
       "      <td>1</td>\n",
       "      <td>...</td>\n",
       "      <td>0</td>\n",
       "      <td>1</td>\n",
       "      <td>1</td>\n",
       "      <td>0</td>\n",
       "      <td>0</td>\n",
       "      <td>1</td>\n",
       "      <td>0</td>\n",
       "      <td>0</td>\n",
       "      <td>1</td>\n",
       "      <td>0</td>\n",
       "    </tr>\n",
       "    <tr>\n",
       "      <th>2</th>\n",
       "      <td>3</td>\n",
       "      <td>1</td>\n",
       "      <td>26.0</td>\n",
       "      <td>0</td>\n",
       "      <td>0</td>\n",
       "      <td>STON/O2. 3101282</td>\n",
       "      <td>7.9250</td>\n",
       "      <td>NaN</td>\n",
       "      <td>0</td>\n",
       "      <td>1</td>\n",
       "      <td>...</td>\n",
       "      <td>0</td>\n",
       "      <td>1</td>\n",
       "      <td>0</td>\n",
       "      <td>0</td>\n",
       "      <td>1</td>\n",
       "      <td>0</td>\n",
       "      <td>0</td>\n",
       "      <td>1</td>\n",
       "      <td>1</td>\n",
       "      <td>0</td>\n",
       "    </tr>\n",
       "    <tr>\n",
       "      <th>3</th>\n",
       "      <td>4</td>\n",
       "      <td>1</td>\n",
       "      <td>35.0</td>\n",
       "      <td>1</td>\n",
       "      <td>0</td>\n",
       "      <td>113803</td>\n",
       "      <td>53.1000</td>\n",
       "      <td>C123</td>\n",
       "      <td>0</td>\n",
       "      <td>1</td>\n",
       "      <td>...</td>\n",
       "      <td>0</td>\n",
       "      <td>1</td>\n",
       "      <td>0</td>\n",
       "      <td>0</td>\n",
       "      <td>1</td>\n",
       "      <td>1</td>\n",
       "      <td>0</td>\n",
       "      <td>0</td>\n",
       "      <td>1</td>\n",
       "      <td>0</td>\n",
       "    </tr>\n",
       "    <tr>\n",
       "      <th>4</th>\n",
       "      <td>5</td>\n",
       "      <td>0</td>\n",
       "      <td>35.0</td>\n",
       "      <td>0</td>\n",
       "      <td>0</td>\n",
       "      <td>373450</td>\n",
       "      <td>8.0500</td>\n",
       "      <td>NaN</td>\n",
       "      <td>0</td>\n",
       "      <td>0</td>\n",
       "      <td>...</td>\n",
       "      <td>0</td>\n",
       "      <td>1</td>\n",
       "      <td>0</td>\n",
       "      <td>0</td>\n",
       "      <td>1</td>\n",
       "      <td>0</td>\n",
       "      <td>0</td>\n",
       "      <td>1</td>\n",
       "      <td>0</td>\n",
       "      <td>1</td>\n",
       "    </tr>\n",
       "  </tbody>\n",
       "</table>\n",
       "<p>5 rows × 23 columns</p>\n",
       "</div>"
      ]
     },
     "execution_count": 219,
     "metadata": {},
     "output_type": "execute_result"
    }
   ],
   "execution_count": 219
  },
  {
   "cell_type": "code",
   "source": "# Cabin numarası olmayanları 0 ile dolduruyorum. Bu feature'ı da bir sınıf olarak kabul edeceğim.\n\ntrain_df['Has_Cabin'] = np.where(train_df['Cabin'].notnull(), 1, 0)\n#X_test['Has_Cabin'] = np.where(X_test['Cabin'].notnull(), 1, 0)\n\ntrain_df.drop('Cabin', axis=1, inplace=True)\n#X_test.drop('Cabin', axis=1, inplace=True)\n\ntrain_df.info()\n#X_test.info()",
   "metadata": {
    "trusted": true,
    "ExecuteTime": {
     "end_time": "2025-07-13T21:13:37.969339Z",
     "start_time": "2025-07-13T21:13:37.959977Z"
    }
   },
   "outputs": [
    {
     "name": "stdout",
     "output_type": "stream",
     "text": [
      "<class 'pandas.core.frame.DataFrame'>\n",
      "RangeIndex: 1289 entries, 0 to 1288\n",
      "Data columns (total 23 columns):\n",
      " #   Column         Non-Null Count  Dtype  \n",
      "---  ------         --------------  -----  \n",
      " 0   PassengerId    1289 non-null   int64  \n",
      " 1   Survived       1289 non-null   int64  \n",
      " 2   Age            1289 non-null   float64\n",
      " 3   SibSp          1289 non-null   int64  \n",
      " 4   Parch          1289 non-null   int64  \n",
      " 5   Ticket         1289 non-null   object \n",
      " 6   Fare           1288 non-null   float64\n",
      " 7   Title_0        1289 non-null   int32  \n",
      " 8   Title_1        1289 non-null   int32  \n",
      " 9   Title_2        1289 non-null   int32  \n",
      " 10  Title_3        1289 non-null   int32  \n",
      " 11  Fsize          1289 non-null   int64  \n",
      " 12  family_size_0  1289 non-null   int32  \n",
      " 13  family_size_1  1289 non-null   int32  \n",
      " 14  Embarked_C     1289 non-null   int32  \n",
      " 15  Embarked_Q     1289 non-null   int32  \n",
      " 16  Embarked_S     1289 non-null   int32  \n",
      " 17  Pclass_1       1289 non-null   int32  \n",
      " 18  Pclass_2       1289 non-null   int32  \n",
      " 19  Pclass_3       1289 non-null   int32  \n",
      " 20  Sex_female     1289 non-null   int32  \n",
      " 21  Sex_male       1289 non-null   int32  \n",
      " 22  Has_Cabin      1289 non-null   int32  \n",
      "dtypes: float64(2), int32(15), int64(5), object(1)\n",
      "memory usage: 156.2+ KB\n"
     ]
    }
   ],
   "execution_count": 220
  },
  {
   "metadata": {},
   "cell_type": "markdown",
   "source": "## Fare -- Missing Value"
  },
  {
   "metadata": {
    "ExecuteTime": {
     "end_time": "2025-07-13T21:13:38.084440Z",
     "start_time": "2025-07-13T21:13:38.073676Z"
    }
   },
   "cell_type": "code",
   "source": "train_df[train_df[\"Fare\"].isnull()]",
   "outputs": [
    {
     "data": {
      "text/plain": [
       "      PassengerId  Survived   Age  SibSp  Parch Ticket  Fare  Title_0  \\\n",
       "1030         1044         0  60.5      0      0   3701   NaN        0   \n",
       "\n",
       "      Title_1  Title_2  ...  family_size_1  Embarked_C  Embarked_Q  \\\n",
       "1030        0        1  ...              1           0           0   \n",
       "\n",
       "      Embarked_S  Pclass_1  Pclass_2  Pclass_3  Sex_female  Sex_male  \\\n",
       "1030           1         0         0         1           0         1   \n",
       "\n",
       "      Has_Cabin  \n",
       "1030          0  \n",
       "\n",
       "[1 rows x 23 columns]"
      ],
      "text/html": [
       "<div>\n",
       "<style scoped>\n",
       "    .dataframe tbody tr th:only-of-type {\n",
       "        vertical-align: middle;\n",
       "    }\n",
       "\n",
       "    .dataframe tbody tr th {\n",
       "        vertical-align: top;\n",
       "    }\n",
       "\n",
       "    .dataframe thead th {\n",
       "        text-align: right;\n",
       "    }\n",
       "</style>\n",
       "<table border=\"1\" class=\"dataframe\">\n",
       "  <thead>\n",
       "    <tr style=\"text-align: right;\">\n",
       "      <th></th>\n",
       "      <th>PassengerId</th>\n",
       "      <th>Survived</th>\n",
       "      <th>Age</th>\n",
       "      <th>SibSp</th>\n",
       "      <th>Parch</th>\n",
       "      <th>Ticket</th>\n",
       "      <th>Fare</th>\n",
       "      <th>Title_0</th>\n",
       "      <th>Title_1</th>\n",
       "      <th>Title_2</th>\n",
       "      <th>...</th>\n",
       "      <th>family_size_1</th>\n",
       "      <th>Embarked_C</th>\n",
       "      <th>Embarked_Q</th>\n",
       "      <th>Embarked_S</th>\n",
       "      <th>Pclass_1</th>\n",
       "      <th>Pclass_2</th>\n",
       "      <th>Pclass_3</th>\n",
       "      <th>Sex_female</th>\n",
       "      <th>Sex_male</th>\n",
       "      <th>Has_Cabin</th>\n",
       "    </tr>\n",
       "  </thead>\n",
       "  <tbody>\n",
       "    <tr>\n",
       "      <th>1030</th>\n",
       "      <td>1044</td>\n",
       "      <td>0</td>\n",
       "      <td>60.5</td>\n",
       "      <td>0</td>\n",
       "      <td>0</td>\n",
       "      <td>3701</td>\n",
       "      <td>NaN</td>\n",
       "      <td>0</td>\n",
       "      <td>0</td>\n",
       "      <td>1</td>\n",
       "      <td>...</td>\n",
       "      <td>1</td>\n",
       "      <td>0</td>\n",
       "      <td>0</td>\n",
       "      <td>1</td>\n",
       "      <td>0</td>\n",
       "      <td>0</td>\n",
       "      <td>1</td>\n",
       "      <td>0</td>\n",
       "      <td>1</td>\n",
       "      <td>0</td>\n",
       "    </tr>\n",
       "  </tbody>\n",
       "</table>\n",
       "<p>1 rows × 23 columns</p>\n",
       "</div>"
      ]
     },
     "execution_count": 221,
     "metadata": {},
     "output_type": "execute_result"
    }
   ],
   "execution_count": 221
  },
  {
   "metadata": {
    "ExecuteTime": {
     "end_time": "2025-07-13T21:13:38.256157Z",
     "start_time": "2025-07-13T21:13:38.246129Z"
    }
   },
   "cell_type": "code",
   "source": [
    "train_df.dropna(subset=[\"Fare\"], inplace=True)\n",
    "train_df[train_df[\"Fare\"].isnull()]"
   ],
   "outputs": [
    {
     "data": {
      "text/plain": [
       "Empty DataFrame\n",
       "Columns: [PassengerId, Survived, Age, SibSp, Parch, Ticket, Fare, Title_0, Title_1, Title_2, Title_3, Fsize, family_size_0, family_size_1, Embarked_C, Embarked_Q, Embarked_S, Pclass_1, Pclass_2, Pclass_3, Sex_female, Sex_male, Has_Cabin]\n",
       "Index: []\n",
       "\n",
       "[0 rows x 23 columns]"
      ],
      "text/html": [
       "<div>\n",
       "<style scoped>\n",
       "    .dataframe tbody tr th:only-of-type {\n",
       "        vertical-align: middle;\n",
       "    }\n",
       "\n",
       "    .dataframe tbody tr th {\n",
       "        vertical-align: top;\n",
       "    }\n",
       "\n",
       "    .dataframe thead th {\n",
       "        text-align: right;\n",
       "    }\n",
       "</style>\n",
       "<table border=\"1\" class=\"dataframe\">\n",
       "  <thead>\n",
       "    <tr style=\"text-align: right;\">\n",
       "      <th></th>\n",
       "      <th>PassengerId</th>\n",
       "      <th>Survived</th>\n",
       "      <th>Age</th>\n",
       "      <th>SibSp</th>\n",
       "      <th>Parch</th>\n",
       "      <th>Ticket</th>\n",
       "      <th>Fare</th>\n",
       "      <th>Title_0</th>\n",
       "      <th>Title_1</th>\n",
       "      <th>Title_2</th>\n",
       "      <th>...</th>\n",
       "      <th>family_size_1</th>\n",
       "      <th>Embarked_C</th>\n",
       "      <th>Embarked_Q</th>\n",
       "      <th>Embarked_S</th>\n",
       "      <th>Pclass_1</th>\n",
       "      <th>Pclass_2</th>\n",
       "      <th>Pclass_3</th>\n",
       "      <th>Sex_female</th>\n",
       "      <th>Sex_male</th>\n",
       "      <th>Has_Cabin</th>\n",
       "    </tr>\n",
       "  </thead>\n",
       "  <tbody>\n",
       "  </tbody>\n",
       "</table>\n",
       "<p>0 rows × 23 columns</p>\n",
       "</div>"
      ]
     },
     "execution_count": 222,
     "metadata": {},
     "output_type": "execute_result"
    }
   ],
   "execution_count": 222
  },
  {
   "cell_type": "code",
   "source": "# Ticket ve PassengerId'in tamamen gereksiz featurelar olduğunu düşünüyorum. Bunları modele veri olarak vermyeceğim.\ntrain_df.drop(labels=[\"Ticket\", \"PassengerId\", \"Fsize\"], axis=1, inplace=True)",
   "metadata": {
    "trusted": true,
    "ExecuteTime": {
     "end_time": "2025-07-13T21:13:38.352220Z",
     "start_time": "2025-07-13T21:13:38.348190Z"
    }
   },
   "outputs": [],
   "execution_count": 223
  },
  {
   "metadata": {
    "ExecuteTime": {
     "end_time": "2025-07-13T21:13:38.500641Z",
     "start_time": "2025-07-13T21:13:38.494728Z"
    }
   },
   "cell_type": "code",
   "source": [
    "corr_matrix = train_df.corr()\n",
    "print(corr_matrix[\"Survived\"].abs().sort_values(ascending=False))"
   ],
   "outputs": [
    {
     "name": "stdout",
     "output_type": "stream",
     "text": [
      "Survived         1.000000\n",
      "Sex_female       0.689912\n",
      "Sex_male         0.689912\n",
      "Title_1          0.681220\n",
      "Title_2          0.659072\n",
      "Has_Cabin        0.254650\n",
      "Pclass_3         0.241678\n",
      "Fare             0.232152\n",
      "Pclass_1         0.231813\n",
      "Embarked_S       0.138430\n",
      "Embarked_C       0.125524\n",
      "Parch            0.111568\n",
      "family_size_0    0.080989\n",
      "family_size_1    0.080989\n",
      "Pclass_2         0.049333\n",
      "Embarked_Q       0.043037\n",
      "Age              0.035061\n",
      "Title_3          0.014258\n",
      "SibSp            0.011969\n",
      "Title_0          0.011273\n",
      "Name: Survived, dtype: float64\n"
     ]
    }
   ],
   "execution_count": 224
  },
  {
   "cell_type": "markdown",
   "source": "# Modeling",
   "metadata": {}
  },
  {
   "cell_type": "markdown",
   "source": "### KNN ile Model Eğitimi",
   "metadata": {}
  },
  {
   "cell_type": "code",
   "source": "from sklearn.model_selection import train_test_split, StratifiedKFold, GridSearchCV\nfrom sklearn.linear_model import LogisticRegression\nfrom sklearn.svm import SVC\nfrom sklearn.ensemble import RandomForestClassifier, VotingClassifier\nfrom sklearn.neighbors import KNeighborsClassifier\nfrom sklearn.tree import DecisionTreeClassifier\nfrom sklearn.metrics import accuracy_score",
   "metadata": {
    "trusted": true,
    "ExecuteTime": {
     "end_time": "2025-07-13T21:13:38.640510Z",
     "start_time": "2025-07-13T21:13:38.636190Z"
    }
   },
   "outputs": [],
   "execution_count": 225
  },
  {
   "cell_type": "markdown",
   "source": "## Train Test Split",
   "metadata": {}
  },
  {
   "cell_type": "code",
   "source": [
    "train = train_df.copy()\n",
    "\n",
    "X_train = train.drop(labels=\"Survived\", axis=1)\n",
    "y_train = train[\"Survived\"]\n",
    "X_train, X_test, y_train, y_test = train_test_split(X_train, y_train, test_size=0.33, random_state=42)\n",
    "\n",
    "print(f\"X train: {len(X_train)}\")\n",
    "print(f\"X test: {len(X_test)}\")\n",
    "print(f\"Y train: {len(y_train)}\")\n",
    "print(f\"Y test: {len(y_train)}\")"
   ],
   "metadata": {
    "trusted": true,
    "ExecuteTime": {
     "end_time": "2025-07-13T21:13:38.704742Z",
     "start_time": "2025-07-13T21:13:38.694374Z"
    }
   },
   "outputs": [
    {
     "name": "stdout",
     "output_type": "stream",
     "text": [
      "X train: 862\n",
      "X test: 426\n",
      "Y train: 862\n",
      "Y test: 862\n"
     ]
    }
   ],
   "execution_count": 226
  },
  {
   "cell_type": "markdown",
   "source": "## Simple Logistic Regression",
   "metadata": {}
  },
  {
   "cell_type": "code",
   "source": [
    "logreg = LogisticRegression()\n",
    "logreg.fit(X_train, y_train)\n",
    "\n",
    "acc_log_train = round(logreg.score(X_train, y_train)*100, 2)\n",
    "acc_log_test = round(logreg.score(X_test, y_test)* 100,2)\n",
    "\n",
    "print(f\"Train accuracy score: {acc_log_train}\")\n",
    "print(f\"Test accuracy score: {acc_log_test}\")"
   ],
   "metadata": {
    "trusted": true,
    "ExecuteTime": {
     "end_time": "2025-07-13T21:13:38.754293Z",
     "start_time": "2025-07-13T21:13:38.730264Z"
    }
   },
   "outputs": [
    {
     "name": "stdout",
     "output_type": "stream",
     "text": [
      "Train accuracy score: 88.52\n",
      "Test accuracy score: 85.45\n"
     ]
    }
   ],
   "execution_count": 227
  },
  {
   "cell_type": "markdown",
   "source": "## HyperParameter Tuning -- Grid Search -- CrossValidation\n\nWe will compare 5 ml classifier and evaluate mean accuracy of each of them by stratified cross validation.\n- Decision Tree\n- SVM\n- Random Forest\n- KNN\n- Logistic Regression",
   "metadata": {}
  },
  {
   "cell_type": "code",
   "source": "X_train.info()",
   "metadata": {
    "trusted": true,
    "ExecuteTime": {
     "end_time": "2025-07-13T21:13:38.772145Z",
     "start_time": "2025-07-13T21:13:38.761806Z"
    }
   },
   "outputs": [
    {
     "name": "stdout",
     "output_type": "stream",
     "text": [
      "<class 'pandas.core.frame.DataFrame'>\n",
      "Index: 862 entries, 935 to 1127\n",
      "Data columns (total 19 columns):\n",
      " #   Column         Non-Null Count  Dtype  \n",
      "---  ------         --------------  -----  \n",
      " 0   Age            862 non-null    float64\n",
      " 1   SibSp          862 non-null    int64  \n",
      " 2   Parch          862 non-null    int64  \n",
      " 3   Fare           862 non-null    float64\n",
      " 4   Title_0        862 non-null    int32  \n",
      " 5   Title_1        862 non-null    int32  \n",
      " 6   Title_2        862 non-null    int32  \n",
      " 7   Title_3        862 non-null    int32  \n",
      " 8   family_size_0  862 non-null    int32  \n",
      " 9   family_size_1  862 non-null    int32  \n",
      " 10  Embarked_C     862 non-null    int32  \n",
      " 11  Embarked_Q     862 non-null    int32  \n",
      " 12  Embarked_S     862 non-null    int32  \n",
      " 13  Pclass_1       862 non-null    int32  \n",
      " 14  Pclass_2       862 non-null    int32  \n",
      " 15  Pclass_3       862 non-null    int32  \n",
      " 16  Sex_female     862 non-null    int32  \n",
      " 17  Sex_male       862 non-null    int32  \n",
      " 18  Has_Cabin      862 non-null    int32  \n",
      "dtypes: float64(2), int32(15), int64(2)\n",
      "memory usage: 84.2 KB\n"
     ]
    }
   ],
   "execution_count": 228
  },
  {
   "cell_type": "code",
   "source": [
    "random_state = 42\n",
    "classifiers = [DecisionTreeClassifier(random_state=random_state),\n",
    "               SVC(random_state=random_state),\n",
    "               RandomForestClassifier(random_state=random_state),\n",
    "               LogisticRegression(random_state=random_state),\n",
    "               KNeighborsClassifier()]\n",
    "\n",
    "\n",
    "dt_param_grid = {\"min_samples_split\": range(10,100,5),\n",
    "                 \"max_depth\": range(1, 20, 1)}\n",
    "\n",
    "svc_param_grid = {\"kernel\": [\"rbf\"],\n",
    "                  \"gamma\": [0.001, 0.01, 0.1, 1],\n",
    "                  \"C\": [1, 10, 50, 100, 200, 300, 1000]}\n",
    "\n",
    "rf_param_grid = {\"max_features\": [2, 5, 8, 10, 12], # Rastgele Feature Bölümleme\n",
    "                 \"min_samples_split\": [10, 25, 50],\n",
    "                 \"min_samples_leaf\": [5, 20, 40],\n",
    "                 \"bootstrap\": [True],\n",
    "                 \"n_estimators\": [50, 100, 150, 200, 250, 300],\n",
    "                 \"criterion\": [\"gini\"]}\n",
    "\n",
    "logreg_param_grid = {\"C\": np.logspace(-3,3,7),\n",
    "                     \"penalty\": [\"l1\", \"l2\"],\n",
    "                     \"solver\": [\"liblinear\"]}\n",
    "\n",
    "knn_param_grid = {\"n_neighbors\": np.linspace(1, 19, num=10, dtype=int).tolist(),\n",
    "                  \"weights\": [\"uniform\", \"distance\"],\n",
    "                  \"metric\": [\"euclidean\", \"manhattan\"]}\n",
    "\n",
    "classifier_param = [dt_param_grid,\n",
    "                    svc_param_grid,\n",
    "                    rf_param_grid,\n",
    "                    logreg_param_grid,\n",
    "                    knn_param_grid]"
   ],
   "metadata": {
    "trusted": true,
    "ExecuteTime": {
     "end_time": "2025-07-13T21:13:38.820455Z",
     "start_time": "2025-07-13T21:13:38.812787Z"
    }
   },
   "outputs": [],
   "execution_count": 229
  },
  {
   "cell_type": "code",
   "source": "cv_result = []\nbest_estimators = []\nfor i in range(len(classifiers)):\n    clf = GridSearchCV(classifiers[i], param_grid=classifier_param[i], cv=StratifiedKFold(n_splits=10), scoring=\"accuracy\", n_jobs=-1, verbose=1)\n    clf.fit(X_train, y_train)\n    cv_result.append(clf.best_score_)\n    best_estimators.append(clf.best_estimator_)\n    print(cv_result[i])",
   "metadata": {
    "trusted": true,
    "ExecuteTime": {
     "end_time": "2025-07-13T21:15:18.368462Z",
     "start_time": "2025-07-13T21:13:38.830071Z"
    }
   },
   "outputs": [
    {
     "name": "stdout",
     "output_type": "stream",
     "text": [
      "Fitting 10 folds for each of 342 candidates, totalling 3420 fits\n",
      "0.8746591820368884\n",
      "Fitting 10 folds for each of 28 candidates, totalling 280 fits\n",
      "0.8642074311681368\n",
      "Fitting 10 folds for each of 270 candidates, totalling 2700 fits\n",
      "0.8816359262229352\n",
      "Fitting 10 folds for each of 14 candidates, totalling 140 fits\n",
      "0.8816359262229352\n",
      "Fitting 10 folds for each of 40 candidates, totalling 400 fits\n",
      "0.8063084736701416\n"
     ]
    }
   ],
   "execution_count": 230
  },
  {
   "metadata": {
    "ExecuteTime": {
     "end_time": "2025-07-13T21:15:18.445223Z",
     "start_time": "2025-07-13T21:15:18.442660Z"
    }
   },
   "cell_type": "code",
   "source": "",
   "outputs": [],
   "execution_count": null
  },
  {
   "cell_type": "code",
   "source": "cv_results = pd.DataFrame({\"Cross Validation Accuracy Means\":cv_result, \"ML Models\":[\"DecisionTreeClassifier\", \"SVM\", \"RandomForestTree\", \"LogisticRegression\", \"KNN\"]})\ncv_results",
   "metadata": {
    "trusted": true,
    "ExecuteTime": {
     "end_time": "2025-07-13T21:15:18.481741Z",
     "start_time": "2025-07-13T21:15:18.470626Z"
    }
   },
   "outputs": [
    {
     "data": {
      "text/plain": [
       "   Cross Validation Accuracy Means               ML Models\n",
       "0                         0.874659  DecisionTreeClassifier\n",
       "1                         0.864207                     SVM\n",
       "2                         0.881636        RandomForestTree\n",
       "3                         0.881636      LogisticRegression\n",
       "4                         0.806308                     KNN"
      ],
      "text/html": [
       "<div>\n",
       "<style scoped>\n",
       "    .dataframe tbody tr th:only-of-type {\n",
       "        vertical-align: middle;\n",
       "    }\n",
       "\n",
       "    .dataframe tbody tr th {\n",
       "        vertical-align: top;\n",
       "    }\n",
       "\n",
       "    .dataframe thead th {\n",
       "        text-align: right;\n",
       "    }\n",
       "</style>\n",
       "<table border=\"1\" class=\"dataframe\">\n",
       "  <thead>\n",
       "    <tr style=\"text-align: right;\">\n",
       "      <th></th>\n",
       "      <th>Cross Validation Accuracy Means</th>\n",
       "      <th>ML Models</th>\n",
       "    </tr>\n",
       "  </thead>\n",
       "  <tbody>\n",
       "    <tr>\n",
       "      <th>0</th>\n",
       "      <td>0.874659</td>\n",
       "      <td>DecisionTreeClassifier</td>\n",
       "    </tr>\n",
       "    <tr>\n",
       "      <th>1</th>\n",
       "      <td>0.864207</td>\n",
       "      <td>SVM</td>\n",
       "    </tr>\n",
       "    <tr>\n",
       "      <th>2</th>\n",
       "      <td>0.881636</td>\n",
       "      <td>RandomForestTree</td>\n",
       "    </tr>\n",
       "    <tr>\n",
       "      <th>3</th>\n",
       "      <td>0.881636</td>\n",
       "      <td>LogisticRegression</td>\n",
       "    </tr>\n",
       "    <tr>\n",
       "      <th>4</th>\n",
       "      <td>0.806308</td>\n",
       "      <td>KNN</td>\n",
       "    </tr>\n",
       "  </tbody>\n",
       "</table>\n",
       "</div>"
      ]
     },
     "execution_count": 231,
     "metadata": {},
     "output_type": "execute_result"
    }
   ],
   "execution_count": 231
  },
  {
   "metadata": {
    "ExecuteTime": {
     "end_time": "2025-07-13T21:15:18.598640Z",
     "start_time": "2025-07-13T21:15:18.529525Z"
    }
   },
   "cell_type": "code",
   "source": [
    "best_estimators_df = pd.DataFrame({\"Cross Validation Best Estimator Parameters\": best_estimators, \"ML Models\": [\"DecisionTreeClassifier\", \"SVM\", \"RandomForestTree\", \"LogisticRegression\", \"KNN\"]})\n",
    "best_estimators_df"
   ],
   "outputs": [
    {
     "data": {
      "text/plain": [
       "          Cross Validation Best Estimator Parameters               ML Models\n",
       "0  DecisionTreeClassifier(max_depth=3, min_sample...  DecisionTreeClassifier\n",
       "1           SVC(C=100, gamma=0.001, random_state=42)                     SVM\n",
       "2  (DecisionTreeClassifier(max_features=2, min_sa...        RandomForestTree\n",
       "3  LogisticRegression(C=10.0, penalty='l1', rando...      LogisticRegression\n",
       "4           KNeighborsClassifier(metric='manhattan')                     KNN"
      ],
      "text/html": [
       "<div>\n",
       "<style scoped>\n",
       "    .dataframe tbody tr th:only-of-type {\n",
       "        vertical-align: middle;\n",
       "    }\n",
       "\n",
       "    .dataframe tbody tr th {\n",
       "        vertical-align: top;\n",
       "    }\n",
       "\n",
       "    .dataframe thead th {\n",
       "        text-align: right;\n",
       "    }\n",
       "</style>\n",
       "<table border=\"1\" class=\"dataframe\">\n",
       "  <thead>\n",
       "    <tr style=\"text-align: right;\">\n",
       "      <th></th>\n",
       "      <th>Cross Validation Best Estimator Parameters</th>\n",
       "      <th>ML Models</th>\n",
       "    </tr>\n",
       "  </thead>\n",
       "  <tbody>\n",
       "    <tr>\n",
       "      <th>0</th>\n",
       "      <td>DecisionTreeClassifier(max_depth=3, min_sample...</td>\n",
       "      <td>DecisionTreeClassifier</td>\n",
       "    </tr>\n",
       "    <tr>\n",
       "      <th>1</th>\n",
       "      <td>SVC(C=100, gamma=0.001, random_state=42)</td>\n",
       "      <td>SVM</td>\n",
       "    </tr>\n",
       "    <tr>\n",
       "      <th>2</th>\n",
       "      <td>(DecisionTreeClassifier(max_features=2, min_sa...</td>\n",
       "      <td>RandomForestTree</td>\n",
       "    </tr>\n",
       "    <tr>\n",
       "      <th>3</th>\n",
       "      <td>LogisticRegression(C=10.0, penalty='l1', rando...</td>\n",
       "      <td>LogisticRegression</td>\n",
       "    </tr>\n",
       "    <tr>\n",
       "      <th>4</th>\n",
       "      <td>KNeighborsClassifier(metric='manhattan')</td>\n",
       "      <td>KNN</td>\n",
       "    </tr>\n",
       "  </tbody>\n",
       "</table>\n",
       "</div>"
      ]
     },
     "execution_count": 232,
     "metadata": {},
     "output_type": "execute_result"
    }
   ],
   "execution_count": 232
  },
  {
   "cell_type": "code",
   "source": "s = sns.barplot(cv_results, x=\"ML Models\", y=\"Cross Validation Accuracy Means\")",
   "metadata": {
    "trusted": true,
    "ExecuteTime": {
     "end_time": "2025-07-13T21:15:18.796805Z",
     "start_time": "2025-07-13T21:15:18.643673Z"
    }
   },
   "outputs": [
    {
     "data": {
      "text/plain": [
       "<Figure size 640x480 with 1 Axes>"
      ],
      "image/png": "[encoded data removed]"
     },
     "metadata": {},
     "output_type": "display_data"
    }
   ],
   "execution_count": 233
  },
  {
   "cell_type": "markdown",
   "source": "## Ensemble Modeling",
   "metadata": {}
  },
  {
   "cell_type": "code",
   "source": [
    "# 3 farklı classifier'ın oylama yöntemi ile karar verilmesi...\n",
    "votingC = VotingClassifier(estimators=[(\"dt\", best_estimators[0]), (\"rfc\", best_estimators[2]), (\"lr\", best_estimators[3])], voting=\"soft\", n_jobs=-1)\n",
    "votingC = votingC.fit(X_train, y_train)\n",
    "print(accuracy_score(votingC.predict(X_test), y_test))"
   ],
   "metadata": {
    "trusted": true,
    "ExecuteTime": {
     "end_time": "2025-07-13T21:15:19.245477Z",
     "start_time": "2025-07-13T21:15:18.873499Z"
    }
   },
   "outputs": [
    {
     "name": "stdout",
     "output_type": "stream",
     "text": [
      "0.852112676056338\n"
     ]
    }
   ],
   "execution_count": 234
  },
  {
   "metadata": {
    "ExecuteTime": {
     "end_time": "2025-07-13T21:15:19.280673Z",
     "start_time": "2025-07-13T21:15:19.275726Z"
    }
   },
   "cell_type": "code",
   "source": "",
   "outputs": [],
   "execution_count": null
  }
 ]
}
