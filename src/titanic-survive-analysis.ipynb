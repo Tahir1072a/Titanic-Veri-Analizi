{
 "metadata": {
  "kernelspec": {
   "language": "python",
   "display_name": "Python 3",
   "name": "python3"
  },
  "language_info": {
   "name": "python",
   "version": "3.11.13",
   "mimetype": "text/x-python",
   "codemirror_mode": {
    "name": "ipython",
    "version": 3
   },
   "pygments_lexer": "ipython3",
   "nbconvert_exporter": "python",
   "file_extension": ".py"
  },
  "kaggle": {
   "accelerator": "none",
   "dataSources": [
    {
     "sourceId": 11034953,
     "sourceType": "datasetVersion",
     "datasetId": 6788066
    },
    {
     "sourceId": 12359537,
     "sourceType": "datasetVersion",
     "datasetId": 7792295
    }
   ],
   "isInternetEnabled": true,
   "language": "python",
   "sourceType": "notebook",
   "isGpuEnabled": false
  }
 },
 "nbformat_minor": 4,
 "nbformat": 4,
 "cells": [
  {
   "cell_type": "markdown",
   "source": "# Introduction\n\n[**Content**](#):\n1. Load and Check Data\n2. Variable Description\n   - Univariate Variable Analysis  => Her bir değişkenin tek başına incelenmesi...\n       - Categorical Variables\n       - Numerical Variables\n3. Basic Data Analysis\n4. Outlier Detection\n5. Missing Value\n   - Find Missing Value\n   - Fill Missing Value\n6. Visualization\n    - Correlation between Sibsp - Parch - Age - Fare - Survived\n    - Sibsp -- Survived\n    - PClass -- Survived\n    - Age -- Survived\n    - Pclass -- Survived -- Age\n    - Embarked -- Sex -- Fare -- Survived\n    - Fill Missing, Age Feature:\n7. Feature Engineering\n8. Modeling\n   - Train Test Split\n   - Simple Logistic Regression\n   - Hyperparameter Tunning - Grid Search - Cross Validation\n   - Prediction and Submission",
   "metadata": {}
  },
  {
   "cell_type": "code",
   "source": [
    "import numpy as np\n",
    "import pandas as pd\n",
    "\n",
    "import matplotlib.pyplot as plt\n",
    "#plt.style.use(\"seaborn-whitegrid\")\n",
    "\n",
    "import seaborn as sns\n",
    "\n",
    "from collections import Counter\n",
    "\n",
    "import warnings\n",
    "warnings.filterwarnings(\"ignore\")\n",
    "\n",
    "import os\n",
    "\n",
    "# Dosyaların tam yollarını almak için kullanılır\n",
    "for dirname, _, filenames in os.walk('/kaggle/input'):\n",
    "    for filename in filenames:\n",
    "        print(os.path.join(dirname, filename))"
   ],
   "metadata": {
    "_uuid": "8f2839f25d086af736a60e9eeb907d3b93b6e0e5",
    "_cell_guid": "b1076dfc-b9ad-4769-8c92-a6c4dae69d19",
    "trusted": true,
    "ExecuteTime": {
     "end_time": "2025-07-12T08:28:30.283453Z",
     "start_time": "2025-07-12T08:28:30.279104Z"
    }
   },
   "outputs": [],
   "execution_count": 73
  },
  {
   "cell_type": "markdown",
   "source": "## Load And Check Data",
   "metadata": {}
  },
  {
   "cell_type": "code",
   "source": [
    "train_df = pd.read_csv(\"../data/train.csv\")\n",
    "# y_train = train_data[\"Survived\"]\n",
    "\n",
    "# X_test = pd.read_csv(\"/kaggle/input/titanic/titanic/test.csv\")\n",
    "# y_test = pd.read_csv(\"/kaggle/input/titanic/titanic/gender_submission.csv\")"
   ],
   "metadata": {
    "trusted": true,
    "ExecuteTime": {
     "end_time": "2025-07-12T08:28:30.324554Z",
     "start_time": "2025-07-12T08:28:30.317942Z"
    }
   },
   "outputs": [],
   "execution_count": 74
  },
  {
   "cell_type": "code",
   "source": "train_df.columns",
   "metadata": {
    "trusted": true,
    "ExecuteTime": {
     "end_time": "2025-07-12T08:28:30.334607Z",
     "start_time": "2025-07-12T08:28:30.330606Z"
    }
   },
   "outputs": [
    {
     "data": {
      "text/plain": [
       "Index(['PassengerId', 'Survived', 'Pclass', 'Name', 'Sex', 'Age', 'SibSp',\n",
       "       'Parch', 'Ticket', 'Fare', 'Cabin', 'Embarked'],\n",
       "      dtype='object')"
      ]
     },
     "execution_count": 75,
     "metadata": {},
     "output_type": "execute_result"
    }
   ],
   "execution_count": 75
  },
  {
   "cell_type": "code",
   "source": "train_df.head()",
   "metadata": {
    "trusted": true,
    "ExecuteTime": {
     "end_time": "2025-07-12T08:28:30.366355Z",
     "start_time": "2025-07-12T08:28:30.354105Z"
    }
   },
   "outputs": [
    {
     "data": {
      "text/plain": [
       "   PassengerId  Survived  Pclass  \\\n",
       "0            1         0       3   \n",
       "1            2         1       1   \n",
       "2            3         1       3   \n",
       "3            4         1       1   \n",
       "4            5         0       3   \n",
       "\n",
       "                                                Name     Sex   Age  SibSp  \\\n",
       "0                            Braund, Mr. Owen Harris    male  22.0      1   \n",
       "1  Cumings, Mrs. John Bradley (Florence Briggs Th...  female  38.0      1   \n",
       "2                             Heikkinen, Miss. Laina  female  26.0      0   \n",
       "3       Futrelle, Mrs. Jacques Heath (Lily May Peel)  female  35.0      1   \n",
       "4                           Allen, Mr. William Henry    male  35.0      0   \n",
       "\n",
       "   Parch            Ticket     Fare Cabin Embarked  \n",
       "0      0         A/5 21171   7.2500   NaN        S  \n",
       "1      0          PC 17599  71.2833   C85        C  \n",
       "2      0  STON/O2. 3101282   7.9250   NaN        S  \n",
       "3      0            113803  53.1000  C123        S  \n",
       "4      0            373450   8.0500   NaN        S  "
      ],
      "text/html": [
       "<div>\n",
       "<style scoped>\n",
       "    .dataframe tbody tr th:only-of-type {\n",
       "        vertical-align: middle;\n",
       "    }\n",
       "\n",
       "    .dataframe tbody tr th {\n",
       "        vertical-align: top;\n",
       "    }\n",
       "\n",
       "    .dataframe thead th {\n",
       "        text-align: right;\n",
       "    }\n",
       "</style>\n",
       "<table border=\"1\" class=\"dataframe\">\n",
       "  <thead>\n",
       "    <tr style=\"text-align: right;\">\n",
       "      <th></th>\n",
       "      <th>PassengerId</th>\n",
       "      <th>Survived</th>\n",
       "      <th>Pclass</th>\n",
       "      <th>Name</th>\n",
       "      <th>Sex</th>\n",
       "      <th>Age</th>\n",
       "      <th>SibSp</th>\n",
       "      <th>Parch</th>\n",
       "      <th>Ticket</th>\n",
       "      <th>Fare</th>\n",
       "      <th>Cabin</th>\n",
       "      <th>Embarked</th>\n",
       "    </tr>\n",
       "  </thead>\n",
       "  <tbody>\n",
       "    <tr>\n",
       "      <th>0</th>\n",
       "      <td>1</td>\n",
       "      <td>0</td>\n",
       "      <td>3</td>\n",
       "      <td>Braund, Mr. Owen Harris</td>\n",
       "      <td>male</td>\n",
       "      <td>22.0</td>\n",
       "      <td>1</td>\n",
       "      <td>0</td>\n",
       "      <td>A/5 21171</td>\n",
       "      <td>7.2500</td>\n",
       "      <td>NaN</td>\n",
       "      <td>S</td>\n",
       "    </tr>\n",
       "    <tr>\n",
       "      <th>1</th>\n",
       "      <td>2</td>\n",
       "      <td>1</td>\n",
       "      <td>1</td>\n",
       "      <td>Cumings, Mrs. John Bradley (Florence Briggs Th...</td>\n",
       "      <td>female</td>\n",
       "      <td>38.0</td>\n",
       "      <td>1</td>\n",
       "      <td>0</td>\n",
       "      <td>PC 17599</td>\n",
       "      <td>71.2833</td>\n",
       "      <td>C85</td>\n",
       "      <td>C</td>\n",
       "    </tr>\n",
       "    <tr>\n",
       "      <th>2</th>\n",
       "      <td>3</td>\n",
       "      <td>1</td>\n",
       "      <td>3</td>\n",
       "      <td>Heikkinen, Miss. Laina</td>\n",
       "      <td>female</td>\n",
       "      <td>26.0</td>\n",
       "      <td>0</td>\n",
       "      <td>0</td>\n",
       "      <td>STON/O2. 3101282</td>\n",
       "      <td>7.9250</td>\n",
       "      <td>NaN</td>\n",
       "      <td>S</td>\n",
       "    </tr>\n",
       "    <tr>\n",
       "      <th>3</th>\n",
       "      <td>4</td>\n",
       "      <td>1</td>\n",
       "      <td>1</td>\n",
       "      <td>Futrelle, Mrs. Jacques Heath (Lily May Peel)</td>\n",
       "      <td>female</td>\n",
       "      <td>35.0</td>\n",
       "      <td>1</td>\n",
       "      <td>0</td>\n",
       "      <td>113803</td>\n",
       "      <td>53.1000</td>\n",
       "      <td>C123</td>\n",
       "      <td>S</td>\n",
       "    </tr>\n",
       "    <tr>\n",
       "      <th>4</th>\n",
       "      <td>5</td>\n",
       "      <td>0</td>\n",
       "      <td>3</td>\n",
       "      <td>Allen, Mr. William Henry</td>\n",
       "      <td>male</td>\n",
       "      <td>35.0</td>\n",
       "      <td>0</td>\n",
       "      <td>0</td>\n",
       "      <td>373450</td>\n",
       "      <td>8.0500</td>\n",
       "      <td>NaN</td>\n",
       "      <td>S</td>\n",
       "    </tr>\n",
       "  </tbody>\n",
       "</table>\n",
       "</div>"
      ]
     },
     "execution_count": 76,
     "metadata": {},
     "output_type": "execute_result"
    }
   ],
   "execution_count": 76
  },
  {
   "cell_type": "code",
   "source": "train_df.describe()",
   "metadata": {
    "trusted": true,
    "ExecuteTime": {
     "end_time": "2025-07-12T08:28:30.426547Z",
     "start_time": "2025-07-12T08:28:30.409237Z"
    }
   },
   "outputs": [
    {
     "data": {
      "text/plain": [
       "       PassengerId    Survived      Pclass         Age       SibSp  \\\n",
       "count   891.000000  891.000000  891.000000  714.000000  891.000000   \n",
       "mean    446.000000    0.383838    2.308642   29.699118    0.523008   \n",
       "std     257.353842    0.486592    0.836071   14.526497    1.102743   \n",
       "min       1.000000    0.000000    1.000000    0.420000    0.000000   \n",
       "25%     223.500000    0.000000    2.000000   20.125000    0.000000   \n",
       "50%     446.000000    0.000000    3.000000   28.000000    0.000000   \n",
       "75%     668.500000    1.000000    3.000000   38.000000    1.000000   \n",
       "max     891.000000    1.000000    3.000000   80.000000    8.000000   \n",
       "\n",
       "            Parch        Fare  \n",
       "count  891.000000  891.000000  \n",
       "mean     0.381594   32.204208  \n",
       "std      0.806057   49.693429  \n",
       "min      0.000000    0.000000  \n",
       "25%      0.000000    7.910400  \n",
       "50%      0.000000   14.454200  \n",
       "75%      0.000000   31.000000  \n",
       "max      6.000000  512.329200  "
      ],
      "text/html": [
       "<div>\n",
       "<style scoped>\n",
       "    .dataframe tbody tr th:only-of-type {\n",
       "        vertical-align: middle;\n",
       "    }\n",
       "\n",
       "    .dataframe tbody tr th {\n",
       "        vertical-align: top;\n",
       "    }\n",
       "\n",
       "    .dataframe thead th {\n",
       "        text-align: right;\n",
       "    }\n",
       "</style>\n",
       "<table border=\"1\" class=\"dataframe\">\n",
       "  <thead>\n",
       "    <tr style=\"text-align: right;\">\n",
       "      <th></th>\n",
       "      <th>PassengerId</th>\n",
       "      <th>Survived</th>\n",
       "      <th>Pclass</th>\n",
       "      <th>Age</th>\n",
       "      <th>SibSp</th>\n",
       "      <th>Parch</th>\n",
       "      <th>Fare</th>\n",
       "    </tr>\n",
       "  </thead>\n",
       "  <tbody>\n",
       "    <tr>\n",
       "      <th>count</th>\n",
       "      <td>891.000000</td>\n",
       "      <td>891.000000</td>\n",
       "      <td>891.000000</td>\n",
       "      <td>714.000000</td>\n",
       "      <td>891.000000</td>\n",
       "      <td>891.000000</td>\n",
       "      <td>891.000000</td>\n",
       "    </tr>\n",
       "    <tr>\n",
       "      <th>mean</th>\n",
       "      <td>446.000000</td>\n",
       "      <td>0.383838</td>\n",
       "      <td>2.308642</td>\n",
       "      <td>29.699118</td>\n",
       "      <td>0.523008</td>\n",
       "      <td>0.381594</td>\n",
       "      <td>32.204208</td>\n",
       "    </tr>\n",
       "    <tr>\n",
       "      <th>std</th>\n",
       "      <td>257.353842</td>\n",
       "      <td>0.486592</td>\n",
       "      <td>0.836071</td>\n",
       "      <td>14.526497</td>\n",
       "      <td>1.102743</td>\n",
       "      <td>0.806057</td>\n",
       "      <td>49.693429</td>\n",
       "    </tr>\n",
       "    <tr>\n",
       "      <th>min</th>\n",
       "      <td>1.000000</td>\n",
       "      <td>0.000000</td>\n",
       "      <td>1.000000</td>\n",
       "      <td>0.420000</td>\n",
       "      <td>0.000000</td>\n",
       "      <td>0.000000</td>\n",
       "      <td>0.000000</td>\n",
       "    </tr>\n",
       "    <tr>\n",
       "      <th>25%</th>\n",
       "      <td>223.500000</td>\n",
       "      <td>0.000000</td>\n",
       "      <td>2.000000</td>\n",
       "      <td>20.125000</td>\n",
       "      <td>0.000000</td>\n",
       "      <td>0.000000</td>\n",
       "      <td>7.910400</td>\n",
       "    </tr>\n",
       "    <tr>\n",
       "      <th>50%</th>\n",
       "      <td>446.000000</td>\n",
       "      <td>0.000000</td>\n",
       "      <td>3.000000</td>\n",
       "      <td>28.000000</td>\n",
       "      <td>0.000000</td>\n",
       "      <td>0.000000</td>\n",
       "      <td>14.454200</td>\n",
       "    </tr>\n",
       "    <tr>\n",
       "      <th>75%</th>\n",
       "      <td>668.500000</td>\n",
       "      <td>1.000000</td>\n",
       "      <td>3.000000</td>\n",
       "      <td>38.000000</td>\n",
       "      <td>1.000000</td>\n",
       "      <td>0.000000</td>\n",
       "      <td>31.000000</td>\n",
       "    </tr>\n",
       "    <tr>\n",
       "      <th>max</th>\n",
       "      <td>891.000000</td>\n",
       "      <td>1.000000</td>\n",
       "      <td>3.000000</td>\n",
       "      <td>80.000000</td>\n",
       "      <td>8.000000</td>\n",
       "      <td>6.000000</td>\n",
       "      <td>512.329200</td>\n",
       "    </tr>\n",
       "  </tbody>\n",
       "</table>\n",
       "</div>"
      ]
     },
     "execution_count": 77,
     "metadata": {},
     "output_type": "execute_result"
    }
   ],
   "execution_count": 77
  },
  {
   "cell_type": "markdown",
   "source": "# Variable Description",
   "metadata": {}
  },
  {
   "cell_type": "code",
   "source": "train_df.info()",
   "metadata": {
    "trusted": true,
    "ExecuteTime": {
     "end_time": "2025-07-12T08:28:30.533293Z",
     "start_time": "2025-07-12T08:28:30.518265Z"
    }
   },
   "outputs": [
    {
     "name": "stdout",
     "output_type": "stream",
     "text": [
      "<class 'pandas.core.frame.DataFrame'>\n",
      "RangeIndex: 891 entries, 0 to 890\n",
      "Data columns (total 12 columns):\n",
      " #   Column       Non-Null Count  Dtype  \n",
      "---  ------       --------------  -----  \n",
      " 0   PassengerId  891 non-null    int64  \n",
      " 1   Survived     891 non-null    int64  \n",
      " 2   Pclass       891 non-null    int64  \n",
      " 3   Name         891 non-null    object \n",
      " 4   Sex          891 non-null    object \n",
      " 5   Age          714 non-null    float64\n",
      " 6   SibSp        891 non-null    int64  \n",
      " 7   Parch        891 non-null    int64  \n",
      " 8   Ticket       891 non-null    object \n",
      " 9   Fare         891 non-null    float64\n",
      " 10  Cabin        204 non-null    object \n",
      " 11  Embarked     889 non-null    object \n",
      "dtypes: float64(2), int64(5), object(5)\n",
      "memory usage: 83.7+ KB\n"
     ]
    }
   ],
   "execution_count": 78
  },
  {
   "cell_type": "markdown",
   "source": "## Univariate Variable Analysis\n\n- Categorical: Survived, Pclass, Embarked, Cabin, SibSp, Parch, Name, Sex, Ticket\n- Numeric Variables: Fare, age, PassengerId\n",
   "metadata": {}
  },
  {
   "cell_type": "markdown",
   "source": "### Categorical Variables",
   "metadata": {}
  },
  {
   "cell_type": "code",
   "source": "def bar_plot(variable):\n    \n    # get feature\n    var = train_df[variable]\n    varValue = var.value_counts()\n\n    # visualize\n    plt.figure(figsize=(9,3))\n    plt.bar(varValue.index, varValue)\n    plt.xticks(ticks=varValue.index, labels=varValue.index.values)\n    plt.ylabel(\"Frequency\")\n    plt.title(variable)\n    plt.show()\n    print(f\"{variable}: \\n {varValue}\")",
   "metadata": {
    "trusted": true,
    "ExecuteTime": {
     "end_time": "2025-07-12T08:28:30.689772Z",
     "start_time": "2025-07-12T08:28:30.678645Z"
    }
   },
   "outputs": [],
   "execution_count": 79
  },
  {
   "cell_type": "code",
   "source": "category1 = [\"Survived\", \"Sex\", \"Pclass\", \"Embarked\", \"SibSp\", \"Parch\"]\nfor c in category1:\n    bar_plot(c)",
   "metadata": {
    "trusted": true,
    "ExecuteTime": {
     "end_time": "2025-07-12T08:28:31.305376Z",
     "start_time": "2025-07-12T08:28:30.832094Z"
    }
   },
   "outputs": [
    {
     "data": {
      "text/plain": [
       "<Figure size 900x300 with 1 Axes>"
      ],
      "image/png": "[encoded data removed]"
     },
     "metadata": {},
     "output_type": "display_data"
    },
    {
     "name": "stdout",
     "output_type": "stream",
     "text": [
      "Survived: \n",
      " Survived\n",
      "0    549\n",
      "1    342\n",
      "Name: count, dtype: int64\n"
     ]
    },
    {
     "data": {
      "text/plain": [
       "<Figure size 900x300 with 1 Axes>"
      ],
      "image/png": "[encoded data removed]"
     },
     "metadata": {},
     "output_type": "display_data"
    },
    {
     "name": "stdout",
     "output_type": "stream",
     "text": [
      "Sex: \n",
      " Sex\n",
      "male      577\n",
      "female    314\n",
      "Name: count, dtype: int64\n"
     ]
    },
    {
     "data": {
      "text/plain": [
       "<Figure size 900x300 with 1 Axes>"
      ],
      "image/png": "[encoded data removed]"
     },
     "metadata": {},
     "output_type": "display_data"
    },
    {
     "name": "stdout",
     "output_type": "stream",
     "text": [
      "Pclass: \n",
      " Pclass\n",
      "3    491\n",
      "1    216\n",
      "2    184\n",
      "Name: count, dtype: int64\n"
     ]
    },
    {
     "data": {
      "text/plain": [
       "<Figure size 900x300 with 1 Axes>"
      ],
      "image/png": "[encoded data removed]"
     },
     "metadata": {},
     "output_type": "display_data"
    },
    {
     "name": "stdout",
     "output_type": "stream",
     "text": [
      "Embarked: \n",
      " Embarked\n",
      "S    644\n",
      "C    168\n",
      "Q     77\n",
      "Name: count, dtype: int64\n"
     ]
    },
    {
     "data": {
      "text/plain": [
       "<Figure size 900x300 with 1 Axes>"
      ],
      "image/png": "[encoded data removed]"
     },
     "metadata": {},
     "output_type": "display_data"
    },
    {
     "name": "stdout",
     "output_type": "stream",
     "text": [
      "SibSp: \n",
      " SibSp\n",
      "0    608\n",
      "1    209\n",
      "2     28\n",
      "4     18\n",
      "3     16\n",
      "8      7\n",
      "5      5\n",
      "Name: count, dtype: int64\n"
     ]
    },
    {
     "data": {
      "text/plain": [
       "<Figure size 900x300 with 1 Axes>"
      ],
      "image/png": "[encoded data removed]"
     },
     "metadata": {},
     "output_type": "display_data"
    },
    {
     "name": "stdout",
     "output_type": "stream",
     "text": [
      "Parch: \n",
      " Parch\n",
      "0    678\n",
      "1    118\n",
      "2     80\n",
      "5      5\n",
      "3      5\n",
      "4      4\n",
      "6      1\n",
      "Name: count, dtype: int64\n"
     ]
    }
   ],
   "execution_count": 80
  },
  {
   "cell_type": "code",
   "source": "category2 = [\"Cabin\", \"Name\", \"Ticket\"]\nfor c in category2:\n    print(f\"{train_df[c].value_counts()}\\n \")",
   "metadata": {
    "trusted": true,
    "ExecuteTime": {
     "end_time": "2025-07-12T08:28:31.342094Z",
     "start_time": "2025-07-12T08:28:31.335130Z"
    }
   },
   "outputs": [
    {
     "name": "stdout",
     "output_type": "stream",
     "text": [
      "Cabin\n",
      "B96 B98        4\n",
      "G6             4\n",
      "C23 C25 C27    4\n",
      "C22 C26        3\n",
      "F33            3\n",
      "              ..\n",
      "E34            1\n",
      "C7             1\n",
      "C54            1\n",
      "E36            1\n",
      "C148           1\n",
      "Name: count, Length: 147, dtype: int64\n",
      " \n",
      "Name\n",
      "Braund, Mr. Owen Harris                     1\n",
      "Boulos, Mr. Hanna                           1\n",
      "Frolicher-Stehli, Mr. Maxmillian            1\n",
      "Gilinski, Mr. Eliezer                       1\n",
      "Murdlin, Mr. Joseph                         1\n",
      "                                           ..\n",
      "Kelly, Miss. Anna Katherine \"Annie Kate\"    1\n",
      "McCoy, Mr. Bernard                          1\n",
      "Johnson, Mr. William Cahoone Jr             1\n",
      "Keane, Miss. Nora A                         1\n",
      "Dooley, Mr. Patrick                         1\n",
      "Name: count, Length: 891, dtype: int64\n",
      " \n",
      "Ticket\n",
      "347082      7\n",
      "CA. 2343    7\n",
      "1601        7\n",
      "3101295     6\n",
      "CA 2144     6\n",
      "           ..\n",
      "9234        1\n",
      "19988       1\n",
      "2693        1\n",
      "PC 17612    1\n",
      "370376      1\n",
      "Name: count, Length: 681, dtype: int64\n",
      " \n"
     ]
    }
   ],
   "execution_count": 81
  },
  {
   "cell_type": "markdown",
   "source": "### Numerical Variable",
   "metadata": {}
  },
  {
   "cell_type": "code",
   "source": "def plot_hist(variable):\n\n    plt.figure(figsize=(9,3))\n    plt.hist(train_df[variable], bins=50)\n    plt.xlabel(variable)\n    plt.ylabel(\"Frequency\")\n    plt.title(f\"{variable} distribution with hist\")\n    plt.show()",
   "metadata": {
    "trusted": true,
    "ExecuteTime": {
     "end_time": "2025-07-12T08:28:31.410306Z",
     "start_time": "2025-07-12T08:28:31.406231Z"
    }
   },
   "outputs": [],
   "execution_count": 82
  },
  {
   "cell_type": "code",
   "source": "numericVar = [\"Fare\", \"Age\", \"PassengerId\"]\nfor n in numericVar:\n    plot_hist(n)",
   "metadata": {
    "trusted": true,
    "ExecuteTime": {
     "end_time": "2025-07-12T08:28:31.789705Z",
     "start_time": "2025-07-12T08:28:31.410306Z"
    }
   },
   "outputs": [
    {
     "data": {
      "text/plain": [
       "<Figure size 900x300 with 1 Axes>"
      ],
      "image/png": "[encoded data removed]"
     },
     "metadata": {},
     "output_type": "display_data"
    },
    {
     "data": {
      "text/plain": [
       "<Figure size 900x300 with 1 Axes>"
      ],
      "image/png": "[encoded data removed]"
     },
     "metadata": {},
     "output_type": "display_data"
    },
    {
     "data": {
      "text/plain": [
       "<Figure size 900x300 with 1 Axes>"
      ],
      "image/png": "[encoded data removed]"
     },
     "metadata": {},
     "output_type": "display_data"
    }
   ],
   "execution_count": 83
  },
  {
   "cell_type": "markdown",
   "source": "# Basic Data Analysis",
   "metadata": {}
  },
  {
   "cell_type": "code",
   "source": "# Pclass vs Survived\ntrain_df[[\"Pclass\", \"Survived\"]].groupby([\"Pclass\"], as_index=False).mean().sort_values(by=\"Survived\", ascending=False)",
   "metadata": {
    "trusted": true,
    "ExecuteTime": {
     "end_time": "2025-07-12T08:28:31.819708Z",
     "start_time": "2025-07-12T08:28:31.810970Z"
    }
   },
   "outputs": [
    {
     "data": {
      "text/plain": [
       "   Pclass  Survived\n",
       "0       1  0.629630\n",
       "1       2  0.472826\n",
       "2       3  0.242363"
      ],
      "text/html": [
       "<div>\n",
       "<style scoped>\n",
       "    .dataframe tbody tr th:only-of-type {\n",
       "        vertical-align: middle;\n",
       "    }\n",
       "\n",
       "    .dataframe tbody tr th {\n",
       "        vertical-align: top;\n",
       "    }\n",
       "\n",
       "    .dataframe thead th {\n",
       "        text-align: right;\n",
       "    }\n",
       "</style>\n",
       "<table border=\"1\" class=\"dataframe\">\n",
       "  <thead>\n",
       "    <tr style=\"text-align: right;\">\n",
       "      <th></th>\n",
       "      <th>Pclass</th>\n",
       "      <th>Survived</th>\n",
       "    </tr>\n",
       "  </thead>\n",
       "  <tbody>\n",
       "    <tr>\n",
       "      <th>0</th>\n",
       "      <td>1</td>\n",
       "      <td>0.629630</td>\n",
       "    </tr>\n",
       "    <tr>\n",
       "      <th>1</th>\n",
       "      <td>2</td>\n",
       "      <td>0.472826</td>\n",
       "    </tr>\n",
       "    <tr>\n",
       "      <th>2</th>\n",
       "      <td>3</td>\n",
       "      <td>0.242363</td>\n",
       "    </tr>\n",
       "  </tbody>\n",
       "</table>\n",
       "</div>"
      ]
     },
     "execution_count": 84,
     "metadata": {},
     "output_type": "execute_result"
    }
   ],
   "execution_count": 84
  },
  {
   "cell_type": "code",
   "source": "# Sex - Survived\ntrain_df[[\"Sex\", \"Survived\"]].groupby([\"Sex\"], as_index=False).mean().sort_values(by=\"Survived\", ascending=False)",
   "metadata": {
    "trusted": true,
    "ExecuteTime": {
     "end_time": "2025-07-12T08:28:31.981830Z",
     "start_time": "2025-07-12T08:28:31.973859Z"
    }
   },
   "outputs": [
    {
     "data": {
      "text/plain": [
       "      Sex  Survived\n",
       "0  female  0.742038\n",
       "1    male  0.188908"
      ],
      "text/html": [
       "<div>\n",
       "<style scoped>\n",
       "    .dataframe tbody tr th:only-of-type {\n",
       "        vertical-align: middle;\n",
       "    }\n",
       "\n",
       "    .dataframe tbody tr th {\n",
       "        vertical-align: top;\n",
       "    }\n",
       "\n",
       "    .dataframe thead th {\n",
       "        text-align: right;\n",
       "    }\n",
       "</style>\n",
       "<table border=\"1\" class=\"dataframe\">\n",
       "  <thead>\n",
       "    <tr style=\"text-align: right;\">\n",
       "      <th></th>\n",
       "      <th>Sex</th>\n",
       "      <th>Survived</th>\n",
       "    </tr>\n",
       "  </thead>\n",
       "  <tbody>\n",
       "    <tr>\n",
       "      <th>0</th>\n",
       "      <td>female</td>\n",
       "      <td>0.742038</td>\n",
       "    </tr>\n",
       "    <tr>\n",
       "      <th>1</th>\n",
       "      <td>male</td>\n",
       "      <td>0.188908</td>\n",
       "    </tr>\n",
       "  </tbody>\n",
       "</table>\n",
       "</div>"
      ]
     },
     "execution_count": 85,
     "metadata": {},
     "output_type": "execute_result"
    }
   ],
   "execution_count": 85
  },
  {
   "cell_type": "code",
   "source": "# SibSp vs Survived\ntrain_df[[\"SibSp\", \"Survived\"]].groupby([\"SibSp\"], as_index=False).mean().sort_values(by=\"Survived\", ascending=False)",
   "metadata": {
    "trusted": true,
    "ExecuteTime": {
     "end_time": "2025-07-12T08:28:32.085995Z",
     "start_time": "2025-07-12T08:28:32.078431Z"
    }
   },
   "outputs": [
    {
     "data": {
      "text/plain": [
       "   SibSp  Survived\n",
       "1      1  0.535885\n",
       "2      2  0.464286\n",
       "0      0  0.345395\n",
       "3      3  0.250000\n",
       "4      4  0.166667\n",
       "5      5  0.000000\n",
       "6      8  0.000000"
      ],
      "text/html": [
       "<div>\n",
       "<style scoped>\n",
       "    .dataframe tbody tr th:only-of-type {\n",
       "        vertical-align: middle;\n",
       "    }\n",
       "\n",
       "    .dataframe tbody tr th {\n",
       "        vertical-align: top;\n",
       "    }\n",
       "\n",
       "    .dataframe thead th {\n",
       "        text-align: right;\n",
       "    }\n",
       "</style>\n",
       "<table border=\"1\" class=\"dataframe\">\n",
       "  <thead>\n",
       "    <tr style=\"text-align: right;\">\n",
       "      <th></th>\n",
       "      <th>SibSp</th>\n",
       "      <th>Survived</th>\n",
       "    </tr>\n",
       "  </thead>\n",
       "  <tbody>\n",
       "    <tr>\n",
       "      <th>1</th>\n",
       "      <td>1</td>\n",
       "      <td>0.535885</td>\n",
       "    </tr>\n",
       "    <tr>\n",
       "      <th>2</th>\n",
       "      <td>2</td>\n",
       "      <td>0.464286</td>\n",
       "    </tr>\n",
       "    <tr>\n",
       "      <th>0</th>\n",
       "      <td>0</td>\n",
       "      <td>0.345395</td>\n",
       "    </tr>\n",
       "    <tr>\n",
       "      <th>3</th>\n",
       "      <td>3</td>\n",
       "      <td>0.250000</td>\n",
       "    </tr>\n",
       "    <tr>\n",
       "      <th>4</th>\n",
       "      <td>4</td>\n",
       "      <td>0.166667</td>\n",
       "    </tr>\n",
       "    <tr>\n",
       "      <th>5</th>\n",
       "      <td>5</td>\n",
       "      <td>0.000000</td>\n",
       "    </tr>\n",
       "    <tr>\n",
       "      <th>6</th>\n",
       "      <td>8</td>\n",
       "      <td>0.000000</td>\n",
       "    </tr>\n",
       "  </tbody>\n",
       "</table>\n",
       "</div>"
      ]
     },
     "execution_count": 86,
     "metadata": {},
     "output_type": "execute_result"
    }
   ],
   "execution_count": 86
  },
  {
   "cell_type": "code",
   "source": "# Parch vs Survived\ntrain_df[[\"Parch\", \"Survived\"]].groupby([\"Parch\"], as_index=False).mean().sort_values(by=\"Survived\", ascending=False)",
   "metadata": {
    "trusted": true,
    "ExecuteTime": {
     "end_time": "2025-07-12T08:28:32.192311Z",
     "start_time": "2025-07-12T08:28:32.183195Z"
    }
   },
   "outputs": [
    {
     "data": {
      "text/plain": [
       "   Parch  Survived\n",
       "3      3  0.600000\n",
       "1      1  0.550847\n",
       "2      2  0.500000\n",
       "0      0  0.343658\n",
       "5      5  0.200000\n",
       "4      4  0.000000\n",
       "6      6  0.000000"
      ],
      "text/html": [
       "<div>\n",
       "<style scoped>\n",
       "    .dataframe tbody tr th:only-of-type {\n",
       "        vertical-align: middle;\n",
       "    }\n",
       "\n",
       "    .dataframe tbody tr th {\n",
       "        vertical-align: top;\n",
       "    }\n",
       "\n",
       "    .dataframe thead th {\n",
       "        text-align: right;\n",
       "    }\n",
       "</style>\n",
       "<table border=\"1\" class=\"dataframe\">\n",
       "  <thead>\n",
       "    <tr style=\"text-align: right;\">\n",
       "      <th></th>\n",
       "      <th>Parch</th>\n",
       "      <th>Survived</th>\n",
       "    </tr>\n",
       "  </thead>\n",
       "  <tbody>\n",
       "    <tr>\n",
       "      <th>3</th>\n",
       "      <td>3</td>\n",
       "      <td>0.600000</td>\n",
       "    </tr>\n",
       "    <tr>\n",
       "      <th>1</th>\n",
       "      <td>1</td>\n",
       "      <td>0.550847</td>\n",
       "    </tr>\n",
       "    <tr>\n",
       "      <th>2</th>\n",
       "      <td>2</td>\n",
       "      <td>0.500000</td>\n",
       "    </tr>\n",
       "    <tr>\n",
       "      <th>0</th>\n",
       "      <td>0</td>\n",
       "      <td>0.343658</td>\n",
       "    </tr>\n",
       "    <tr>\n",
       "      <th>5</th>\n",
       "      <td>5</td>\n",
       "      <td>0.200000</td>\n",
       "    </tr>\n",
       "    <tr>\n",
       "      <th>4</th>\n",
       "      <td>4</td>\n",
       "      <td>0.000000</td>\n",
       "    </tr>\n",
       "    <tr>\n",
       "      <th>6</th>\n",
       "      <td>6</td>\n",
       "      <td>0.000000</td>\n",
       "    </tr>\n",
       "  </tbody>\n",
       "</table>\n",
       "</div>"
      ]
     },
     "execution_count": 87,
     "metadata": {},
     "output_type": "execute_result"
    }
   ],
   "execution_count": 87
  },
  {
   "cell_type": "markdown",
   "source": "# Outlier Detection",
   "metadata": {}
  },
  {
   "cell_type": "code",
   "source": "def detect_outliers(df, features):\n    outlier_indices = []\n\n    for c in features:\n        Q1 = np.percentile(df[c], 25)\n        Q3 = np.percentile(df[c], 75)\n\n        IQR = Q3 - Q1\n        outlier_step = IQR * 1.5\n        outlier_list_col = df[(df[c] < Q1 - outlier_step) | (df[c] > Q3 + outlier_step)].index\n        outlier_indices.extend(outlier_list_col)\n\n    outlier_indices = Counter(outlier_indices)\n    multiple_outliers = list(i for i, v in outlier_indices.items() if v > 2)\n\n    return multiple_outliers",
   "metadata": {
    "trusted": true,
    "ExecuteTime": {
     "end_time": "2025-07-12T08:28:32.355363Z",
     "start_time": "2025-07-12T08:28:32.348656Z"
    }
   },
   "outputs": [],
   "execution_count": 88
  },
  {
   "cell_type": "code",
   "source": "train_df.loc[detect_outliers(train_df, [\"Age\", \"SibSp\", \"Parch\", \"Fare\"])]",
   "metadata": {
    "trusted": true,
    "ExecuteTime": {
     "end_time": "2025-07-12T08:28:32.554042Z",
     "start_time": "2025-07-12T08:28:32.541513Z"
    }
   },
   "outputs": [
    {
     "data": {
      "text/plain": [
       "     PassengerId  Survived  Pclass                               Name     Sex  \\\n",
       "27            28         0       1     Fortune, Mr. Charles Alexander    male   \n",
       "88            89         1       1         Fortune, Miss. Mabel Helen  female   \n",
       "159          160         0       3         Sage, Master. Thomas Henry    male   \n",
       "180          181         0       3       Sage, Miss. Constance Gladys  female   \n",
       "201          202         0       3                Sage, Mr. Frederick    male   \n",
       "324          325         0       3           Sage, Mr. George John Jr    male   \n",
       "341          342         1       1     Fortune, Miss. Alice Elizabeth  female   \n",
       "792          793         0       3            Sage, Miss. Stella Anna  female   \n",
       "846          847         0       3           Sage, Mr. Douglas Bullen    male   \n",
       "863          864         0       3  Sage, Miss. Dorothy Edith \"Dolly\"  female   \n",
       "\n",
       "      Age  SibSp  Parch    Ticket    Fare        Cabin Embarked  \n",
       "27   19.0      3      2     19950  263.00  C23 C25 C27        S  \n",
       "88   23.0      3      2     19950  263.00  C23 C25 C27        S  \n",
       "159   NaN      8      2  CA. 2343   69.55          NaN        S  \n",
       "180   NaN      8      2  CA. 2343   69.55          NaN        S  \n",
       "201   NaN      8      2  CA. 2343   69.55          NaN        S  \n",
       "324   NaN      8      2  CA. 2343   69.55          NaN        S  \n",
       "341  24.0      3      2     19950  263.00  C23 C25 C27        S  \n",
       "792   NaN      8      2  CA. 2343   69.55          NaN        S  \n",
       "846   NaN      8      2  CA. 2343   69.55          NaN        S  \n",
       "863   NaN      8      2  CA. 2343   69.55          NaN        S  "
      ],
      "text/html": [
       "<div>\n",
       "<style scoped>\n",
       "    .dataframe tbody tr th:only-of-type {\n",
       "        vertical-align: middle;\n",
       "    }\n",
       "\n",
       "    .dataframe tbody tr th {\n",
       "        vertical-align: top;\n",
       "    }\n",
       "\n",
       "    .dataframe thead th {\n",
       "        text-align: right;\n",
       "    }\n",
       "</style>\n",
       "<table border=\"1\" class=\"dataframe\">\n",
       "  <thead>\n",
       "    <tr style=\"text-align: right;\">\n",
       "      <th></th>\n",
       "      <th>PassengerId</th>\n",
       "      <th>Survived</th>\n",
       "      <th>Pclass</th>\n",
       "      <th>Name</th>\n",
       "      <th>Sex</th>\n",
       "      <th>Age</th>\n",
       "      <th>SibSp</th>\n",
       "      <th>Parch</th>\n",
       "      <th>Ticket</th>\n",
       "      <th>Fare</th>\n",
       "      <th>Cabin</th>\n",
       "      <th>Embarked</th>\n",
       "    </tr>\n",
       "  </thead>\n",
       "  <tbody>\n",
       "    <tr>\n",
       "      <th>27</th>\n",
       "      <td>28</td>\n",
       "      <td>0</td>\n",
       "      <td>1</td>\n",
       "      <td>Fortune, Mr. Charles Alexander</td>\n",
       "      <td>male</td>\n",
       "      <td>19.0</td>\n",
       "      <td>3</td>\n",
       "      <td>2</td>\n",
       "      <td>19950</td>\n",
       "      <td>263.00</td>\n",
       "      <td>C23 C25 C27</td>\n",
       "      <td>S</td>\n",
       "    </tr>\n",
       "    <tr>\n",
       "      <th>88</th>\n",
       "      <td>89</td>\n",
       "      <td>1</td>\n",
       "      <td>1</td>\n",
       "      <td>Fortune, Miss. Mabel Helen</td>\n",
       "      <td>female</td>\n",
       "      <td>23.0</td>\n",
       "      <td>3</td>\n",
       "      <td>2</td>\n",
       "      <td>19950</td>\n",
       "      <td>263.00</td>\n",
       "      <td>C23 C25 C27</td>\n",
       "      <td>S</td>\n",
       "    </tr>\n",
       "    <tr>\n",
       "      <th>159</th>\n",
       "      <td>160</td>\n",
       "      <td>0</td>\n",
       "      <td>3</td>\n",
       "      <td>Sage, Master. Thomas Henry</td>\n",
       "      <td>male</td>\n",
       "      <td>NaN</td>\n",
       "      <td>8</td>\n",
       "      <td>2</td>\n",
       "      <td>CA. 2343</td>\n",
       "      <td>69.55</td>\n",
       "      <td>NaN</td>\n",
       "      <td>S</td>\n",
       "    </tr>\n",
       "    <tr>\n",
       "      <th>180</th>\n",
       "      <td>181</td>\n",
       "      <td>0</td>\n",
       "      <td>3</td>\n",
       "      <td>Sage, Miss. Constance Gladys</td>\n",
       "      <td>female</td>\n",
       "      <td>NaN</td>\n",
       "      <td>8</td>\n",
       "      <td>2</td>\n",
       "      <td>CA. 2343</td>\n",
       "      <td>69.55</td>\n",
       "      <td>NaN</td>\n",
       "      <td>S</td>\n",
       "    </tr>\n",
       "    <tr>\n",
       "      <th>201</th>\n",
       "      <td>202</td>\n",
       "      <td>0</td>\n",
       "      <td>3</td>\n",
       "      <td>Sage, Mr. Frederick</td>\n",
       "      <td>male</td>\n",
       "      <td>NaN</td>\n",
       "      <td>8</td>\n",
       "      <td>2</td>\n",
       "      <td>CA. 2343</td>\n",
       "      <td>69.55</td>\n",
       "      <td>NaN</td>\n",
       "      <td>S</td>\n",
       "    </tr>\n",
       "    <tr>\n",
       "      <th>324</th>\n",
       "      <td>325</td>\n",
       "      <td>0</td>\n",
       "      <td>3</td>\n",
       "      <td>Sage, Mr. George John Jr</td>\n",
       "      <td>male</td>\n",
       "      <td>NaN</td>\n",
       "      <td>8</td>\n",
       "      <td>2</td>\n",
       "      <td>CA. 2343</td>\n",
       "      <td>69.55</td>\n",
       "      <td>NaN</td>\n",
       "      <td>S</td>\n",
       "    </tr>\n",
       "    <tr>\n",
       "      <th>341</th>\n",
       "      <td>342</td>\n",
       "      <td>1</td>\n",
       "      <td>1</td>\n",
       "      <td>Fortune, Miss. Alice Elizabeth</td>\n",
       "      <td>female</td>\n",
       "      <td>24.0</td>\n",
       "      <td>3</td>\n",
       "      <td>2</td>\n",
       "      <td>19950</td>\n",
       "      <td>263.00</td>\n",
       "      <td>C23 C25 C27</td>\n",
       "      <td>S</td>\n",
       "    </tr>\n",
       "    <tr>\n",
       "      <th>792</th>\n",
       "      <td>793</td>\n",
       "      <td>0</td>\n",
       "      <td>3</td>\n",
       "      <td>Sage, Miss. Stella Anna</td>\n",
       "      <td>female</td>\n",
       "      <td>NaN</td>\n",
       "      <td>8</td>\n",
       "      <td>2</td>\n",
       "      <td>CA. 2343</td>\n",
       "      <td>69.55</td>\n",
       "      <td>NaN</td>\n",
       "      <td>S</td>\n",
       "    </tr>\n",
       "    <tr>\n",
       "      <th>846</th>\n",
       "      <td>847</td>\n",
       "      <td>0</td>\n",
       "      <td>3</td>\n",
       "      <td>Sage, Mr. Douglas Bullen</td>\n",
       "      <td>male</td>\n",
       "      <td>NaN</td>\n",
       "      <td>8</td>\n",
       "      <td>2</td>\n",
       "      <td>CA. 2343</td>\n",
       "      <td>69.55</td>\n",
       "      <td>NaN</td>\n",
       "      <td>S</td>\n",
       "    </tr>\n",
       "    <tr>\n",
       "      <th>863</th>\n",
       "      <td>864</td>\n",
       "      <td>0</td>\n",
       "      <td>3</td>\n",
       "      <td>Sage, Miss. Dorothy Edith \"Dolly\"</td>\n",
       "      <td>female</td>\n",
       "      <td>NaN</td>\n",
       "      <td>8</td>\n",
       "      <td>2</td>\n",
       "      <td>CA. 2343</td>\n",
       "      <td>69.55</td>\n",
       "      <td>NaN</td>\n",
       "      <td>S</td>\n",
       "    </tr>\n",
       "  </tbody>\n",
       "</table>\n",
       "</div>"
      ]
     },
     "execution_count": 89,
     "metadata": {},
     "output_type": "execute_result"
    }
   ],
   "execution_count": 89
  },
  {
   "cell_type": "code",
   "source": "# Drop Outliers\ntrain_df = train_df.drop(detect_outliers(train_df, [\"Age\", \"SibSp\", \"Parch\", \"Fare\"]), axis=0).reset_index(drop=True)",
   "metadata": {
    "trusted": true,
    "ExecuteTime": {
     "end_time": "2025-07-12T08:28:32.684301Z",
     "start_time": "2025-07-12T08:28:32.677134Z"
    }
   },
   "outputs": [],
   "execution_count": 90
  },
  {
   "cell_type": "markdown",
   "source": "# Missing Value",
   "metadata": {}
  },
  {
   "cell_type": "code",
   "source": "train_df_len = len(train_df)",
   "metadata": {
    "trusted": true,
    "ExecuteTime": {
     "end_time": "2025-07-12T08:28:32.772904Z",
     "start_time": "2025-07-12T08:28:32.768434Z"
    }
   },
   "outputs": [],
   "execution_count": 91
  },
  {
   "cell_type": "markdown",
   "source": "## Find Missing Values",
   "metadata": {}
  },
  {
   "cell_type": "code",
   "source": "train_df.columns[train_df.isnull().any()]",
   "metadata": {
    "trusted": true,
    "ExecuteTime": {
     "end_time": "2025-07-12T08:28:32.886277Z",
     "start_time": "2025-07-12T08:28:32.878603Z"
    }
   },
   "outputs": [
    {
     "data": {
      "text/plain": [
       "Index(['Age', 'Cabin', 'Embarked'], dtype='object')"
      ]
     },
     "execution_count": 92,
     "metadata": {},
     "output_type": "execute_result"
    }
   ],
   "execution_count": 92
  },
  {
   "cell_type": "code",
   "source": "train_df.isnull().sum()",
   "metadata": {
    "trusted": true,
    "ExecuteTime": {
     "end_time": "2025-07-12T08:28:32.966938Z",
     "start_time": "2025-07-12T08:28:32.961449Z"
    }
   },
   "outputs": [
    {
     "data": {
      "text/plain": [
       "PassengerId      0\n",
       "Survived         0\n",
       "Pclass           0\n",
       "Name             0\n",
       "Sex              0\n",
       "Age            170\n",
       "SibSp            0\n",
       "Parch            0\n",
       "Ticket           0\n",
       "Fare             0\n",
       "Cabin          680\n",
       "Embarked         2\n",
       "dtype: int64"
      ]
     },
     "execution_count": 93,
     "metadata": {},
     "output_type": "execute_result"
    }
   ],
   "execution_count": 93
  },
  {
   "cell_type": "markdown",
   "source": "## Fill Missing Values\n- Embarked has 2 missing value",
   "metadata": {}
  },
  {
   "cell_type": "code",
   "source": "train_df[train_df[\"Embarked\"].isnull()]",
   "metadata": {
    "trusted": true,
    "ExecuteTime": {
     "end_time": "2025-07-12T08:28:33.018553Z",
     "start_time": "2025-07-12T08:28:33.008593Z"
    }
   },
   "outputs": [
    {
     "data": {
      "text/plain": [
       "     PassengerId  Survived  Pclass                                       Name  \\\n",
       "60            62         1       1                        Icard, Miss. Amelie   \n",
       "821          830         1       1  Stone, Mrs. George Nelson (Martha Evelyn)   \n",
       "\n",
       "        Sex   Age  SibSp  Parch  Ticket  Fare Cabin Embarked  \n",
       "60   female  38.0      0      0  113572  80.0   B28      NaN  \n",
       "821  female  62.0      0      0  113572  80.0   B28      NaN  "
      ],
      "text/html": [
       "<div>\n",
       "<style scoped>\n",
       "    .dataframe tbody tr th:only-of-type {\n",
       "        vertical-align: middle;\n",
       "    }\n",
       "\n",
       "    .dataframe tbody tr th {\n",
       "        vertical-align: top;\n",
       "    }\n",
       "\n",
       "    .dataframe thead th {\n",
       "        text-align: right;\n",
       "    }\n",
       "</style>\n",
       "<table border=\"1\" class=\"dataframe\">\n",
       "  <thead>\n",
       "    <tr style=\"text-align: right;\">\n",
       "      <th></th>\n",
       "      <th>PassengerId</th>\n",
       "      <th>Survived</th>\n",
       "      <th>Pclass</th>\n",
       "      <th>Name</th>\n",
       "      <th>Sex</th>\n",
       "      <th>Age</th>\n",
       "      <th>SibSp</th>\n",
       "      <th>Parch</th>\n",
       "      <th>Ticket</th>\n",
       "      <th>Fare</th>\n",
       "      <th>Cabin</th>\n",
       "      <th>Embarked</th>\n",
       "    </tr>\n",
       "  </thead>\n",
       "  <tbody>\n",
       "    <tr>\n",
       "      <th>60</th>\n",
       "      <td>62</td>\n",
       "      <td>1</td>\n",
       "      <td>1</td>\n",
       "      <td>Icard, Miss. Amelie</td>\n",
       "      <td>female</td>\n",
       "      <td>38.0</td>\n",
       "      <td>0</td>\n",
       "      <td>0</td>\n",
       "      <td>113572</td>\n",
       "      <td>80.0</td>\n",
       "      <td>B28</td>\n",
       "      <td>NaN</td>\n",
       "    </tr>\n",
       "    <tr>\n",
       "      <th>821</th>\n",
       "      <td>830</td>\n",
       "      <td>1</td>\n",
       "      <td>1</td>\n",
       "      <td>Stone, Mrs. George Nelson (Martha Evelyn)</td>\n",
       "      <td>female</td>\n",
       "      <td>62.0</td>\n",
       "      <td>0</td>\n",
       "      <td>0</td>\n",
       "      <td>113572</td>\n",
       "      <td>80.0</td>\n",
       "      <td>B28</td>\n",
       "      <td>NaN</td>\n",
       "    </tr>\n",
       "  </tbody>\n",
       "</table>\n",
       "</div>"
      ]
     },
     "execution_count": 94,
     "metadata": {},
     "output_type": "execute_result"
    }
   ],
   "execution_count": 94
  },
  {
   "cell_type": "code",
   "source": "train_df.boxplot(column=\"Fare\", by=\"Embarked\")\nplt.show()",
   "metadata": {
    "trusted": true,
    "ExecuteTime": {
     "end_time": "2025-07-12T08:28:33.176253Z",
     "start_time": "2025-07-12T08:28:33.088424Z"
    }
   },
   "outputs": [
    {
     "data": {
      "text/plain": [
       "<Figure size 640x480 with 1 Axes>"
      ],
      "image/png": "[encoded data removed]"
     },
     "metadata": {},
     "output_type": "display_data"
    }
   ],
   "execution_count": 95
  },
  {
   "cell_type": "code",
   "source": "train_df[\"Embarked\"] = train_df[\"Embarked\"].fillna(\"C\")\ntrain_df[train_df[\"Embarked\"].isnull()]",
   "metadata": {
    "trusted": true,
    "ExecuteTime": {
     "end_time": "2025-07-12T08:28:33.276456Z",
     "start_time": "2025-07-12T08:28:33.268454Z"
    }
   },
   "outputs": [
    {
     "data": {
      "text/plain": [
       "Empty DataFrame\n",
       "Columns: [PassengerId, Survived, Pclass, Name, Sex, Age, SibSp, Parch, Ticket, Fare, Cabin, Embarked]\n",
       "Index: []"
      ],
      "text/html": [
       "<div>\n",
       "<style scoped>\n",
       "    .dataframe tbody tr th:only-of-type {\n",
       "        vertical-align: middle;\n",
       "    }\n",
       "\n",
       "    .dataframe tbody tr th {\n",
       "        vertical-align: top;\n",
       "    }\n",
       "\n",
       "    .dataframe thead th {\n",
       "        text-align: right;\n",
       "    }\n",
       "</style>\n",
       "<table border=\"1\" class=\"dataframe\">\n",
       "  <thead>\n",
       "    <tr style=\"text-align: right;\">\n",
       "      <th></th>\n",
       "      <th>PassengerId</th>\n",
       "      <th>Survived</th>\n",
       "      <th>Pclass</th>\n",
       "      <th>Name</th>\n",
       "      <th>Sex</th>\n",
       "      <th>Age</th>\n",
       "      <th>SibSp</th>\n",
       "      <th>Parch</th>\n",
       "      <th>Ticket</th>\n",
       "      <th>Fare</th>\n",
       "      <th>Cabin</th>\n",
       "      <th>Embarked</th>\n",
       "    </tr>\n",
       "  </thead>\n",
       "  <tbody>\n",
       "  </tbody>\n",
       "</table>\n",
       "</div>"
      ]
     },
     "execution_count": 96,
     "metadata": {},
     "output_type": "execute_result"
    }
   ],
   "execution_count": 96
  },
  {
   "cell_type": "markdown",
   "source": "# Visualization\n\nFeaturelar arasındaki korelasyonu inceleme...",
   "metadata": {}
  },
  {
   "cell_type": "markdown",
   "source": "### Correlation Between SibSp - Parch - Age - Fare - Survived",
   "metadata": {}
  },
  {
   "cell_type": "code",
   "source": "list1 = [\"SibSp\", \"Parch\", \"Age\", \"Fare\", \"Survived\"]\nsns.heatmap(train_df[list1].corr(), annot=True, fmt=\".2f\")\nplt.show()",
   "metadata": {
    "trusted": true,
    "ExecuteTime": {
     "end_time": "2025-07-12T08:28:33.487489Z",
     "start_time": "2025-07-12T08:28:33.341647Z"
    }
   },
   "outputs": [
    {
     "data": {
      "text/plain": [
       "<Figure size 640x480 with 2 Axes>"
      ],
      "image/png": "[encoded data removed]"
     },
     "metadata": {},
     "output_type": "display_data"
    }
   ],
   "execution_count": 97
  },
  {
   "cell_type": "markdown",
   "source": "## Sibsp -- Survived",
   "metadata": {}
  },
  {
   "cell_type": "code",
   "source": "g = sns.catplot(x= \"SibSp\", y = \"Survived\", data= train_df, kind=\"bar\")\ng.set_ylabels(\"Survived Probability\")\nplt.show()",
   "metadata": {
    "trusted": true,
    "ExecuteTime": {
     "end_time": "2025-07-12T08:28:33.789187Z",
     "start_time": "2025-07-12T08:28:33.526004Z"
    }
   },
   "outputs": [
    {
     "data": {
      "text/plain": [
       "<Figure size 511.111x500 with 1 Axes>"
      ],
      "image/png": "[encoded data removed]"
     },
     "metadata": {},
     "output_type": "display_data"
    }
   ],
   "execution_count": 98
  },
  {
   "cell_type": "markdown",
   "source": "## PClass -- Survived",
   "metadata": {}
  },
  {
   "cell_type": "code",
   "source": "g = sns.catplot(x=\"Pclass\", y=\"Survived\", data=train_df, kind=\"bar\")\ng.set_ylabels(\"Survived Probability\")\nplt.show()",
   "metadata": {
    "trusted": true,
    "ExecuteTime": {
     "end_time": "2025-07-12T08:28:34.013286Z",
     "start_time": "2025-07-12T08:28:33.808155Z"
    }
   },
   "outputs": [
    {
     "data": {
      "text/plain": [
       "<Figure size 511.111x500 with 1 Axes>"
      ],
      "image/png": "[encoded data removed]"
     },
     "metadata": {},
     "output_type": "display_data"
    }
   ],
   "execution_count": 99
  },
  {
   "cell_type": "markdown",
   "source": "## Age -- Survived",
   "metadata": {}
  },
  {
   "cell_type": "code",
   "source": "g = sns.FacetGrid(train_df, col=\"Survived\")\ng.map(sns.distplot, \"Age\", bins=25)\nplt.show()",
   "metadata": {
    "trusted": true,
    "ExecuteTime": {
     "end_time": "2025-07-12T08:28:34.352083Z",
     "start_time": "2025-07-12T08:28:34.032653Z"
    }
   },
   "outputs": [
    {
     "data": {
      "text/plain": [
       "<Figure size 600x300 with 2 Axes>"
      ],
      "image/png": "[encoded data removed]"
     },
     "metadata": {},
     "output_type": "display_data"
    }
   ],
   "execution_count": 100
  },
  {
   "cell_type": "markdown",
   "source": "## Pclass -- Survived -- Age",
   "metadata": {}
  },
  {
   "cell_type": "code",
   "source": "g = sns.FacetGrid(train_df, col=\"Survived\", row=\"Pclass\", hue=\"Sex\")\ng.map(plt.hist, \"Age\", bins=25)\ng.add_legend()\nplt.show()",
   "metadata": {
    "trusted": true,
    "ExecuteTime": {
     "end_time": "2025-07-12T08:28:35.561614Z",
     "start_time": "2025-07-12T08:28:34.369236Z"
    }
   },
   "outputs": [
    {
     "data": {
      "text/plain": [
       "<Figure size 691.875x900 with 6 Axes>"
      ],
      "image/png": "[encoded data removed]"
     },
     "metadata": {},
     "output_type": "display_data"
    }
   ],
   "execution_count": 101
  },
  {
   "cell_type": "markdown",
   "source": "## Embarked -- Sex -- Fare -- Survived",
   "metadata": {}
  },
  {
   "cell_type": "code",
   "source": "g = sns.FacetGrid(train_df, row=\"Embarked\", col=\"Survived\")\ng.map(sns.barplot, \"Sex\", \"Fare\")\nplt.show()",
   "metadata": {
    "trusted": true,
    "ExecuteTime": {
     "end_time": "2025-07-12T08:28:36.438739Z",
     "start_time": "2025-07-12T08:28:35.580375Z"
    }
   },
   "outputs": [
    {
     "data": {
      "text/plain": [
       "<Figure size 600x900 with 6 Axes>"
      ],
      "image/png": "[encoded data removed]"
     },
     "metadata": {},
     "output_type": "display_data"
    }
   ],
   "execution_count": 102
  },
  {
   "cell_type": "markdown",
   "source": "## Fill Missing, Age Feature: ",
   "metadata": {}
  },
  {
   "cell_type": "code",
   "source": "train_df[train_df[\"Age\"].isnull()]",
   "metadata": {
    "trusted": true,
    "ExecuteTime": {
     "end_time": "2025-07-12T08:28:36.469380Z",
     "start_time": "2025-07-12T08:28:36.458605Z"
    }
   },
   "outputs": [
    {
     "data": {
      "text/plain": [
       "     PassengerId  Survived  Pclass  \\\n",
       "5              6         0       3   \n",
       "17            18         1       2   \n",
       "19            20         1       3   \n",
       "26            27         0       3   \n",
       "27            29         1       3   \n",
       "..           ...       ...     ...   \n",
       "840          850         1       1   \n",
       "850          860         0       3   \n",
       "858          869         0       3   \n",
       "868          879         0       3   \n",
       "878          889         0       3   \n",
       "\n",
       "                                             Name     Sex  Age  SibSp  Parch  \\\n",
       "5                                Moran, Mr. James    male  NaN      0      0   \n",
       "17                   Williams, Mr. Charles Eugene    male  NaN      0      0   \n",
       "19                        Masselmani, Mrs. Fatima  female  NaN      0      0   \n",
       "26                        Emir, Mr. Farred Chehab    male  NaN      0      0   \n",
       "27                  O'Dwyer, Miss. Ellen \"Nellie\"  female  NaN      0      0   \n",
       "..                                            ...     ...  ...    ...    ...   \n",
       "840  Goldenberg, Mrs. Samuel L (Edwiga Grabowska)  female  NaN      1      0   \n",
       "850                              Razi, Mr. Raihed    male  NaN      0      0   \n",
       "858                   van Melkebeke, Mr. Philemon    male  NaN      0      0   \n",
       "868                            Laleff, Mr. Kristo    male  NaN      0      0   \n",
       "878      Johnston, Miss. Catherine Helen \"Carrie\"  female  NaN      1      2   \n",
       "\n",
       "         Ticket     Fare Cabin Embarked  \n",
       "5        330877   8.4583   NaN        Q  \n",
       "17       244373  13.0000   NaN        S  \n",
       "19         2649   7.2250   NaN        C  \n",
       "26         2631   7.2250   NaN        C  \n",
       "27       330959   7.8792   NaN        Q  \n",
       "..          ...      ...   ...      ...  \n",
       "840       17453  89.1042   C92        C  \n",
       "850        2629   7.2292   NaN        C  \n",
       "858      345777   9.5000   NaN        S  \n",
       "868      349217   7.8958   NaN        S  \n",
       "878  W./C. 6607  23.4500   NaN        S  \n",
       "\n",
       "[170 rows x 12 columns]"
      ],
      "text/html": [
       "<div>\n",
       "<style scoped>\n",
       "    .dataframe tbody tr th:only-of-type {\n",
       "        vertical-align: middle;\n",
       "    }\n",
       "\n",
       "    .dataframe tbody tr th {\n",
       "        vertical-align: top;\n",
       "    }\n",
       "\n",
       "    .dataframe thead th {\n",
       "        text-align: right;\n",
       "    }\n",
       "</style>\n",
       "<table border=\"1\" class=\"dataframe\">\n",
       "  <thead>\n",
       "    <tr style=\"text-align: right;\">\n",
       "      <th></th>\n",
       "      <th>PassengerId</th>\n",
       "      <th>Survived</th>\n",
       "      <th>Pclass</th>\n",
       "      <th>Name</th>\n",
       "      <th>Sex</th>\n",
       "      <th>Age</th>\n",
       "      <th>SibSp</th>\n",
       "      <th>Parch</th>\n",
       "      <th>Ticket</th>\n",
       "      <th>Fare</th>\n",
       "      <th>Cabin</th>\n",
       "      <th>Embarked</th>\n",
       "    </tr>\n",
       "  </thead>\n",
       "  <tbody>\n",
       "    <tr>\n",
       "      <th>5</th>\n",
       "      <td>6</td>\n",
       "      <td>0</td>\n",
       "      <td>3</td>\n",
       "      <td>Moran, Mr. James</td>\n",
       "      <td>male</td>\n",
       "      <td>NaN</td>\n",
       "      <td>0</td>\n",
       "      <td>0</td>\n",
       "      <td>330877</td>\n",
       "      <td>8.4583</td>\n",
       "      <td>NaN</td>\n",
       "      <td>Q</td>\n",
       "    </tr>\n",
       "    <tr>\n",
       "      <th>17</th>\n",
       "      <td>18</td>\n",
       "      <td>1</td>\n",
       "      <td>2</td>\n",
       "      <td>Williams, Mr. Charles Eugene</td>\n",
       "      <td>male</td>\n",
       "      <td>NaN</td>\n",
       "      <td>0</td>\n",
       "      <td>0</td>\n",
       "      <td>244373</td>\n",
       "      <td>13.0000</td>\n",
       "      <td>NaN</td>\n",
       "      <td>S</td>\n",
       "    </tr>\n",
       "    <tr>\n",
       "      <th>19</th>\n",
       "      <td>20</td>\n",
       "      <td>1</td>\n",
       "      <td>3</td>\n",
       "      <td>Masselmani, Mrs. Fatima</td>\n",
       "      <td>female</td>\n",
       "      <td>NaN</td>\n",
       "      <td>0</td>\n",
       "      <td>0</td>\n",
       "      <td>2649</td>\n",
       "      <td>7.2250</td>\n",
       "      <td>NaN</td>\n",
       "      <td>C</td>\n",
       "    </tr>\n",
       "    <tr>\n",
       "      <th>26</th>\n",
       "      <td>27</td>\n",
       "      <td>0</td>\n",
       "      <td>3</td>\n",
       "      <td>Emir, Mr. Farred Chehab</td>\n",
       "      <td>male</td>\n",
       "      <td>NaN</td>\n",
       "      <td>0</td>\n",
       "      <td>0</td>\n",
       "      <td>2631</td>\n",
       "      <td>7.2250</td>\n",
       "      <td>NaN</td>\n",
       "      <td>C</td>\n",
       "    </tr>\n",
       "    <tr>\n",
       "      <th>27</th>\n",
       "      <td>29</td>\n",
       "      <td>1</td>\n",
       "      <td>3</td>\n",
       "      <td>O'Dwyer, Miss. Ellen \"Nellie\"</td>\n",
       "      <td>female</td>\n",
       "      <td>NaN</td>\n",
       "      <td>0</td>\n",
       "      <td>0</td>\n",
       "      <td>330959</td>\n",
       "      <td>7.8792</td>\n",
       "      <td>NaN</td>\n",
       "      <td>Q</td>\n",
       "    </tr>\n",
       "    <tr>\n",
       "      <th>...</th>\n",
       "      <td>...</td>\n",
       "      <td>...</td>\n",
       "      <td>...</td>\n",
       "      <td>...</td>\n",
       "      <td>...</td>\n",
       "      <td>...</td>\n",
       "      <td>...</td>\n",
       "      <td>...</td>\n",
       "      <td>...</td>\n",
       "      <td>...</td>\n",
       "      <td>...</td>\n",
       "      <td>...</td>\n",
       "    </tr>\n",
       "    <tr>\n",
       "      <th>840</th>\n",
       "      <td>850</td>\n",
       "      <td>1</td>\n",
       "      <td>1</td>\n",
       "      <td>Goldenberg, Mrs. Samuel L (Edwiga Grabowska)</td>\n",
       "      <td>female</td>\n",
       "      <td>NaN</td>\n",
       "      <td>1</td>\n",
       "      <td>0</td>\n",
       "      <td>17453</td>\n",
       "      <td>89.1042</td>\n",
       "      <td>C92</td>\n",
       "      <td>C</td>\n",
       "    </tr>\n",
       "    <tr>\n",
       "      <th>850</th>\n",
       "      <td>860</td>\n",
       "      <td>0</td>\n",
       "      <td>3</td>\n",
       "      <td>Razi, Mr. Raihed</td>\n",
       "      <td>male</td>\n",
       "      <td>NaN</td>\n",
       "      <td>0</td>\n",
       "      <td>0</td>\n",
       "      <td>2629</td>\n",
       "      <td>7.2292</td>\n",
       "      <td>NaN</td>\n",
       "      <td>C</td>\n",
       "    </tr>\n",
       "    <tr>\n",
       "      <th>858</th>\n",
       "      <td>869</td>\n",
       "      <td>0</td>\n",
       "      <td>3</td>\n",
       "      <td>van Melkebeke, Mr. Philemon</td>\n",
       "      <td>male</td>\n",
       "      <td>NaN</td>\n",
       "      <td>0</td>\n",
       "      <td>0</td>\n",
       "      <td>345777</td>\n",
       "      <td>9.5000</td>\n",
       "      <td>NaN</td>\n",
       "      <td>S</td>\n",
       "    </tr>\n",
       "    <tr>\n",
       "      <th>868</th>\n",
       "      <td>879</td>\n",
       "      <td>0</td>\n",
       "      <td>3</td>\n",
       "      <td>Laleff, Mr. Kristo</td>\n",
       "      <td>male</td>\n",
       "      <td>NaN</td>\n",
       "      <td>0</td>\n",
       "      <td>0</td>\n",
       "      <td>349217</td>\n",
       "      <td>7.8958</td>\n",
       "      <td>NaN</td>\n",
       "      <td>S</td>\n",
       "    </tr>\n",
       "    <tr>\n",
       "      <th>878</th>\n",
       "      <td>889</td>\n",
       "      <td>0</td>\n",
       "      <td>3</td>\n",
       "      <td>Johnston, Miss. Catherine Helen \"Carrie\"</td>\n",
       "      <td>female</td>\n",
       "      <td>NaN</td>\n",
       "      <td>1</td>\n",
       "      <td>2</td>\n",
       "      <td>W./C. 6607</td>\n",
       "      <td>23.4500</td>\n",
       "      <td>NaN</td>\n",
       "      <td>S</td>\n",
       "    </tr>\n",
       "  </tbody>\n",
       "</table>\n",
       "<p>170 rows × 12 columns</p>\n",
       "</div>"
      ]
     },
     "execution_count": 103,
     "metadata": {},
     "output_type": "execute_result"
    }
   ],
   "execution_count": 103
  },
  {
   "cell_type": "code",
   "source": "sns.catplot(x=\"Sex\", y=\"Age\",data=train_df, kind=\"box\")\nplt.show()",
   "metadata": {
    "trusted": true,
    "ExecuteTime": {
     "end_time": "2025-07-12T08:28:36.682507Z",
     "start_time": "2025-07-12T08:28:36.514300Z"
    }
   },
   "outputs": [
    {
     "data": {
      "text/plain": [
       "<Figure size 511.111x500 with 1 Axes>"
      ],
      "image/png": "[encoded data removed]"
     },
     "metadata": {},
     "output_type": "display_data"
    }
   ],
   "execution_count": 104
  },
  {
   "cell_type": "code",
   "source": "sns.catplot(x=\"Sex\", y= \"Age\", hue=\"Pclass\", data=train_df, kind=\"box\")\nplt.show()",
   "metadata": {
    "trusted": true,
    "ExecuteTime": {
     "end_time": "2025-07-12T08:28:36.933995Z",
     "start_time": "2025-07-12T08:28:36.711583Z"
    }
   },
   "outputs": [
    {
     "data": {
      "text/plain": [
       "<Figure size 557.75x500 with 1 Axes>"
      ],
      "image/png": "[encoded data removed]"
     },
     "metadata": {},
     "output_type": "display_data"
    }
   ],
   "execution_count": 105
  },
  {
   "cell_type": "code",
   "source": [
    "index_nan_age = list(train_df[\"Age\"][train_df[\"Age\"].isnull()].index)\n",
    "for i in index_nan_age:\n",
    "    # Yaşı kayıp olan kişi ile SibSp Parch ve Pclass değerleri aynı olan kişileri getir ve medyan değerini al.\n",
    "    age_pred = train_df[\"Age\"][((train_df[\"SibSp\"] == train_df.iloc[i][\"SibSp\"]) & \n",
    "                                (train_df[\"Parch\"] == train_df.iloc[i][\"Parch\"]) & \n",
    "                                (train_df[\"Pclass\"] == train_df.iloc[i][\"Pclass\"]))].median()\n",
    "    age_median = train_df[\"Age\"].median()\n",
    "    if not np.isnan(age_pred):\n",
    "        train_df[\"Age\"].iloc[i] = age_pred\n",
    "    else:\n",
    "        train_df[\"Age\"].iloc[i] = age_median"
   ],
   "metadata": {
    "trusted": true,
    "ExecuteTime": {
     "end_time": "2025-07-12T08:28:37.069447Z",
     "start_time": "2025-07-12T08:28:36.958473Z"
    }
   },
   "outputs": [],
   "execution_count": 106
  },
  {
   "cell_type": "code",
   "source": "train_df[train_df[\"Age\"].isnull()]",
   "metadata": {
    "trusted": true,
    "ExecuteTime": {
     "end_time": "2025-07-12T08:28:37.084618Z",
     "start_time": "2025-07-12T08:28:37.077586Z"
    }
   },
   "outputs": [
    {
     "data": {
      "text/plain": [
       "Empty DataFrame\n",
       "Columns: [PassengerId, Survived, Pclass, Name, Sex, Age, SibSp, Parch, Ticket, Fare, Cabin, Embarked]\n",
       "Index: []"
      ],
      "text/html": [
       "<div>\n",
       "<style scoped>\n",
       "    .dataframe tbody tr th:only-of-type {\n",
       "        vertical-align: middle;\n",
       "    }\n",
       "\n",
       "    .dataframe tbody tr th {\n",
       "        vertical-align: top;\n",
       "    }\n",
       "\n",
       "    .dataframe thead th {\n",
       "        text-align: right;\n",
       "    }\n",
       "</style>\n",
       "<table border=\"1\" class=\"dataframe\">\n",
       "  <thead>\n",
       "    <tr style=\"text-align: right;\">\n",
       "      <th></th>\n",
       "      <th>PassengerId</th>\n",
       "      <th>Survived</th>\n",
       "      <th>Pclass</th>\n",
       "      <th>Name</th>\n",
       "      <th>Sex</th>\n",
       "      <th>Age</th>\n",
       "      <th>SibSp</th>\n",
       "      <th>Parch</th>\n",
       "      <th>Ticket</th>\n",
       "      <th>Fare</th>\n",
       "      <th>Cabin</th>\n",
       "      <th>Embarked</th>\n",
       "    </tr>\n",
       "  </thead>\n",
       "  <tbody>\n",
       "  </tbody>\n",
       "</table>\n",
       "</div>"
      ]
     },
     "execution_count": 107,
     "metadata": {},
     "output_type": "execute_result"
    }
   ],
   "execution_count": 107
  },
  {
   "cell_type": "markdown",
   "source": "# Feature Engineering",
   "metadata": {}
  },
  {
   "cell_type": "markdown",
   "source": "### Name -- Title",
   "metadata": {}
  },
  {
   "cell_type": "code",
   "source": "# Name'lere bakarak yeni bir feature çıkarımı yapabilir miyiz onu gözlemliyoruz. Mesela burada ünvanlara göre bir feature extraction yapabiliriz.\ntrain_df[\"Name\"].head(10)",
   "metadata": {
    "trusted": true,
    "ExecuteTime": {
     "end_time": "2025-07-12T08:28:37.133448Z",
     "start_time": "2025-07-12T08:28:37.129438Z"
    }
   },
   "outputs": [
    {
     "data": {
      "text/plain": [
       "0                              Braund, Mr. Owen Harris\n",
       "1    Cumings, Mrs. John Bradley (Florence Briggs Th...\n",
       "2                               Heikkinen, Miss. Laina\n",
       "3         Futrelle, Mrs. Jacques Heath (Lily May Peel)\n",
       "4                             Allen, Mr. William Henry\n",
       "5                                     Moran, Mr. James\n",
       "6                              McCarthy, Mr. Timothy J\n",
       "7                       Palsson, Master. Gosta Leonard\n",
       "8    Johnson, Mrs. Oscar W (Elisabeth Vilhelmina Berg)\n",
       "9                  Nasser, Mrs. Nicholas (Adele Achem)\n",
       "Name: Name, dtype: object"
      ]
     },
     "execution_count": 108,
     "metadata": {},
     "output_type": "execute_result"
    }
   ],
   "execution_count": 108
  },
  {
   "cell_type": "code",
   "source": "name = train_df[\"Name\"]\ntrain_df[\"Title\"] = [i.split(\".\")[0].split(\",\")[-1].strip() for i in name]\ntrain_df[\"Title\"].head(10)",
   "metadata": {
    "trusted": true,
    "ExecuteTime": {
     "end_time": "2025-07-12T08:28:37.179370Z",
     "start_time": "2025-07-12T08:28:37.171903Z"
    }
   },
   "outputs": [
    {
     "data": {
      "text/plain": [
       "0        Mr\n",
       "1       Mrs\n",
       "2      Miss\n",
       "3       Mrs\n",
       "4        Mr\n",
       "5        Mr\n",
       "6        Mr\n",
       "7    Master\n",
       "8       Mrs\n",
       "9       Mrs\n",
       "Name: Title, dtype: object"
      ]
     },
     "execution_count": 109,
     "metadata": {},
     "output_type": "execute_result"
    }
   ],
   "execution_count": 109
  },
  {
   "cell_type": "code",
   "source": "sns.countplot(x=\"Title\", data=train_df)\nplt.xticks(rotation=60)\nplt.show()",
   "metadata": {
    "trusted": true,
    "ExecuteTime": {
     "end_time": "2025-07-12T08:28:37.420545Z",
     "start_time": "2025-07-12T08:28:37.278156Z"
    }
   },
   "outputs": [
    {
     "data": {
      "text/plain": [
       "<Figure size 640x480 with 1 Axes>"
      ],
      "image/png": "[encoded data removed]"
     },
     "metadata": {},
     "output_type": "display_data"
    }
   ],
   "execution_count": 110
  },
  {
   "cell_type": "code",
   "source": "# Convert Categorical\ntrain_df[\"Title\"] = train_df[\"Title\"].replace([\"Lady\", \"the Countess\", \"Jonkheer\", \"Capt\", \"Col\", \"Sir\", \"Lady\", \"Major\", \"Mme\", \"Dr\", \"Rev\", \"Don\"], \"other\") # Kaldırılabilir...\ntrain_df[\"Title\"] = [0 if i == \"Master\" else 1 if i == \"Miss\" or i == \"Ms\" or i == \"Mlle\" or i == \"Mrs\" else 2 if i == \"Mr\" else 3 for i in train_df[\"Title\"]]\ntrain_df[\"Title\"].head(20)",
   "metadata": {
    "trusted": true,
    "ExecuteTime": {
     "end_time": "2025-07-12T08:28:37.475399Z",
     "start_time": "2025-07-12T08:28:37.466871Z"
    }
   },
   "outputs": [
    {
     "data": {
      "text/plain": [
       "0     2\n",
       "1     1\n",
       "2     1\n",
       "3     1\n",
       "4     2\n",
       "5     2\n",
       "6     2\n",
       "7     0\n",
       "8     1\n",
       "9     1\n",
       "10    1\n",
       "11    1\n",
       "12    2\n",
       "13    2\n",
       "14    1\n",
       "15    1\n",
       "16    0\n",
       "17    2\n",
       "18    1\n",
       "19    1\n",
       "Name: Title, dtype: int64"
      ]
     },
     "execution_count": 111,
     "metadata": {},
     "output_type": "execute_result"
    }
   ],
   "execution_count": 111
  },
  {
   "cell_type": "code",
   "source": "g = sns.countplot(x=\"Title\", data=train_df)\nplt.xticks(rotation=60)\nplt.show()",
   "metadata": {
    "trusted": true,
    "ExecuteTime": {
     "end_time": "2025-07-12T08:28:37.615971Z",
     "start_time": "2025-07-12T08:28:37.531234Z"
    }
   },
   "outputs": [
    {
     "data": {
      "text/plain": [
       "<Figure size 640x480 with 1 Axes>"
      ],
      "image/png": "[encoded data removed]"
     },
     "metadata": {},
     "output_type": "display_data"
    }
   ],
   "execution_count": 112
  },
  {
   "cell_type": "code",
   "source": "g = sns.catplot(x = \"Title\", y = \"Survived\", data=train_df, kind=\"bar\")\ng.set_xticklabels([\"Master\", \"Mrs\", \"Mr\", \"Other\"])\ng.set_ylabels(\"Survival Probability\")\nplt.show()",
   "metadata": {
    "trusted": true,
    "ExecuteTime": {
     "end_time": "2025-07-12T08:28:37.873531Z",
     "start_time": "2025-07-12T08:28:37.640870Z"
    }
   },
   "outputs": [
    {
     "data": {
      "text/plain": [
       "<Figure size 511.111x500 with 1 Axes>"
      ],
      "image/png": "[encoded data removed]"
     },
     "metadata": {},
     "output_type": "display_data"
    }
   ],
   "execution_count": 113
  },
  {
   "cell_type": "code",
   "source": "train_df.drop(labels=[\"Name\"], axis=1,inplace=True)",
   "metadata": {
    "trusted": true,
    "ExecuteTime": {
     "end_time": "2025-07-12T08:28:37.888605Z",
     "start_time": "2025-07-12T08:28:37.884073Z"
    }
   },
   "outputs": [],
   "execution_count": 114
  },
  {
   "cell_type": "code",
   "source": "train_df.info()",
   "metadata": {
    "trusted": true,
    "ExecuteTime": {
     "end_time": "2025-07-12T08:28:37.933644Z",
     "start_time": "2025-07-12T08:28:37.926001Z"
    }
   },
   "outputs": [
    {
     "name": "stdout",
     "output_type": "stream",
     "text": [
      "<class 'pandas.core.frame.DataFrame'>\n",
      "RangeIndex: 881 entries, 0 to 880\n",
      "Data columns (total 12 columns):\n",
      " #   Column       Non-Null Count  Dtype  \n",
      "---  ------       --------------  -----  \n",
      " 0   PassengerId  881 non-null    int64  \n",
      " 1   Survived     881 non-null    int64  \n",
      " 2   Pclass       881 non-null    int64  \n",
      " 3   Sex          881 non-null    object \n",
      " 4   Age          881 non-null    float64\n",
      " 5   SibSp        881 non-null    int64  \n",
      " 6   Parch        881 non-null    int64  \n",
      " 7   Ticket       881 non-null    object \n",
      " 8   Fare         881 non-null    float64\n",
      " 9   Cabin        201 non-null    object \n",
      " 10  Embarked     881 non-null    object \n",
      " 11  Title        881 non-null    int64  \n",
      "dtypes: float64(2), int64(6), object(4)\n",
      "memory usage: 82.7+ KB\n"
     ]
    }
   ],
   "execution_count": 115
  },
  {
   "cell_type": "code",
   "source": "train_df = pd.get_dummies(train_df, columns=[\"Title\"], dtype=int)\ntrain_df.head()",
   "metadata": {
    "trusted": true,
    "ExecuteTime": {
     "end_time": "2025-07-12T08:28:37.962844Z",
     "start_time": "2025-07-12T08:28:37.949304Z"
    }
   },
   "outputs": [
    {
     "data": {
      "text/plain": [
       "   PassengerId  Survived  Pclass     Sex   Age  SibSp  Parch  \\\n",
       "0            1         0       3    male  22.0      1      0   \n",
       "1            2         1       1  female  38.0      1      0   \n",
       "2            3         1       3  female  26.0      0      0   \n",
       "3            4         1       1  female  35.0      1      0   \n",
       "4            5         0       3    male  35.0      0      0   \n",
       "\n",
       "             Ticket     Fare Cabin Embarked  Title_0  Title_1  Title_2  \\\n",
       "0         A/5 21171   7.2500   NaN        S        0        0        1   \n",
       "1          PC 17599  71.2833   C85        C        0        1        0   \n",
       "2  STON/O2. 3101282   7.9250   NaN        S        0        1        0   \n",
       "3            113803  53.1000  C123        S        0        1        0   \n",
       "4            373450   8.0500   NaN        S        0        0        1   \n",
       "\n",
       "   Title_3  \n",
       "0        0  \n",
       "1        0  \n",
       "2        0  \n",
       "3        0  \n",
       "4        0  "
      ],
      "text/html": [
       "<div>\n",
       "<style scoped>\n",
       "    .dataframe tbody tr th:only-of-type {\n",
       "        vertical-align: middle;\n",
       "    }\n",
       "\n",
       "    .dataframe tbody tr th {\n",
       "        vertical-align: top;\n",
       "    }\n",
       "\n",
       "    .dataframe thead th {\n",
       "        text-align: right;\n",
       "    }\n",
       "</style>\n",
       "<table border=\"1\" class=\"dataframe\">\n",
       "  <thead>\n",
       "    <tr style=\"text-align: right;\">\n",
       "      <th></th>\n",
       "      <th>PassengerId</th>\n",
       "      <th>Survived</th>\n",
       "      <th>Pclass</th>\n",
       "      <th>Sex</th>\n",
       "      <th>Age</th>\n",
       "      <th>SibSp</th>\n",
       "      <th>Parch</th>\n",
       "      <th>Ticket</th>\n",
       "      <th>Fare</th>\n",
       "      <th>Cabin</th>\n",
       "      <th>Embarked</th>\n",
       "      <th>Title_0</th>\n",
       "      <th>Title_1</th>\n",
       "      <th>Title_2</th>\n",
       "      <th>Title_3</th>\n",
       "    </tr>\n",
       "  </thead>\n",
       "  <tbody>\n",
       "    <tr>\n",
       "      <th>0</th>\n",
       "      <td>1</td>\n",
       "      <td>0</td>\n",
       "      <td>3</td>\n",
       "      <td>male</td>\n",
       "      <td>22.0</td>\n",
       "      <td>1</td>\n",
       "      <td>0</td>\n",
       "      <td>A/5 21171</td>\n",
       "      <td>7.2500</td>\n",
       "      <td>NaN</td>\n",
       "      <td>S</td>\n",
       "      <td>0</td>\n",
       "      <td>0</td>\n",
       "      <td>1</td>\n",
       "      <td>0</td>\n",
       "    </tr>\n",
       "    <tr>\n",
       "      <th>1</th>\n",
       "      <td>2</td>\n",
       "      <td>1</td>\n",
       "      <td>1</td>\n",
       "      <td>female</td>\n",
       "      <td>38.0</td>\n",
       "      <td>1</td>\n",
       "      <td>0</td>\n",
       "      <td>PC 17599</td>\n",
       "      <td>71.2833</td>\n",
       "      <td>C85</td>\n",
       "      <td>C</td>\n",
       "      <td>0</td>\n",
       "      <td>1</td>\n",
       "      <td>0</td>\n",
       "      <td>0</td>\n",
       "    </tr>\n",
       "    <tr>\n",
       "      <th>2</th>\n",
       "      <td>3</td>\n",
       "      <td>1</td>\n",
       "      <td>3</td>\n",
       "      <td>female</td>\n",
       "      <td>26.0</td>\n",
       "      <td>0</td>\n",
       "      <td>0</td>\n",
       "      <td>STON/O2. 3101282</td>\n",
       "      <td>7.9250</td>\n",
       "      <td>NaN</td>\n",
       "      <td>S</td>\n",
       "      <td>0</td>\n",
       "      <td>1</td>\n",
       "      <td>0</td>\n",
       "      <td>0</td>\n",
       "    </tr>\n",
       "    <tr>\n",
       "      <th>3</th>\n",
       "      <td>4</td>\n",
       "      <td>1</td>\n",
       "      <td>1</td>\n",
       "      <td>female</td>\n",
       "      <td>35.0</td>\n",
       "      <td>1</td>\n",
       "      <td>0</td>\n",
       "      <td>113803</td>\n",
       "      <td>53.1000</td>\n",
       "      <td>C123</td>\n",
       "      <td>S</td>\n",
       "      <td>0</td>\n",
       "      <td>1</td>\n",
       "      <td>0</td>\n",
       "      <td>0</td>\n",
       "    </tr>\n",
       "    <tr>\n",
       "      <th>4</th>\n",
       "      <td>5</td>\n",
       "      <td>0</td>\n",
       "      <td>3</td>\n",
       "      <td>male</td>\n",
       "      <td>35.0</td>\n",
       "      <td>0</td>\n",
       "      <td>0</td>\n",
       "      <td>373450</td>\n",
       "      <td>8.0500</td>\n",
       "      <td>NaN</td>\n",
       "      <td>S</td>\n",
       "      <td>0</td>\n",
       "      <td>0</td>\n",
       "      <td>1</td>\n",
       "      <td>0</td>\n",
       "    </tr>\n",
       "  </tbody>\n",
       "</table>\n",
       "</div>"
      ]
     },
     "execution_count": 116,
     "metadata": {},
     "output_type": "execute_result"
    }
   ],
   "execution_count": 116
  },
  {
   "cell_type": "markdown",
   "source": "### Family Size",
   "metadata": {}
  },
  {
   "cell_type": "code",
   "source": "train_df.info()",
   "metadata": {
    "trusted": true,
    "ExecuteTime": {
     "end_time": "2025-07-12T08:28:38.014783Z",
     "start_time": "2025-07-12T08:28:38.008235Z"
    }
   },
   "outputs": [
    {
     "name": "stdout",
     "output_type": "stream",
     "text": [
      "<class 'pandas.core.frame.DataFrame'>\n",
      "RangeIndex: 881 entries, 0 to 880\n",
      "Data columns (total 15 columns):\n",
      " #   Column       Non-Null Count  Dtype  \n",
      "---  ------       --------------  -----  \n",
      " 0   PassengerId  881 non-null    int64  \n",
      " 1   Survived     881 non-null    int64  \n",
      " 2   Pclass       881 non-null    int64  \n",
      " 3   Sex          881 non-null    object \n",
      " 4   Age          881 non-null    float64\n",
      " 5   SibSp        881 non-null    int64  \n",
      " 6   Parch        881 non-null    int64  \n",
      " 7   Ticket       881 non-null    object \n",
      " 8   Fare         881 non-null    float64\n",
      " 9   Cabin        201 non-null    object \n",
      " 10  Embarked     881 non-null    object \n",
      " 11  Title_0      881 non-null    int32  \n",
      " 12  Title_1      881 non-null    int32  \n",
      " 13  Title_2      881 non-null    int32  \n",
      " 14  Title_3      881 non-null    int32  \n",
      "dtypes: float64(2), int32(4), int64(5), object(4)\n",
      "memory usage: 89.6+ KB\n"
     ]
    }
   ],
   "execution_count": 117
  },
  {
   "cell_type": "code",
   "source": "train_df[\"Fsize\"] = train_df[\"SibSp\"] + train_df[\"Parch\"] + 1",
   "metadata": {
    "trusted": true,
    "ExecuteTime": {
     "end_time": "2025-07-12T08:28:38.071659Z",
     "start_time": "2025-07-12T08:28:38.068227Z"
    }
   },
   "outputs": [],
   "execution_count": 118
  },
  {
   "cell_type": "code",
   "source": "train_df.info()",
   "metadata": {
    "trusted": true,
    "ExecuteTime": {
     "end_time": "2025-07-12T08:28:38.163468Z",
     "start_time": "2025-07-12T08:28:38.156953Z"
    }
   },
   "outputs": [
    {
     "name": "stdout",
     "output_type": "stream",
     "text": [
      "<class 'pandas.core.frame.DataFrame'>\n",
      "RangeIndex: 881 entries, 0 to 880\n",
      "Data columns (total 16 columns):\n",
      " #   Column       Non-Null Count  Dtype  \n",
      "---  ------       --------------  -----  \n",
      " 0   PassengerId  881 non-null    int64  \n",
      " 1   Survived     881 non-null    int64  \n",
      " 2   Pclass       881 non-null    int64  \n",
      " 3   Sex          881 non-null    object \n",
      " 4   Age          881 non-null    float64\n",
      " 5   SibSp        881 non-null    int64  \n",
      " 6   Parch        881 non-null    int64  \n",
      " 7   Ticket       881 non-null    object \n",
      " 8   Fare         881 non-null    float64\n",
      " 9   Cabin        201 non-null    object \n",
      " 10  Embarked     881 non-null    object \n",
      " 11  Title_0      881 non-null    int32  \n",
      " 12  Title_1      881 non-null    int32  \n",
      " 13  Title_2      881 non-null    int32  \n",
      " 14  Title_3      881 non-null    int32  \n",
      " 15  Fsize        881 non-null    int64  \n",
      "dtypes: float64(2), int32(4), int64(6), object(4)\n",
      "memory usage: 96.5+ KB\n"
     ]
    }
   ],
   "execution_count": 119
  },
  {
   "cell_type": "code",
   "source": "g = sns.catplot(x = \"Fsize\", y = \"Survived\", data=train_df, kind=\"bar\")\ng.set_ylabels(\"Survival\")\nplt.show()",
   "metadata": {
    "trusted": true,
    "ExecuteTime": {
     "end_time": "2025-07-12T08:28:38.522955Z",
     "start_time": "2025-07-12T08:28:38.218140Z"
    }
   },
   "outputs": [
    {
     "data": {
      "text/plain": [
       "<Figure size 511.111x500 with 1 Axes>"
      ],
      "image/png": "[encoded data removed]"
     },
     "metadata": {},
     "output_type": "display_data"
    }
   ],
   "execution_count": 120
  },
  {
   "cell_type": "code",
   "source": "train_df[\"family_size\"] = [1 if i < 5 else 0 for i in train_df[\"Fsize\"]]\ntrain_df.head()",
   "metadata": {
    "trusted": true,
    "ExecuteTime": {
     "end_time": "2025-07-12T08:28:38.552706Z",
     "start_time": "2025-07-12T08:28:38.541454Z"
    }
   },
   "outputs": [
    {
     "data": {
      "text/plain": [
       "   PassengerId  Survived  Pclass     Sex   Age  SibSp  Parch  \\\n",
       "0            1         0       3    male  22.0      1      0   \n",
       "1            2         1       1  female  38.0      1      0   \n",
       "2            3         1       3  female  26.0      0      0   \n",
       "3            4         1       1  female  35.0      1      0   \n",
       "4            5         0       3    male  35.0      0      0   \n",
       "\n",
       "             Ticket     Fare Cabin Embarked  Title_0  Title_1  Title_2  \\\n",
       "0         A/5 21171   7.2500   NaN        S        0        0        1   \n",
       "1          PC 17599  71.2833   C85        C        0        1        0   \n",
       "2  STON/O2. 3101282   7.9250   NaN        S        0        1        0   \n",
       "3            113803  53.1000  C123        S        0        1        0   \n",
       "4            373450   8.0500   NaN        S        0        0        1   \n",
       "\n",
       "   Title_3  Fsize  family_size  \n",
       "0        0      2            1  \n",
       "1        0      2            1  \n",
       "2        0      1            1  \n",
       "3        0      2            1  \n",
       "4        0      1            1  "
      ],
      "text/html": [
       "<div>\n",
       "<style scoped>\n",
       "    .dataframe tbody tr th:only-of-type {\n",
       "        vertical-align: middle;\n",
       "    }\n",
       "\n",
       "    .dataframe tbody tr th {\n",
       "        vertical-align: top;\n",
       "    }\n",
       "\n",
       "    .dataframe thead th {\n",
       "        text-align: right;\n",
       "    }\n",
       "</style>\n",
       "<table border=\"1\" class=\"dataframe\">\n",
       "  <thead>\n",
       "    <tr style=\"text-align: right;\">\n",
       "      <th></th>\n",
       "      <th>PassengerId</th>\n",
       "      <th>Survived</th>\n",
       "      <th>Pclass</th>\n",
       "      <th>Sex</th>\n",
       "      <th>Age</th>\n",
       "      <th>SibSp</th>\n",
       "      <th>Parch</th>\n",
       "      <th>Ticket</th>\n",
       "      <th>Fare</th>\n",
       "      <th>Cabin</th>\n",
       "      <th>Embarked</th>\n",
       "      <th>Title_0</th>\n",
       "      <th>Title_1</th>\n",
       "      <th>Title_2</th>\n",
       "      <th>Title_3</th>\n",
       "      <th>Fsize</th>\n",
       "      <th>family_size</th>\n",
       "    </tr>\n",
       "  </thead>\n",
       "  <tbody>\n",
       "    <tr>\n",
       "      <th>0</th>\n",
       "      <td>1</td>\n",
       "      <td>0</td>\n",
       "      <td>3</td>\n",
       "      <td>male</td>\n",
       "      <td>22.0</td>\n",
       "      <td>1</td>\n",
       "      <td>0</td>\n",
       "      <td>A/5 21171</td>\n",
       "      <td>7.2500</td>\n",
       "      <td>NaN</td>\n",
       "      <td>S</td>\n",
       "      <td>0</td>\n",
       "      <td>0</td>\n",
       "      <td>1</td>\n",
       "      <td>0</td>\n",
       "      <td>2</td>\n",
       "      <td>1</td>\n",
       "    </tr>\n",
       "    <tr>\n",
       "      <th>1</th>\n",
       "      <td>2</td>\n",
       "      <td>1</td>\n",
       "      <td>1</td>\n",
       "      <td>female</td>\n",
       "      <td>38.0</td>\n",
       "      <td>1</td>\n",
       "      <td>0</td>\n",
       "      <td>PC 17599</td>\n",
       "      <td>71.2833</td>\n",
       "      <td>C85</td>\n",
       "      <td>C</td>\n",
       "      <td>0</td>\n",
       "      <td>1</td>\n",
       "      <td>0</td>\n",
       "      <td>0</td>\n",
       "      <td>2</td>\n",
       "      <td>1</td>\n",
       "    </tr>\n",
       "    <tr>\n",
       "      <th>2</th>\n",
       "      <td>3</td>\n",
       "      <td>1</td>\n",
       "      <td>3</td>\n",
       "      <td>female</td>\n",
       "      <td>26.0</td>\n",
       "      <td>0</td>\n",
       "      <td>0</td>\n",
       "      <td>STON/O2. 3101282</td>\n",
       "      <td>7.9250</td>\n",
       "      <td>NaN</td>\n",
       "      <td>S</td>\n",
       "      <td>0</td>\n",
       "      <td>1</td>\n",
       "      <td>0</td>\n",
       "      <td>0</td>\n",
       "      <td>1</td>\n",
       "      <td>1</td>\n",
       "    </tr>\n",
       "    <tr>\n",
       "      <th>3</th>\n",
       "      <td>4</td>\n",
       "      <td>1</td>\n",
       "      <td>1</td>\n",
       "      <td>female</td>\n",
       "      <td>35.0</td>\n",
       "      <td>1</td>\n",
       "      <td>0</td>\n",
       "      <td>113803</td>\n",
       "      <td>53.1000</td>\n",
       "      <td>C123</td>\n",
       "      <td>S</td>\n",
       "      <td>0</td>\n",
       "      <td>1</td>\n",
       "      <td>0</td>\n",
       "      <td>0</td>\n",
       "      <td>2</td>\n",
       "      <td>1</td>\n",
       "    </tr>\n",
       "    <tr>\n",
       "      <th>4</th>\n",
       "      <td>5</td>\n",
       "      <td>0</td>\n",
       "      <td>3</td>\n",
       "      <td>male</td>\n",
       "      <td>35.0</td>\n",
       "      <td>0</td>\n",
       "      <td>0</td>\n",
       "      <td>373450</td>\n",
       "      <td>8.0500</td>\n",
       "      <td>NaN</td>\n",
       "      <td>S</td>\n",
       "      <td>0</td>\n",
       "      <td>0</td>\n",
       "      <td>1</td>\n",
       "      <td>0</td>\n",
       "      <td>1</td>\n",
       "      <td>1</td>\n",
       "    </tr>\n",
       "  </tbody>\n",
       "</table>\n",
       "</div>"
      ]
     },
     "execution_count": 121,
     "metadata": {},
     "output_type": "execute_result"
    }
   ],
   "execution_count": 121
  },
  {
   "cell_type": "code",
   "source": "train_df.info()",
   "metadata": {
    "trusted": true,
    "ExecuteTime": {
     "end_time": "2025-07-12T08:28:38.608212Z",
     "start_time": "2025-07-12T08:28:38.599845Z"
    }
   },
   "outputs": [
    {
     "name": "stdout",
     "output_type": "stream",
     "text": [
      "<class 'pandas.core.frame.DataFrame'>\n",
      "RangeIndex: 881 entries, 0 to 880\n",
      "Data columns (total 17 columns):\n",
      " #   Column       Non-Null Count  Dtype  \n",
      "---  ------       --------------  -----  \n",
      " 0   PassengerId  881 non-null    int64  \n",
      " 1   Survived     881 non-null    int64  \n",
      " 2   Pclass       881 non-null    int64  \n",
      " 3   Sex          881 non-null    object \n",
      " 4   Age          881 non-null    float64\n",
      " 5   SibSp        881 non-null    int64  \n",
      " 6   Parch        881 non-null    int64  \n",
      " 7   Ticket       881 non-null    object \n",
      " 8   Fare         881 non-null    float64\n",
      " 9   Cabin        201 non-null    object \n",
      " 10  Embarked     881 non-null    object \n",
      " 11  Title_0      881 non-null    int32  \n",
      " 12  Title_1      881 non-null    int32  \n",
      " 13  Title_2      881 non-null    int32  \n",
      " 14  Title_3      881 non-null    int32  \n",
      " 15  Fsize        881 non-null    int64  \n",
      " 16  family_size  881 non-null    int64  \n",
      "dtypes: float64(2), int32(4), int64(7), object(4)\n",
      "memory usage: 103.4+ KB\n"
     ]
    }
   ],
   "execution_count": 122
  },
  {
   "cell_type": "code",
   "source": "sns.countplot(x = \"family_size\", data=train_df)\nplt.show()",
   "metadata": {
    "trusted": true,
    "ExecuteTime": {
     "end_time": "2025-07-12T08:28:38.745627Z",
     "start_time": "2025-07-12T08:28:38.668098Z"
    }
   },
   "outputs": [
    {
     "data": {
      "text/plain": [
       "<Figure size 640x480 with 1 Axes>"
      ],
      "image/png": "[encoded data removed]"
     },
     "metadata": {},
     "output_type": "display_data"
    }
   ],
   "execution_count": 123
  },
  {
   "cell_type": "code",
   "source": "train_df = pd.get_dummies(train_df, columns=[\"family_size\"], dtype=int)\ntrain_df.info()",
   "metadata": {
    "trusted": true,
    "ExecuteTime": {
     "end_time": "2025-07-12T08:28:38.829329Z",
     "start_time": "2025-07-12T08:28:38.818735Z"
    }
   },
   "outputs": [
    {
     "name": "stdout",
     "output_type": "stream",
     "text": [
      "<class 'pandas.core.frame.DataFrame'>\n",
      "RangeIndex: 881 entries, 0 to 880\n",
      "Data columns (total 18 columns):\n",
      " #   Column         Non-Null Count  Dtype  \n",
      "---  ------         --------------  -----  \n",
      " 0   PassengerId    881 non-null    int64  \n",
      " 1   Survived       881 non-null    int64  \n",
      " 2   Pclass         881 non-null    int64  \n",
      " 3   Sex            881 non-null    object \n",
      " 4   Age            881 non-null    float64\n",
      " 5   SibSp          881 non-null    int64  \n",
      " 6   Parch          881 non-null    int64  \n",
      " 7   Ticket         881 non-null    object \n",
      " 8   Fare           881 non-null    float64\n",
      " 9   Cabin          201 non-null    object \n",
      " 10  Embarked       881 non-null    object \n",
      " 11  Title_0        881 non-null    int32  \n",
      " 12  Title_1        881 non-null    int32  \n",
      " 13  Title_2        881 non-null    int32  \n",
      " 14  Title_3        881 non-null    int32  \n",
      " 15  Fsize          881 non-null    int64  \n",
      " 16  family_size_0  881 non-null    int32  \n",
      " 17  family_size_1  881 non-null    int32  \n",
      "dtypes: float64(2), int32(6), int64(6), object(4)\n",
      "memory usage: 103.4+ KB\n"
     ]
    }
   ],
   "execution_count": 124
  },
  {
   "cell_type": "markdown",
   "source": "### Embarked",
   "metadata": {}
  },
  {
   "cell_type": "code",
   "source": "train_df[\"Embarked\"].head()",
   "metadata": {
    "trusted": true,
    "ExecuteTime": {
     "end_time": "2025-07-12T08:28:38.874369Z",
     "start_time": "2025-07-12T08:28:38.868224Z"
    }
   },
   "outputs": [
    {
     "data": {
      "text/plain": [
       "0    S\n",
       "1    C\n",
       "2    S\n",
       "3    S\n",
       "4    S\n",
       "Name: Embarked, dtype: object"
      ]
     },
     "execution_count": 125,
     "metadata": {},
     "output_type": "execute_result"
    }
   ],
   "execution_count": 125
  },
  {
   "cell_type": "code",
   "source": "sns.countplot(x=\"Embarked\", data=train_df)\nplt.show()",
   "metadata": {
    "trusted": true,
    "ExecuteTime": {
     "end_time": "2025-07-12T08:28:39.004404Z",
     "start_time": "2025-07-12T08:28:38.925656Z"
    }
   },
   "outputs": [
    {
     "data": {
      "text/plain": [
       "<Figure size 640x480 with 1 Axes>"
      ],
      "image/png": "[encoded data removed]"
     },
     "metadata": {},
     "output_type": "display_data"
    }
   ],
   "execution_count": 126
  },
  {
   "cell_type": "code",
   "source": "train_df = pd.get_dummies(train_df, columns=[\"Embarked\"], dtype=int)\ntrain_df.head()",
   "metadata": {
    "trusted": true,
    "ExecuteTime": {
     "end_time": "2025-07-12T08:28:39.043500Z",
     "start_time": "2025-07-12T08:28:39.030344Z"
    }
   },
   "outputs": [
    {
     "data": {
      "text/plain": [
       "   PassengerId  Survived  Pclass     Sex   Age  SibSp  Parch  \\\n",
       "0            1         0       3    male  22.0      1      0   \n",
       "1            2         1       1  female  38.0      1      0   \n",
       "2            3         1       3  female  26.0      0      0   \n",
       "3            4         1       1  female  35.0      1      0   \n",
       "4            5         0       3    male  35.0      0      0   \n",
       "\n",
       "             Ticket     Fare Cabin  Title_0  Title_1  Title_2  Title_3  Fsize  \\\n",
       "0         A/5 21171   7.2500   NaN        0        0        1        0      2   \n",
       "1          PC 17599  71.2833   C85        0        1        0        0      2   \n",
       "2  STON/O2. 3101282   7.9250   NaN        0        1        0        0      1   \n",
       "3            113803  53.1000  C123        0        1        0        0      2   \n",
       "4            373450   8.0500   NaN        0        0        1        0      1   \n",
       "\n",
       "   family_size_0  family_size_1  Embarked_C  Embarked_Q  Embarked_S  \n",
       "0              0              1           0           0           1  \n",
       "1              0              1           1           0           0  \n",
       "2              0              1           0           0           1  \n",
       "3              0              1           0           0           1  \n",
       "4              0              1           0           0           1  "
      ],
      "text/html": [
       "<div>\n",
       "<style scoped>\n",
       "    .dataframe tbody tr th:only-of-type {\n",
       "        vertical-align: middle;\n",
       "    }\n",
       "\n",
       "    .dataframe tbody tr th {\n",
       "        vertical-align: top;\n",
       "    }\n",
       "\n",
       "    .dataframe thead th {\n",
       "        text-align: right;\n",
       "    }\n",
       "</style>\n",
       "<table border=\"1\" class=\"dataframe\">\n",
       "  <thead>\n",
       "    <tr style=\"text-align: right;\">\n",
       "      <th></th>\n",
       "      <th>PassengerId</th>\n",
       "      <th>Survived</th>\n",
       "      <th>Pclass</th>\n",
       "      <th>Sex</th>\n",
       "      <th>Age</th>\n",
       "      <th>SibSp</th>\n",
       "      <th>Parch</th>\n",
       "      <th>Ticket</th>\n",
       "      <th>Fare</th>\n",
       "      <th>Cabin</th>\n",
       "      <th>Title_0</th>\n",
       "      <th>Title_1</th>\n",
       "      <th>Title_2</th>\n",
       "      <th>Title_3</th>\n",
       "      <th>Fsize</th>\n",
       "      <th>family_size_0</th>\n",
       "      <th>family_size_1</th>\n",
       "      <th>Embarked_C</th>\n",
       "      <th>Embarked_Q</th>\n",
       "      <th>Embarked_S</th>\n",
       "    </tr>\n",
       "  </thead>\n",
       "  <tbody>\n",
       "    <tr>\n",
       "      <th>0</th>\n",
       "      <td>1</td>\n",
       "      <td>0</td>\n",
       "      <td>3</td>\n",
       "      <td>male</td>\n",
       "      <td>22.0</td>\n",
       "      <td>1</td>\n",
       "      <td>0</td>\n",
       "      <td>A/5 21171</td>\n",
       "      <td>7.2500</td>\n",
       "      <td>NaN</td>\n",
       "      <td>0</td>\n",
       "      <td>0</td>\n",
       "      <td>1</td>\n",
       "      <td>0</td>\n",
       "      <td>2</td>\n",
       "      <td>0</td>\n",
       "      <td>1</td>\n",
       "      <td>0</td>\n",
       "      <td>0</td>\n",
       "      <td>1</td>\n",
       "    </tr>\n",
       "    <tr>\n",
       "      <th>1</th>\n",
       "      <td>2</td>\n",
       "      <td>1</td>\n",
       "      <td>1</td>\n",
       "      <td>female</td>\n",
       "      <td>38.0</td>\n",
       "      <td>1</td>\n",
       "      <td>0</td>\n",
       "      <td>PC 17599</td>\n",
       "      <td>71.2833</td>\n",
       "      <td>C85</td>\n",
       "      <td>0</td>\n",
       "      <td>1</td>\n",
       "      <td>0</td>\n",
       "      <td>0</td>\n",
       "      <td>2</td>\n",
       "      <td>0</td>\n",
       "      <td>1</td>\n",
       "      <td>1</td>\n",
       "      <td>0</td>\n",
       "      <td>0</td>\n",
       "    </tr>\n",
       "    <tr>\n",
       "      <th>2</th>\n",
       "      <td>3</td>\n",
       "      <td>1</td>\n",
       "      <td>3</td>\n",
       "      <td>female</td>\n",
       "      <td>26.0</td>\n",
       "      <td>0</td>\n",
       "      <td>0</td>\n",
       "      <td>STON/O2. 3101282</td>\n",
       "      <td>7.9250</td>\n",
       "      <td>NaN</td>\n",
       "      <td>0</td>\n",
       "      <td>1</td>\n",
       "      <td>0</td>\n",
       "      <td>0</td>\n",
       "      <td>1</td>\n",
       "      <td>0</td>\n",
       "      <td>1</td>\n",
       "      <td>0</td>\n",
       "      <td>0</td>\n",
       "      <td>1</td>\n",
       "    </tr>\n",
       "    <tr>\n",
       "      <th>3</th>\n",
       "      <td>4</td>\n",
       "      <td>1</td>\n",
       "      <td>1</td>\n",
       "      <td>female</td>\n",
       "      <td>35.0</td>\n",
       "      <td>1</td>\n",
       "      <td>0</td>\n",
       "      <td>113803</td>\n",
       "      <td>53.1000</td>\n",
       "      <td>C123</td>\n",
       "      <td>0</td>\n",
       "      <td>1</td>\n",
       "      <td>0</td>\n",
       "      <td>0</td>\n",
       "      <td>2</td>\n",
       "      <td>0</td>\n",
       "      <td>1</td>\n",
       "      <td>0</td>\n",
       "      <td>0</td>\n",
       "      <td>1</td>\n",
       "    </tr>\n",
       "    <tr>\n",
       "      <th>4</th>\n",
       "      <td>5</td>\n",
       "      <td>0</td>\n",
       "      <td>3</td>\n",
       "      <td>male</td>\n",
       "      <td>35.0</td>\n",
       "      <td>0</td>\n",
       "      <td>0</td>\n",
       "      <td>373450</td>\n",
       "      <td>8.0500</td>\n",
       "      <td>NaN</td>\n",
       "      <td>0</td>\n",
       "      <td>0</td>\n",
       "      <td>1</td>\n",
       "      <td>0</td>\n",
       "      <td>1</td>\n",
       "      <td>0</td>\n",
       "      <td>1</td>\n",
       "      <td>0</td>\n",
       "      <td>0</td>\n",
       "      <td>1</td>\n",
       "    </tr>\n",
       "  </tbody>\n",
       "</table>\n",
       "</div>"
      ]
     },
     "execution_count": 127,
     "metadata": {},
     "output_type": "execute_result"
    }
   ],
   "execution_count": 127
  },
  {
   "cell_type": "code",
   "source": "train_df.info()",
   "metadata": {
    "trusted": true,
    "ExecuteTime": {
     "end_time": "2025-07-12T08:28:39.125806Z",
     "start_time": "2025-07-12T08:28:39.118071Z"
    }
   },
   "outputs": [
    {
     "name": "stdout",
     "output_type": "stream",
     "text": [
      "<class 'pandas.core.frame.DataFrame'>\n",
      "RangeIndex: 881 entries, 0 to 880\n",
      "Data columns (total 20 columns):\n",
      " #   Column         Non-Null Count  Dtype  \n",
      "---  ------         --------------  -----  \n",
      " 0   PassengerId    881 non-null    int64  \n",
      " 1   Survived       881 non-null    int64  \n",
      " 2   Pclass         881 non-null    int64  \n",
      " 3   Sex            881 non-null    object \n",
      " 4   Age            881 non-null    float64\n",
      " 5   SibSp          881 non-null    int64  \n",
      " 6   Parch          881 non-null    int64  \n",
      " 7   Ticket         881 non-null    object \n",
      " 8   Fare           881 non-null    float64\n",
      " 9   Cabin          201 non-null    object \n",
      " 10  Title_0        881 non-null    int32  \n",
      " 11  Title_1        881 non-null    int32  \n",
      " 12  Title_2        881 non-null    int32  \n",
      " 13  Title_3        881 non-null    int32  \n",
      " 14  Fsize          881 non-null    int64  \n",
      " 15  family_size_0  881 non-null    int32  \n",
      " 16  family_size_1  881 non-null    int32  \n",
      " 17  Embarked_C     881 non-null    int32  \n",
      " 18  Embarked_Q     881 non-null    int32  \n",
      " 19  Embarked_S     881 non-null    int32  \n",
      "dtypes: float64(2), int32(9), int64(6), object(3)\n",
      "memory usage: 106.8+ KB\n"
     ]
    }
   ],
   "execution_count": 128
  },
  {
   "cell_type": "markdown",
   "source": "### PClass",
   "metadata": {}
  },
  {
   "cell_type": "code",
   "source": "sns.countplot(x=\"Pclass\", data=train_df)\nplt.show()",
   "metadata": {
    "trusted": true,
    "ExecuteTime": {
     "end_time": "2025-07-12T08:28:39.262835Z",
     "start_time": "2025-07-12T08:28:39.182674Z"
    }
   },
   "outputs": [
    {
     "data": {
      "text/plain": [
       "<Figure size 640x480 with 1 Axes>"
      ],
      "image/png": "[encoded data removed]"
     },
     "metadata": {},
     "output_type": "display_data"
    }
   ],
   "execution_count": 129
  },
  {
   "cell_type": "code",
   "source": "train_df[\"Pclass\"] = train_df[\"Pclass\"].astype(\"category\")\ntrain_df = pd.get_dummies(train_df, columns=[\"Pclass\"], dtype=int)\ntrain_df.head()",
   "metadata": {
    "trusted": true,
    "ExecuteTime": {
     "end_time": "2025-07-12T08:28:39.352102Z",
     "start_time": "2025-07-12T08:28:39.334094Z"
    }
   },
   "outputs": [
    {
     "data": {
      "text/plain": [
       "   PassengerId  Survived     Sex   Age  SibSp  Parch            Ticket  \\\n",
       "0            1         0    male  22.0      1      0         A/5 21171   \n",
       "1            2         1  female  38.0      1      0          PC 17599   \n",
       "2            3         1  female  26.0      0      0  STON/O2. 3101282   \n",
       "3            4         1  female  35.0      1      0            113803   \n",
       "4            5         0    male  35.0      0      0            373450   \n",
       "\n",
       "      Fare Cabin  Title_0  ...  Title_3  Fsize  family_size_0  family_size_1  \\\n",
       "0   7.2500   NaN        0  ...        0      2              0              1   \n",
       "1  71.2833   C85        0  ...        0      2              0              1   \n",
       "2   7.9250   NaN        0  ...        0      1              0              1   \n",
       "3  53.1000  C123        0  ...        0      2              0              1   \n",
       "4   8.0500   NaN        0  ...        0      1              0              1   \n",
       "\n",
       "   Embarked_C  Embarked_Q  Embarked_S  Pclass_1  Pclass_2  Pclass_3  \n",
       "0           0           0           1         0         0         1  \n",
       "1           1           0           0         1         0         0  \n",
       "2           0           0           1         0         0         1  \n",
       "3           0           0           1         1         0         0  \n",
       "4           0           0           1         0         0         1  \n",
       "\n",
       "[5 rows x 22 columns]"
      ],
      "text/html": [
       "<div>\n",
       "<style scoped>\n",
       "    .dataframe tbody tr th:only-of-type {\n",
       "        vertical-align: middle;\n",
       "    }\n",
       "\n",
       "    .dataframe tbody tr th {\n",
       "        vertical-align: top;\n",
       "    }\n",
       "\n",
       "    .dataframe thead th {\n",
       "        text-align: right;\n",
       "    }\n",
       "</style>\n",
       "<table border=\"1\" class=\"dataframe\">\n",
       "  <thead>\n",
       "    <tr style=\"text-align: right;\">\n",
       "      <th></th>\n",
       "      <th>PassengerId</th>\n",
       "      <th>Survived</th>\n",
       "      <th>Sex</th>\n",
       "      <th>Age</th>\n",
       "      <th>SibSp</th>\n",
       "      <th>Parch</th>\n",
       "      <th>Ticket</th>\n",
       "      <th>Fare</th>\n",
       "      <th>Cabin</th>\n",
       "      <th>Title_0</th>\n",
       "      <th>...</th>\n",
       "      <th>Title_3</th>\n",
       "      <th>Fsize</th>\n",
       "      <th>family_size_0</th>\n",
       "      <th>family_size_1</th>\n",
       "      <th>Embarked_C</th>\n",
       "      <th>Embarked_Q</th>\n",
       "      <th>Embarked_S</th>\n",
       "      <th>Pclass_1</th>\n",
       "      <th>Pclass_2</th>\n",
       "      <th>Pclass_3</th>\n",
       "    </tr>\n",
       "  </thead>\n",
       "  <tbody>\n",
       "    <tr>\n",
       "      <th>0</th>\n",
       "      <td>1</td>\n",
       "      <td>0</td>\n",
       "      <td>male</td>\n",
       "      <td>22.0</td>\n",
       "      <td>1</td>\n",
       "      <td>0</td>\n",
       "      <td>A/5 21171</td>\n",
       "      <td>7.2500</td>\n",
       "      <td>NaN</td>\n",
       "      <td>0</td>\n",
       "      <td>...</td>\n",
       "      <td>0</td>\n",
       "      <td>2</td>\n",
       "      <td>0</td>\n",
       "      <td>1</td>\n",
       "      <td>0</td>\n",
       "      <td>0</td>\n",
       "      <td>1</td>\n",
       "      <td>0</td>\n",
       "      <td>0</td>\n",
       "      <td>1</td>\n",
       "    </tr>\n",
       "    <tr>\n",
       "      <th>1</th>\n",
       "      <td>2</td>\n",
       "      <td>1</td>\n",
       "      <td>female</td>\n",
       "      <td>38.0</td>\n",
       "      <td>1</td>\n",
       "      <td>0</td>\n",
       "      <td>PC 17599</td>\n",
       "      <td>71.2833</td>\n",
       "      <td>C85</td>\n",
       "      <td>0</td>\n",
       "      <td>...</td>\n",
       "      <td>0</td>\n",
       "      <td>2</td>\n",
       "      <td>0</td>\n",
       "      <td>1</td>\n",
       "      <td>1</td>\n",
       "      <td>0</td>\n",
       "      <td>0</td>\n",
       "      <td>1</td>\n",
       "      <td>0</td>\n",
       "      <td>0</td>\n",
       "    </tr>\n",
       "    <tr>\n",
       "      <th>2</th>\n",
       "      <td>3</td>\n",
       "      <td>1</td>\n",
       "      <td>female</td>\n",
       "      <td>26.0</td>\n",
       "      <td>0</td>\n",
       "      <td>0</td>\n",
       "      <td>STON/O2. 3101282</td>\n",
       "      <td>7.9250</td>\n",
       "      <td>NaN</td>\n",
       "      <td>0</td>\n",
       "      <td>...</td>\n",
       "      <td>0</td>\n",
       "      <td>1</td>\n",
       "      <td>0</td>\n",
       "      <td>1</td>\n",
       "      <td>0</td>\n",
       "      <td>0</td>\n",
       "      <td>1</td>\n",
       "      <td>0</td>\n",
       "      <td>0</td>\n",
       "      <td>1</td>\n",
       "    </tr>\n",
       "    <tr>\n",
       "      <th>3</th>\n",
       "      <td>4</td>\n",
       "      <td>1</td>\n",
       "      <td>female</td>\n",
       "      <td>35.0</td>\n",
       "      <td>1</td>\n",
       "      <td>0</td>\n",
       "      <td>113803</td>\n",
       "      <td>53.1000</td>\n",
       "      <td>C123</td>\n",
       "      <td>0</td>\n",
       "      <td>...</td>\n",
       "      <td>0</td>\n",
       "      <td>2</td>\n",
       "      <td>0</td>\n",
       "      <td>1</td>\n",
       "      <td>0</td>\n",
       "      <td>0</td>\n",
       "      <td>1</td>\n",
       "      <td>1</td>\n",
       "      <td>0</td>\n",
       "      <td>0</td>\n",
       "    </tr>\n",
       "    <tr>\n",
       "      <th>4</th>\n",
       "      <td>5</td>\n",
       "      <td>0</td>\n",
       "      <td>male</td>\n",
       "      <td>35.0</td>\n",
       "      <td>0</td>\n",
       "      <td>0</td>\n",
       "      <td>373450</td>\n",
       "      <td>8.0500</td>\n",
       "      <td>NaN</td>\n",
       "      <td>0</td>\n",
       "      <td>...</td>\n",
       "      <td>0</td>\n",
       "      <td>1</td>\n",
       "      <td>0</td>\n",
       "      <td>1</td>\n",
       "      <td>0</td>\n",
       "      <td>0</td>\n",
       "      <td>1</td>\n",
       "      <td>0</td>\n",
       "      <td>0</td>\n",
       "      <td>1</td>\n",
       "    </tr>\n",
       "  </tbody>\n",
       "</table>\n",
       "<p>5 rows × 22 columns</p>\n",
       "</div>"
      ]
     },
     "execution_count": 130,
     "metadata": {},
     "output_type": "execute_result"
    }
   ],
   "execution_count": 130
  },
  {
   "cell_type": "markdown",
   "source": "### Sex",
   "metadata": {}
  },
  {
   "cell_type": "code",
   "source": "train_df[\"Sex\"] = train_df[\"Sex\"].astype(\"category\")\ntrain_df = pd.get_dummies(train_df, columns=[\"Sex\"], dtype=int)\ntrain_df.head()",
   "metadata": {
    "trusted": true,
    "ExecuteTime": {
     "end_time": "2025-07-12T08:28:39.470313Z",
     "start_time": "2025-07-12T08:28:39.451915Z"
    }
   },
   "outputs": [
    {
     "data": {
      "text/plain": [
       "   PassengerId  Survived   Age  SibSp  Parch            Ticket     Fare Cabin  \\\n",
       "0            1         0  22.0      1      0         A/5 21171   7.2500   NaN   \n",
       "1            2         1  38.0      1      0          PC 17599  71.2833   C85   \n",
       "2            3         1  26.0      0      0  STON/O2. 3101282   7.9250   NaN   \n",
       "3            4         1  35.0      1      0            113803  53.1000  C123   \n",
       "4            5         0  35.0      0      0            373450   8.0500   NaN   \n",
       "\n",
       "   Title_0  Title_1  ...  family_size_0  family_size_1  Embarked_C  \\\n",
       "0        0        0  ...              0              1           0   \n",
       "1        0        1  ...              0              1           1   \n",
       "2        0        1  ...              0              1           0   \n",
       "3        0        1  ...              0              1           0   \n",
       "4        0        0  ...              0              1           0   \n",
       "\n",
       "   Embarked_Q  Embarked_S  Pclass_1  Pclass_2  Pclass_3  Sex_female  Sex_male  \n",
       "0           0           1         0         0         1           0         1  \n",
       "1           0           0         1         0         0           1         0  \n",
       "2           0           1         0         0         1           1         0  \n",
       "3           0           1         1         0         0           1         0  \n",
       "4           0           1         0         0         1           0         1  \n",
       "\n",
       "[5 rows x 23 columns]"
      ],
      "text/html": [
       "<div>\n",
       "<style scoped>\n",
       "    .dataframe tbody tr th:only-of-type {\n",
       "        vertical-align: middle;\n",
       "    }\n",
       "\n",
       "    .dataframe tbody tr th {\n",
       "        vertical-align: top;\n",
       "    }\n",
       "\n",
       "    .dataframe thead th {\n",
       "        text-align: right;\n",
       "    }\n",
       "</style>\n",
       "<table border=\"1\" class=\"dataframe\">\n",
       "  <thead>\n",
       "    <tr style=\"text-align: right;\">\n",
       "      <th></th>\n",
       "      <th>PassengerId</th>\n",
       "      <th>Survived</th>\n",
       "      <th>Age</th>\n",
       "      <th>SibSp</th>\n",
       "      <th>Parch</th>\n",
       "      <th>Ticket</th>\n",
       "      <th>Fare</th>\n",
       "      <th>Cabin</th>\n",
       "      <th>Title_0</th>\n",
       "      <th>Title_1</th>\n",
       "      <th>...</th>\n",
       "      <th>family_size_0</th>\n",
       "      <th>family_size_1</th>\n",
       "      <th>Embarked_C</th>\n",
       "      <th>Embarked_Q</th>\n",
       "      <th>Embarked_S</th>\n",
       "      <th>Pclass_1</th>\n",
       "      <th>Pclass_2</th>\n",
       "      <th>Pclass_3</th>\n",
       "      <th>Sex_female</th>\n",
       "      <th>Sex_male</th>\n",
       "    </tr>\n",
       "  </thead>\n",
       "  <tbody>\n",
       "    <tr>\n",
       "      <th>0</th>\n",
       "      <td>1</td>\n",
       "      <td>0</td>\n",
       "      <td>22.0</td>\n",
       "      <td>1</td>\n",
       "      <td>0</td>\n",
       "      <td>A/5 21171</td>\n",
       "      <td>7.2500</td>\n",
       "      <td>NaN</td>\n",
       "      <td>0</td>\n",
       "      <td>0</td>\n",
       "      <td>...</td>\n",
       "      <td>0</td>\n",
       "      <td>1</td>\n",
       "      <td>0</td>\n",
       "      <td>0</td>\n",
       "      <td>1</td>\n",
       "      <td>0</td>\n",
       "      <td>0</td>\n",
       "      <td>1</td>\n",
       "      <td>0</td>\n",
       "      <td>1</td>\n",
       "    </tr>\n",
       "    <tr>\n",
       "      <th>1</th>\n",
       "      <td>2</td>\n",
       "      <td>1</td>\n",
       "      <td>38.0</td>\n",
       "      <td>1</td>\n",
       "      <td>0</td>\n",
       "      <td>PC 17599</td>\n",
       "      <td>71.2833</td>\n",
       "      <td>C85</td>\n",
       "      <td>0</td>\n",
       "      <td>1</td>\n",
       "      <td>...</td>\n",
       "      <td>0</td>\n",
       "      <td>1</td>\n",
       "      <td>1</td>\n",
       "      <td>0</td>\n",
       "      <td>0</td>\n",
       "      <td>1</td>\n",
       "      <td>0</td>\n",
       "      <td>0</td>\n",
       "      <td>1</td>\n",
       "      <td>0</td>\n",
       "    </tr>\n",
       "    <tr>\n",
       "      <th>2</th>\n",
       "      <td>3</td>\n",
       "      <td>1</td>\n",
       "      <td>26.0</td>\n",
       "      <td>0</td>\n",
       "      <td>0</td>\n",
       "      <td>STON/O2. 3101282</td>\n",
       "      <td>7.9250</td>\n",
       "      <td>NaN</td>\n",
       "      <td>0</td>\n",
       "      <td>1</td>\n",
       "      <td>...</td>\n",
       "      <td>0</td>\n",
       "      <td>1</td>\n",
       "      <td>0</td>\n",
       "      <td>0</td>\n",
       "      <td>1</td>\n",
       "      <td>0</td>\n",
       "      <td>0</td>\n",
       "      <td>1</td>\n",
       "      <td>1</td>\n",
       "      <td>0</td>\n",
       "    </tr>\n",
       "    <tr>\n",
       "      <th>3</th>\n",
       "      <td>4</td>\n",
       "      <td>1</td>\n",
       "      <td>35.0</td>\n",
       "      <td>1</td>\n",
       "      <td>0</td>\n",
       "      <td>113803</td>\n",
       "      <td>53.1000</td>\n",
       "      <td>C123</td>\n",
       "      <td>0</td>\n",
       "      <td>1</td>\n",
       "      <td>...</td>\n",
       "      <td>0</td>\n",
       "      <td>1</td>\n",
       "      <td>0</td>\n",
       "      <td>0</td>\n",
       "      <td>1</td>\n",
       "      <td>1</td>\n",
       "      <td>0</td>\n",
       "      <td>0</td>\n",
       "      <td>1</td>\n",
       "      <td>0</td>\n",
       "    </tr>\n",
       "    <tr>\n",
       "      <th>4</th>\n",
       "      <td>5</td>\n",
       "      <td>0</td>\n",
       "      <td>35.0</td>\n",
       "      <td>0</td>\n",
       "      <td>0</td>\n",
       "      <td>373450</td>\n",
       "      <td>8.0500</td>\n",
       "      <td>NaN</td>\n",
       "      <td>0</td>\n",
       "      <td>0</td>\n",
       "      <td>...</td>\n",
       "      <td>0</td>\n",
       "      <td>1</td>\n",
       "      <td>0</td>\n",
       "      <td>0</td>\n",
       "      <td>1</td>\n",
       "      <td>0</td>\n",
       "      <td>0</td>\n",
       "      <td>1</td>\n",
       "      <td>0</td>\n",
       "      <td>1</td>\n",
       "    </tr>\n",
       "  </tbody>\n",
       "</table>\n",
       "<p>5 rows × 23 columns</p>\n",
       "</div>"
      ]
     },
     "execution_count": 131,
     "metadata": {},
     "output_type": "execute_result"
    }
   ],
   "execution_count": 131
  },
  {
   "cell_type": "code",
   "source": "# Cabin numarası olmayanları 0 ile dolduruyorum. Bu feature'ı da bir sınıf olarak kabul edeceğim.\n\ntrain_df['Has_Cabin'] = np.where(train_df['Cabin'].notnull(), 1, 0)\n#X_test['Has_Cabin'] = np.where(X_test['Cabin'].notnull(), 1, 0)\n\ntrain_df.drop('Cabin', axis=1, inplace=True)\n#X_test.drop('Cabin', axis=1, inplace=True)\n\ntrain_df.info()\n#X_test.info()",
   "metadata": {
    "trusted": true,
    "ExecuteTime": {
     "end_time": "2025-07-12T08:28:39.569609Z",
     "start_time": "2025-07-12T08:28:39.559603Z"
    }
   },
   "outputs": [
    {
     "name": "stdout",
     "output_type": "stream",
     "text": [
      "<class 'pandas.core.frame.DataFrame'>\n",
      "RangeIndex: 881 entries, 0 to 880\n",
      "Data columns (total 23 columns):\n",
      " #   Column         Non-Null Count  Dtype  \n",
      "---  ------         --------------  -----  \n",
      " 0   PassengerId    881 non-null    int64  \n",
      " 1   Survived       881 non-null    int64  \n",
      " 2   Age            881 non-null    float64\n",
      " 3   SibSp          881 non-null    int64  \n",
      " 4   Parch          881 non-null    int64  \n",
      " 5   Ticket         881 non-null    object \n",
      " 6   Fare           881 non-null    float64\n",
      " 7   Title_0        881 non-null    int32  \n",
      " 8   Title_1        881 non-null    int32  \n",
      " 9   Title_2        881 non-null    int32  \n",
      " 10  Title_3        881 non-null    int32  \n",
      " 11  Fsize          881 non-null    int64  \n",
      " 12  family_size_0  881 non-null    int32  \n",
      " 13  family_size_1  881 non-null    int32  \n",
      " 14  Embarked_C     881 non-null    int32  \n",
      " 15  Embarked_Q     881 non-null    int32  \n",
      " 16  Embarked_S     881 non-null    int32  \n",
      " 17  Pclass_1       881 non-null    int32  \n",
      " 18  Pclass_2       881 non-null    int32  \n",
      " 19  Pclass_3       881 non-null    int32  \n",
      " 20  Sex_female     881 non-null    int32  \n",
      " 21  Sex_male       881 non-null    int32  \n",
      " 22  Has_Cabin      881 non-null    int32  \n",
      "dtypes: float64(2), int32(15), int64(5), object(1)\n",
      "memory usage: 106.8+ KB\n"
     ]
    }
   ],
   "execution_count": 132
  },
  {
   "cell_type": "code",
   "source": "# Ticket ve PassengerId'in tamamen gereksiz featurelar olduğunu düşünüyorum. Bunları modele veri olarak vermyeceğim.\ntrain_df.drop(labels=[\"Ticket\", \"PassengerId\", \"Fsize\"], axis=1, inplace=True)",
   "metadata": {
    "trusted": true,
    "ExecuteTime": {
     "end_time": "2025-07-12T08:28:39.726174Z",
     "start_time": "2025-07-12T08:28:39.718550Z"
    }
   },
   "outputs": [],
   "execution_count": 133
  },
  {
   "cell_type": "markdown",
   "source": "# Modeling",
   "metadata": {}
  },
  {
   "cell_type": "markdown",
   "source": "### KNN ile Model Eğitimi",
   "metadata": {}
  },
  {
   "cell_type": "code",
   "source": "from sklearn.model_selection import train_test_split, StratifiedKFold, GridSearchCV\nfrom sklearn.linear_model import LogisticRegression\nfrom sklearn.svm import SVC\nfrom sklearn.ensemble import RandomForestClassifier, VotingClassifier\nfrom sklearn.neighbors import KNeighborsClassifier\nfrom sklearn.tree import DecisionTreeClassifier\nfrom sklearn.metrics import accuracy_score",
   "metadata": {
    "trusted": true,
    "ExecuteTime": {
     "end_time": "2025-07-12T08:28:39.870368Z",
     "start_time": "2025-07-12T08:28:39.865873Z"
    }
   },
   "outputs": [],
   "execution_count": 134
  },
  {
   "cell_type": "markdown",
   "source": "## Train Test Split",
   "metadata": {}
  },
  {
   "cell_type": "code",
   "source": "train = train_df.copy()\n\nX_train = train.drop(labels=\"Survived\", axis=1)\ny_train = train[\"Survived\"]\nX_train, X_test, y_train, y_test = train_test_split(X_train, y_train, test_size=0.33, random_state=42)\n\nprint(f\"X train: {len(X_train)}\")\nprint(f\"X test: {len(X_test)}\")\nprint(f\"Y train: {len(y_train)}\")\nprint(f\"Y test: {len(y_train)}\")",
   "metadata": {
    "trusted": true,
    "ExecuteTime": {
     "end_time": "2025-07-12T08:28:39.983694Z",
     "start_time": "2025-07-12T08:28:39.977507Z"
    }
   },
   "outputs": [
    {
     "name": "stdout",
     "output_type": "stream",
     "text": [
      "X train: 590\n",
      "X test: 291\n",
      "Y train: 590\n",
      "Y test: 590\n"
     ]
    }
   ],
   "execution_count": 135
  },
  {
   "cell_type": "markdown",
   "source": "## Simple Logistic Regression",
   "metadata": {}
  },
  {
   "cell_type": "code",
   "source": "logreg = LogisticRegression()\nlogreg.fit(X_train, y_train)\n\nacc_log_train = round(logreg.score(X_train, y_train)*100, 2)\nacc_log_test = round(logreg.score(X_test, y_test)*100,2)\n\nprint(f\"Train accuracy score: {acc_log_train}\")\nprint(f\"Test accuracy score: {acc_log_test}\")",
   "metadata": {
    "trusted": true,
    "ExecuteTime": {
     "end_time": "2025-07-12T08:28:40.039410Z",
     "start_time": "2025-07-12T08:28:40.018334Z"
    }
   },
   "outputs": [
    {
     "name": "stdout",
     "output_type": "stream",
     "text": [
      "Train accuracy score: 82.54\n",
      "Test accuracy score: 83.85\n"
     ]
    }
   ],
   "execution_count": 136
  },
  {
   "cell_type": "markdown",
   "source": "## HyperParameter Tuning -- Grid Search -- CrossValidation\n\nWe will compare 5 ml classifier and evaluate mean accuracy of each of them by stratified cross validation.\n- Decision Tree\n- SVM\n- Random Forest\n- KNN\n- Logistic Regression",
   "metadata": {}
  },
  {
   "cell_type": "code",
   "source": "X_train.info()",
   "metadata": {
    "trusted": true,
    "ExecuteTime": {
     "end_time": "2025-07-12T08:28:40.085634Z",
     "start_time": "2025-07-12T08:28:40.075523Z"
    }
   },
   "outputs": [
    {
     "name": "stdout",
     "output_type": "stream",
     "text": [
      "<class 'pandas.core.frame.DataFrame'>\n",
      "Index: 590 entries, 234 to 102\n",
      "Data columns (total 19 columns):\n",
      " #   Column         Non-Null Count  Dtype  \n",
      "---  ------         --------------  -----  \n",
      " 0   Age            590 non-null    float64\n",
      " 1   SibSp          590 non-null    int64  \n",
      " 2   Parch          590 non-null    int64  \n",
      " 3   Fare           590 non-null    float64\n",
      " 4   Title_0        590 non-null    int32  \n",
      " 5   Title_1        590 non-null    int32  \n",
      " 6   Title_2        590 non-null    int32  \n",
      " 7   Title_3        590 non-null    int32  \n",
      " 8   family_size_0  590 non-null    int32  \n",
      " 9   family_size_1  590 non-null    int32  \n",
      " 10  Embarked_C     590 non-null    int32  \n",
      " 11  Embarked_Q     590 non-null    int32  \n",
      " 12  Embarked_S     590 non-null    int32  \n",
      " 13  Pclass_1       590 non-null    int32  \n",
      " 14  Pclass_2       590 non-null    int32  \n",
      " 15  Pclass_3       590 non-null    int32  \n",
      " 16  Sex_female     590 non-null    int32  \n",
      " 17  Sex_male       590 non-null    int32  \n",
      " 18  Has_Cabin      590 non-null    int32  \n",
      "dtypes: float64(2), int32(15), int64(2)\n",
      "memory usage: 57.6 KB\n"
     ]
    }
   ],
   "execution_count": 137
  },
  {
   "cell_type": "code",
   "source": [
    "random_state = 42\n",
    "classifiers = [DecisionTreeClassifier(random_state=random_state),\n",
    "               SVC(random_state=random_state),\n",
    "               RandomForestClassifier(random_state=random_state),\n",
    "               LogisticRegression(random_state=random_state),\n",
    "               KNeighborsClassifier()]\n",
    "\n",
    "\n",
    "dt_param_grid = {\"min_samples_split\": range(10,100,5),\n",
    "                 \"max_depth\": range(1, 20, 1)}\n",
    "\n",
    "svc_param_grid = {\"kernel\": [\"rbf\"],\n",
    "                  \"gamma\": [0.001, 0.01, 0.1, 1],\n",
    "                  \"C\": [1, 10, 50, 100, 200, 300, 1000]}\n",
    "\n",
    "rf_param_grid = {\"max_features\": [2, 5, 8, 10, 12], # Rastgele Feature Bölümleme\n",
    "                 \"min_samples_split\": [10, 25, 50],\n",
    "                 \"min_samples_leaf\": [5, 20, 40],\n",
    "                 \"bootstrap\": [True],\n",
    "                 \"n_estimators\": [50, 100, 150, 200, 250, 300],\n",
    "                 \"criterion\": [\"gini\"]}\n",
    "\n",
    "logreg_param_grid = {\"C\": np.logspace(-3,3,7),\n",
    "                     \"penalty\": [\"l1\", \"l2\"],\n",
    "                     \"solver\": [\"liblinear\"]}\n",
    "\n",
    "knn_param_grid = {\"n_neighbors\": np.linspace(1, 19, num=10, dtype=int).tolist(),\n",
    "                  \"weights\": [\"uniform\", \"distance\"],\n",
    "                  \"metric\": [\"euclidean\", \"manhattan\"]}\n",
    "\n",
    "classifier_param = [dt_param_grid,\n",
    "                    svc_param_grid,\n",
    "                    rf_param_grid,\n",
    "                    logreg_param_grid,\n",
    "                    knn_param_grid]"
   ],
   "metadata": {
    "trusted": true,
    "ExecuteTime": {
     "end_time": "2025-07-12T08:33:55.167185Z",
     "start_time": "2025-07-12T08:33:55.158046Z"
    }
   },
   "outputs": [],
   "execution_count": 142
  },
  {
   "cell_type": "code",
   "source": "cv_result = []\nbest_estimators = []\nfor i in range(len(classifiers)):\n    clf = GridSearchCV(classifiers[i], param_grid=classifier_param[i], cv=StratifiedKFold(n_splits=10), scoring=\"accuracy\", n_jobs=-1, verbose=1)\n    clf.fit(X_train, y_train)\n    cv_result.append(clf.best_score_)\n    best_estimators.append(clf.best_estimator_)\n    print(cv_result[i])",
   "metadata": {
    "trusted": true,
    "ExecuteTime": {
     "end_time": "2025-07-12T08:35:11.280707Z",
     "start_time": "2025-07-12T08:33:55.564561Z"
    }
   },
   "outputs": [
    {
     "name": "stdout",
     "output_type": "stream",
     "text": [
      "Fitting 10 folds for each of 342 candidates, totalling 3420 fits\n",
      "0.8322033898305085\n",
      "Fitting 10 folds for each of 28 candidates, totalling 280 fits\n",
      "0.7966101694915253\n",
      "Fitting 10 folds for each of 270 candidates, totalling 2700 fits\n",
      "0.8508474576271187\n",
      "Fitting 10 folds for each of 14 candidates, totalling 140 fits\n",
      "0.8220338983050848\n",
      "Fitting 10 folds for each of 40 candidates, totalling 400 fits\n",
      "0.7779661016949152\n"
     ]
    }
   ],
   "execution_count": 143
  },
  {
   "cell_type": "code",
   "source": "cv_results = pd.DataFrame({\"Cross Validation Accuracy Means\":cv_result, \"ML Models\":[\"DecisionTreeClassifier\", \"SVM\", \"RandomForestTree\", \"LogisticRegression\", \"KNN\"]})\ncv_results",
   "metadata": {
    "trusted": true,
    "ExecuteTime": {
     "end_time": "2025-07-12T08:35:17.949564Z",
     "start_time": "2025-07-12T08:35:17.940504Z"
    }
   },
   "outputs": [
    {
     "data": {
      "text/plain": [
       "   Cross Validation Accuracy Means               ML Models\n",
       "0                         0.832203  DecisionTreeClassifier\n",
       "1                         0.796610                     SVM\n",
       "2                         0.850847        RandomForestTree\n",
       "3                         0.822034      LogisticRegression\n",
       "4                         0.777966                     KNN"
      ],
      "text/html": [
       "<div>\n",
       "<style scoped>\n",
       "    .dataframe tbody tr th:only-of-type {\n",
       "        vertical-align: middle;\n",
       "    }\n",
       "\n",
       "    .dataframe tbody tr th {\n",
       "        vertical-align: top;\n",
       "    }\n",
       "\n",
       "    .dataframe thead th {\n",
       "        text-align: right;\n",
       "    }\n",
       "</style>\n",
       "<table border=\"1\" class=\"dataframe\">\n",
       "  <thead>\n",
       "    <tr style=\"text-align: right;\">\n",
       "      <th></th>\n",
       "      <th>Cross Validation Accuracy Means</th>\n",
       "      <th>ML Models</th>\n",
       "    </tr>\n",
       "  </thead>\n",
       "  <tbody>\n",
       "    <tr>\n",
       "      <th>0</th>\n",
       "      <td>0.832203</td>\n",
       "      <td>DecisionTreeClassifier</td>\n",
       "    </tr>\n",
       "    <tr>\n",
       "      <th>1</th>\n",
       "      <td>0.796610</td>\n",
       "      <td>SVM</td>\n",
       "    </tr>\n",
       "    <tr>\n",
       "      <th>2</th>\n",
       "      <td>0.850847</td>\n",
       "      <td>RandomForestTree</td>\n",
       "    </tr>\n",
       "    <tr>\n",
       "      <th>3</th>\n",
       "      <td>0.822034</td>\n",
       "      <td>LogisticRegression</td>\n",
       "    </tr>\n",
       "    <tr>\n",
       "      <th>4</th>\n",
       "      <td>0.777966</td>\n",
       "      <td>KNN</td>\n",
       "    </tr>\n",
       "  </tbody>\n",
       "</table>\n",
       "</div>"
      ]
     },
     "execution_count": 144,
     "metadata": {},
     "output_type": "execute_result"
    }
   ],
   "execution_count": 144
  },
  {
   "cell_type": "code",
   "source": "s = sns.barplot(cv_results, x=\"ML Models\", y=\"Cross Validation Accuracy Means\")",
   "metadata": {
    "trusted": true,
    "ExecuteTime": {
     "end_time": "2025-07-12T08:35:20.448477Z",
     "start_time": "2025-07-12T08:35:20.332492Z"
    }
   },
   "outputs": [
    {
     "data": {
      "text/plain": [
       "<Figure size 640x480 with 1 Axes>"
      ],
      "image/png": "[encoded data removed]"
     },
     "metadata": {},
     "output_type": "display_data"
    }
   ],
   "execution_count": 145
  },
  {
   "cell_type": "markdown",
   "source": "## Ensemble Modeling",
   "metadata": {}
  },
  {
   "cell_type": "code",
   "source": "# 3 farklı classifier'ın oylama yöntemi ile karar verilmesi...\nvotingC = VotingClassifier(estimators=[(\"dt\", best_estimators[0]), (\"rfc\", best_estimators[2]), (\"lr\", best_estimators[3])], voting=\"soft\", n_jobs=-1)\nvotingC = votingC.fit(X_train, y_train)\nprint(accuracy_score(votingC.predict(X_test), y_test))",
   "metadata": {
    "trusted": true,
    "ExecuteTime": {
     "end_time": "2025-07-12T08:35:34.768909Z",
     "start_time": "2025-07-12T08:35:34.509155Z"
    }
   },
   "outputs": [
    {
     "name": "stdout",
     "output_type": "stream",
     "text": [
      "0.8213058419243986\n"
     ]
    }
   ],
   "execution_count": 146
  },
  {
   "metadata": {},
   "cell_type": "code",
   "outputs": [],
   "execution_count": null,
   "source": ""
  }
 ]
}
